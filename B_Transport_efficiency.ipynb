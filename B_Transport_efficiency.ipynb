{
 "cells": [
  {
   "cell_type": "markdown",
   "metadata": {
    "tags": []
   },
   "source": [
    "# <font style=\"color: rgb(0,0,0);\">Option B: </font> <font style=\"color: rgb(190,138,67);\">Transport efficiency</font>"
   ]
  },
  {
   "cell_type": "code",
   "execution_count": 8,
   "metadata": {},
   "outputs": [],
   "source": [
    "from PIL import Image, ImageTk, ImageMath, ImageOps\n",
    "Image.MAX_IMAGE_PIXELS = 1000000000\n",
    "import PIL.ImageGrab as ImageGrab\n",
    "import cv2\n",
    "import numpy as np\n",
    "from tqdm.notebook import tqdm\n",
    "import matplotlib.pyplot as plt\n",
    "import pandas as pd\n",
    "pd.set_option('display.expand_frame_repr', False)\n",
    "import matplotlib.pyplot as plt\n",
    "import matplotlib.pylab as pl\n",
    "import matplotlib.gridspec as gridspec\n",
    "from io import StringIO\n",
    "from csv import writer \n",
    "from scipy import integrate\n",
    "import math\n",
    "import time as time_lib\n",
    "import xarray as xr\n",
    "import subprocess\n",
    "import json\n",
    "from prettytable import *\n",
    "\n",
    "def current_milli_time():\n",
    "    return round(time_lib.time() * 1000 *1000)"
   ]
  },
  {
   "cell_type": "code",
   "execution_count": 2,
   "metadata": {},
   "outputs": [],
   "source": [
    "from A_helper_functions import *"
   ]
  },
  {
   "cell_type": "markdown",
   "metadata": {},
   "source": [
    "## Launch Segment simulation"
   ]
  },
  {
   "cell_type": "code",
   "execution_count": 207,
   "metadata": {},
   "outputs": [],
   "source": [
    "a = 217\n",
    "b = 0.0036\n",
    "\n",
    "def f(t,rad=False):\n",
    "    global a, b\n",
    "    # np.tan(phi)= a - b*t\n",
    "    phi = np.arctan(b*(a+t))\n",
    "    if rad: return phi\n",
    "    else: return np.rad2deg(phi)"
   ]
  },
  {
   "cell_type": "code",
   "execution_count": 208,
   "metadata": {},
   "outputs": [],
   "source": [
    "# global constants\n",
    "\n",
    "r_moon = 1737400    # [m] volumetric mean radius of the moon = reference height from heightmap\n",
    "m_moon = 0.07346e24 # [kg] mass of the moon\n",
    "G = 6.67430e-11 # Gravitational constant\n",
    "\n",
    "# for later in simulation\n",
    "m_full = 0\n",
    "m_flow = 0\n",
    "EEV = 0\n",
    "\n",
    "def deltaV(mass_fuel_used,mass_full,EEV):\n",
    "    # compute deltaV from used mass of fuel\n",
    "    dV = EEV * np.log(mass_full / (mass_full-mass_fuel_used))\n",
    "    return dV\n",
    "\n",
    "def downrange_distance(pos):\n",
    "    # known starting point at [ x = 0, y = r_moon ]\n",
    "    alpha = angle(pos)\n",
    "    # circular arc = alpha * r\n",
    "    dist = alpha * r_moon\n",
    "    return dist\n",
    "\n",
    "def orbital_velocity(altitude):\n",
    "    return np.sqrt((G * m_moon)/(r_moon + altitude))\n",
    "\n",
    "def altitude(pos):\n",
    "    r = np.linalg.norm(pos)\n",
    "    return r - r_moon\n",
    "\n",
    "def vec_from_angle(deg): # in [x,y] cartesian-coordinates\n",
    "    rad = np.deg2rad(90-deg)\n",
    "\n",
    "    y = np.sin(rad)\n",
    "    x = np.cos(rad)\n",
    "    vec = np.array([x,y,0], dtype=np.float64)\n",
    "    \n",
    "    return vec\n",
    "\n",
    "def angle(vec,v_ref=None,rad=False):\n",
    "    \n",
    "    if v_ref is not None:\n",
    "        vector_1 = v_ref\n",
    "    else:\n",
    "        vector_1 = [0, 1, 0]\n",
    "    vector_2 = vec\n",
    "    \n",
    "    if np.linalg.norm(vector_2) == 0: return None\n",
    "\n",
    "    unit_vector_1 = vector_1 / np.linalg.norm(vector_1)\n",
    "    unit_vector_2 = vector_2 / np.linalg.norm(vector_2)\n",
    "    dot_product = np.dot(unit_vector_1, unit_vector_2)\n",
    "    angle = np.arccos(dot_product)\n",
    "    \n",
    "    if vec[0]<0:\n",
    "        angle = 2*np.pi - angle\n",
    "    \n",
    "    if rad: return angle\n",
    "    return np.rad2deg(angle)\n",
    "\n",
    "def r_sys(vec, pos):\n",
    "\n",
    "    alpha = angle(pos,rad=True)\n",
    "    rot = np.array([[np.cos(alpha), -np.sin(alpha)], [np.sin(alpha), np.cos(alpha)]])\n",
    "    v = np.array([vec[0], vec[1]], dtype=np.float64)\n",
    "    v2 = np.dot(rot, v)\n",
    "    r_vec = np.array([v2[0], v2[1], vec[2]], dtype=np.float64)\n",
    "\n",
    "    return r_vec\n",
    "\n",
    "def rel_sys(vec, pos):\n",
    "\n",
    "    e_r = pos / np.linalg.norm(pos)\n",
    "    e_phi = np.cross(e_r, [0, 0, 1])\n",
    "    \n",
    "    rel_vec = vec[0]*e_phi + vec[1]*e_r\n",
    "\n",
    "    return rel_vec\n",
    "\n",
    "def log(csv_writer,time,pos,vel,acc,m,dir_n):\n",
    "    x = 1\n",
    "    # logging results only every x seconds\n",
    "    if (time*1000)%(x) == 0:\n",
    "        write_data_row(csv_writer,time,pos,vel,acc,m,dir_n)\n",
    "         \n",
    "def write_data_row(csv_writer,time,pos,vel,acc,m,dir_n):\n",
    "    csv_writer.writerow([time,m,altitude(pos),pos[0],pos[1],pos[2],r_sys(vel,pos)[1],r_sys(vel,pos)[0],vel[0],vel[1],vel[2],r_sys(acc,pos)[1],r_sys(acc,pos)[0],acc[0],acc[1],acc[2],angle(dir_n)])\n",
    "    \n",
    "def phys_sim_step(time,t_step, pos, vel, acc, dir_n):\n",
    "    \n",
    "    # one sim step BEGIN\n",
    "    # Velocity Verlet - numerical solution to differential equation\n",
    "    ###############################\n",
    "    new_pos = np.add( np.add(pos, vel*t_step) , acc*(t_step*t_step*0.5))\n",
    "    new_acc = np.add( dir_n * acc_propulsion(time), acc_grav_moon(pos))\n",
    "    new_vel = np.add( vel , (np.add(acc,new_acc))*(t_step*0.5))\n",
    "    \n",
    "    new_time = np.around(time + t_step,6) # digit_precision = 6\n",
    "    \n",
    "    return new_time,new_pos,new_vel,new_acc ;\n",
    "\n",
    "    ###############################\n",
    "    # one sim step END\n",
    "\n",
    "def phys_sim_step_prop(time,t_step, pos, vel, acc):\n",
    "    \n",
    "    # one sim step BEGIN\n",
    "    # Velocity Verlet - numerical solution to differential equation\n",
    "    ###############################\n",
    "    new_pos = np.add( np.add(pos, vel*t_step) , acc*(t_step*t_step*0.5))\n",
    "    new_acc = acc_grav_moon(pos)\n",
    "    new_vel = np.add( vel , (np.add(acc,new_acc))*(t_step*0.5))\n",
    "    \n",
    "    new_time = np.around(time + t_step,6) # digit_precision = 6\n",
    "    \n",
    "    return new_time,new_pos,new_vel,new_acc ;\n",
    "\n",
    "    ###############################\n",
    "    # one sim step END\n",
    "\n",
    "    \n",
    "def acc_propulsion(time):\n",
    "    global F_thrust\n",
    "    acc = F_thrust / mass(time)\n",
    "    return acc\n",
    "\n",
    "def acc_grav_moon(pos):\n",
    "    r = np.linalg.norm(pos)\n",
    "    r_val = G * (m_moon/(r**2))\n",
    "    e_r = -(pos / r)\n",
    "    return (e_r * r_val)\n",
    "\n",
    "def mass(time):\n",
    "    global m_full, m_flow\n",
    "    m = m_full - (time * m_flow)\n",
    "    return m\n",
    "\n",
    "def calc_t_step(vel):\n",
    "    # to keep the error smaller when velocity is high\n",
    "    v_norm = np.linalg.norm(vel)\n",
    "    t_step = 0.1 * (1/(v_norm+1) )\n",
    "    return t_step\n",
    "\n",
    "\n",
    "def simulation(t_step,start_altitude,target_altitude,mass_dry,mass_full,mass_flow,df_return=False):\n",
    "    global m_full, m_flow, EEV, F_thrust\n",
    "    \n",
    "    m_flow = mass_flow\n",
    "    m_full = mass_full\n",
    "    \n",
    "    # set launch carrier properties\n",
    "    # EL3 - European Large Logistics Lander\n",
    "    mass_fuel = mass_full - mass_dry # kg\n",
    "    I_sp = 400 # [s] specific impulse\n",
    "    g_0 = 9.80665 # [kg/s²] standard gravity\n",
    "    EEV = np.array(I_sp * g_0, dtype=np.float64) # [m/s] effective exhaust velocity\n",
    "    F_thrust = m_flow * EEV\n",
    "\n",
    "    # setup parameters\n",
    "    t_step = np.array(t_step, dtype=np.float64) # [s] time for one simulation step\n",
    "\n",
    "    time = np.array(0, dtype=np.float64)\n",
    "\n",
    "    # cartesian coordinates - 3D\n",
    "    #         y   z\n",
    "    #         │ /              \n",
    "    #      ───┼─── x    [x,y,z]\n",
    "    #       / Moon       \n",
    "    # point of origin = moon center mass point\n",
    "\n",
    "\n",
    "    # initialize\n",
    "    # Spacecraft properties\n",
    "\n",
    "    # mass\n",
    "    m = mass(time)  # [kg]\n",
    "\n",
    "    # position\n",
    "    pos = np.array([0,r_moon + start_altitude,0], dtype=np.float64) # [m]\n",
    "\n",
    "    # velocity\n",
    "    #add ground speed vel\n",
    "    vel = np.array([0,0,0], dtype=np.float64) # [m/s]\n",
    "\n",
    "    # acceleration\n",
    "    acc = np.array([0,0,0], dtype=np.float64) # [m/s²]\n",
    "\n",
    "    # engine acc direction\n",
    "    dir_n = vec_from_angle(0)\n",
    "\n",
    "    # pandas df for logging\n",
    "    # to increase appending speed, rows are written into memory then read back in pandas df\n",
    "    output = StringIO()\n",
    "    csv_writer = writer(output)\n",
    "\n",
    "    csv_writer.writerow(['time [s]','mass [kg]','altitude [m]','pos_x [m]','pos_y [m]','pos_z [m]','vel_r [m/s]','vel_phi [m/s]','vel_x [m/s]','vel_y [m/s]','vel_z [m/s]','acc_r [m/s²]','acc_phi [m/s²]','acc_x [m/s²]','acc_y [m/s²]','acc_z [m/s²]','dir_n [°]'])\n",
    "\n",
    "    csv_writer.writerow([time,mass(time),altitude(pos),pos[0],pos[1],pos[2],r_sys(vel,pos)[1],r_sys(vel,pos)[0],vel[0],vel[1],vel[2],r_sys(acc,pos)[1],r_sys(acc,pos)[0],acc[0],acc[1],acc[2],angle(dir_n)])\n",
    "\n",
    "\n",
    "    # Simulation execution\n",
    "    # while time < 668:\n",
    "    while r_sys(vel,pos)[1] >= 0:\n",
    "        if time > 600: break\n",
    "        if altitude(pos) > 10000: break\n",
    "        dir_n = rel_sys(vec_from_angle(f(time)),pos)\n",
    "        time, pos, vel, acc = phys_sim_step(time,t_step,pos,vel,acc,dir_n) # pysical sim step\n",
    "        log(csv_writer,time,pos,vel,acc,m,dir_n) # log every x [ms]\n",
    "    # ___________________________________\n",
    "    \n",
    "    fuel_used = mass_full - mass(time)\n",
    "    dir_n = vec_from_angle(0)\n",
    "    while time < 0 :\n",
    "        time, pos, vel, acc = phys_sim_step_prop(time,t_step,pos,vel,acc) # pysical sim step\n",
    "        log(csv_writer,time,pos,vel,acc,m,dir_n) # log every x [ms]\n",
    "        \n",
    "     # ___________________________________\n",
    "    \n",
    "    \n",
    "    deltaV_result = deltaV(fuel_used,mass_full,EEV)\n",
    "    downrange_result = (downrange_distance(pos)/1000)\n",
    "    delta_altitude = target_altitude - altitude(pos)\n",
    "    delta_velocity = orbital_velocity(target_altitude) - r_sys(vel,pos)[0]\n",
    "    \n",
    "    result_body = f'{{ \"delta_altitude\": {delta_altitude} , \"delta_velocity\": {delta_velocity} , \"time\":{time}, \"fuel_used\":{fuel_used}, \"deltaV\":{deltaV_result}, \"downrange_distance\": {downrange_result}, \"altitude\":{altitude(pos)}, \"vel_phi\":{r_sys(vel,pos)[0]},\"vel_r\":{r_sys(vel,pos)[1]}, \"missing_vel\":{orbital_velocity(target_altitude)-r_sys(vel,pos)[0]} }}'\n",
    "\n",
    "    # __________________________________\n",
    "    \n",
    "    output.seek(0) # we need to get back to the start of the StringIO\n",
    "    df = pd.read_csv(output)\n",
    "    df = df.set_index('time [s]')\n",
    "    \n",
    "    \n",
    "    \n",
    "    if df_return:\n",
    "        print(result_body)\n",
    "        return df\n",
    "    else:  return result_body\n",
    "\n",
    "def run_sim(t_step=1,df_return=False):\n",
    "    return simulation(t_step=t_step,start_altitude=0,target_altitude=1000,mass_dry=3100,mass_full=8500,mass_flow=5,df_return=df_return)\n"
   ]
  },
  {
   "cell_type": "code",
   "execution_count": 209,
   "metadata": {},
   "outputs": [
    {
     "name": "stdout",
     "output_type": "stream",
     "text": [
      "{ \"delta_altitude\": -554.491111145122 , \"delta_velocity\": 1209.7972453081888 , \"time\":247.0, \"fuel_used\":1235.0, \"deltaV\":615.8492509029974, \"downrange_distance\": 3058.5602085830656, \"altitude\":1554.491111145122, \"vel_phi\":469.600118692544,\"vel_r\":-0.08614090291711743, \"missing_vel\":1209.7972453081888 }\n"
     ]
    }
   ],
   "source": [
    "df = run_sim(t_step=1, df_return=True)"
   ]
  },
  {
   "cell_type": "code",
   "execution_count": 210,
   "metadata": {},
   "outputs": [
    {
     "data": {
      "image/png": "[encoded data removed]",
      "text/plain": [
       "<Figure size 2880x720 with 3 Axes>"
      ]
     },
     "metadata": {
      "needs_background": "light"
     },
     "output_type": "display_data"
    },
    {
     "data": {
      "image/png": "[encoded data removed]",
      "text/plain": [
       "<Figure size 1800x1440 with 6 Axes>"
      ]
     },
     "metadata": {
      "needs_background": "light"
     },
     "output_type": "display_data"
    }
   ],
   "source": [
    "plot_launch_segment(df)"
   ]
  },
  {
   "cell_type": "markdown",
   "metadata": {
    "tags": []
   },
   "source": [
    "## Grid-Searching Parameter space"
   ]
  },
  {
   "cell_type": "code",
   "execution_count": 212,
   "metadata": {},
   "outputs": [
    {
     "name": "stdout",
     "output_type": "stream",
     "text": [
      "100 x 100\n"
     ]
    },
    {
     "data": {
      "application/vnd.jupyter.widget-view+json": {
       "model_id": "0e13b798dc294b72bcce8d9720c435b9",
       "version_major": 2,
       "version_minor": 0
      },
      "text/plain": [
       "  0%|          | 0/10000 [00:00<?, ?it/s]"
      ]
     },
     "metadata": {},
     "output_type": "display_data"
    },
    {
     "name": "stdout",
     "output_type": "stream",
     "text": [
      "result saved to data/grid_search.csv\n"
     ]
    }
   ],
   "source": [
    "a_list = np.arange(200,300,1)\n",
    "b_list = np.arange(0.003,0.004,0.00001)\n",
    "\n",
    "print(f'{len(a_list)} x {len(b_list)}')\n",
    "\n",
    "output = StringIO()\n",
    "csv_writer = writer(output)\n",
    "csv_writer.writerow(['a','b','delta_velocity','delta_altitude'])\n",
    "\n",
    "pbar = tqdm(total=len(a_list)*len(b_list))\n",
    "for a in a_list:\n",
    "    for b in b_list:\n",
    "        result = json.loads(run_sim())\n",
    "        delta_velocity = result['delta_velocity']\n",
    "        delta_altitude = result['delta_altitude']\n",
    "        csv_writer.writerow([a,b,delta_velocity,delta_altitude])\n",
    "        pbar.update(1)\n",
    "pbar.close()\n",
    "\n",
    "output.seek(0)\n",
    "df = pd.read_csv(output)\n",
    "file = 'data/grid_search.csv'\n",
    "df.to_csv(file, index=False)\n",
    "print(f'result saved to {file}')"
   ]
  },
  {
   "cell_type": "code",
   "execution_count": 219,
   "metadata": {},
   "outputs": [
    {
     "data": {
      "image/png": "[encoded data removed]",
      "text/plain": [
       "<Figure size 1440x576 with 4 Axes>"
      ]
     },
     "metadata": {
      "needs_background": "light"
     },
     "output_type": "display_data"
    }
   ],
   "source": [
    "df = pd.read_csv(\"data/grid_search.csv\")\n",
    "cmap='seismic'\n",
    "\n",
    "fig, (ax1, ax2) = plt.subplots(figsize=(20, 8), ncols=2)\n",
    "sc = ax1.scatter(x=df['a'], y=df['b'], c=df['delta_velocity'], cmap=cmap, marker='s', s=15, norm=colors.CenteredNorm())\n",
    "fig.colorbar(sc, ax=ax1, label='delta velocity [m/s]')\n",
    "\n",
    "sc = ax2.scatter(x=df['a'], y=df['b'], c=df['delta_altitude'], cmap=cmap, marker='s', s=15, norm=colors.CenteredNorm())\n",
    "fig.colorbar(sc, ax=ax2, label='delta altitude [m]')\n",
    "plt.show()"
   ]
  },
  {
   "cell_type": "markdown",
   "metadata": {},
   "source": [
    "## Precision Solver"
   ]
  },
  {
   "cell_type": "code",
   "execution_count": 21,
   "metadata": {},
   "outputs": [
    {
     "name": "stdout",
     "output_type": "stream",
     "text": [
      "199\n",
      "a: 1 , b: 0.01\n",
      "[CHECK] vel_r -0.14 reached.\n",
      "[ 708 RUN] vel_r 1676.44 reached.\r"
     ]
    },
    {
     "ename": "KeyboardInterrupt",
     "evalue": "",
     "output_type": "error",
     "traceback": [
      "\u001b[1;31m---------------------------------------------------------------------------\u001b[0m",
      "\u001b[1;31mKeyboardInterrupt\u001b[0m                         Traceback (most recent call last)",
      "Input \u001b[1;32mIn [21]\u001b[0m, in \u001b[0;36m<cell line: 16>\u001b[1;34m()\u001b[0m\n\u001b[0;32m     26\u001b[0m \u001b[38;5;124;03m\"\"\"\u001b[39;00m\n\u001b[0;32m     27\u001b[0m \u001b[38;5;124;03m# begin with interpolation\u001b[39;00m\n\u001b[0;32m     28\u001b[0m \u001b[38;5;124;03mb_old = b\u001b[39;00m\n\u001b[1;32m   (...)\u001b[0m\n\u001b[0;32m     40\u001b[0m \u001b[38;5;124;03mb += d_b_est\u001b[39;00m\n\u001b[0;32m     41\u001b[0m \u001b[38;5;124;03m\"\"\"\u001b[39;00m\n\u001b[0;32m     43\u001b[0m \u001b[38;5;28;01mfor\u001b[39;00m i \u001b[38;5;129;01min\u001b[39;00m \u001b[38;5;28mrange\u001b[39m(max_tries):\n\u001b[1;32m---> 44\u001b[0m     delta_velocity \u001b[38;5;241m=\u001b[39m json\u001b[38;5;241m.\u001b[39mloads(\u001b[43mrun_sim\u001b[49m\u001b[43m(\u001b[49m\u001b[43m)\u001b[49m)[\u001b[38;5;124m'\u001b[39m\u001b[38;5;124mdelta_velocity\u001b[39m\u001b[38;5;124m'\u001b[39m]\n\u001b[0;32m     45\u001b[0m     \u001b[38;5;28mprint\u001b[39m(\u001b[38;5;124mf\u001b[39m\u001b[38;5;124m\"\u001b[39m\u001b[38;5;124m[ \u001b[39m\u001b[38;5;132;01m{\u001b[39;00mi\u001b[38;5;132;01m}\u001b[39;00m\u001b[38;5;124m RUN] vel_r \u001b[39m\u001b[38;5;132;01m{\u001b[39;00mdelta_velocity\u001b[38;5;132;01m:\u001b[39;00m\u001b[38;5;124m0.2f\u001b[39m\u001b[38;5;132;01m}\u001b[39;00m\u001b[38;5;124m reached.\u001b[39m\u001b[38;5;124m\"\u001b[39m,end\u001b[38;5;241m=\u001b[39m\u001b[38;5;124m'\u001b[39m\u001b[38;5;130;01m\\r\u001b[39;00m\u001b[38;5;124m'\u001b[39m)\n\u001b[0;32m     47\u001b[0m     \u001b[38;5;28;01mif\u001b[39;00m \u001b[38;5;28mabs\u001b[39m(delta_velocity) \u001b[38;5;241m<\u001b[39m\u001b[38;5;241m=\u001b[39m \u001b[38;5;241m10\u001b[39m:\n",
      "Input \u001b[1;32mIn [18]\u001b[0m, in \u001b[0;36mrun_sim\u001b[1;34m(t_step, df_return)\u001b[0m\n\u001b[0;32m    237\u001b[0m \u001b[38;5;28;01mdef\u001b[39;00m \u001b[38;5;21mrun_sim\u001b[39m(t_step\u001b[38;5;241m=\u001b[39m\u001b[38;5;241m1\u001b[39m,df_return\u001b[38;5;241m=\u001b[39m\u001b[38;5;28;01mFalse\u001b[39;00m):\n\u001b[1;32m--> 238\u001b[0m     \u001b[38;5;28;01mreturn\u001b[39;00m \u001b[43msimulation\u001b[49m\u001b[43m(\u001b[49m\u001b[43mt_step\u001b[49m\u001b[38;5;241;43m=\u001b[39;49m\u001b[43mt_step\u001b[49m\u001b[43m,\u001b[49m\u001b[43mstart_altitude\u001b[49m\u001b[38;5;241;43m=\u001b[39;49m\u001b[38;5;241;43m0\u001b[39;49m\u001b[43m,\u001b[49m\u001b[43mtarget_altitude\u001b[49m\u001b[38;5;241;43m=\u001b[39;49m\u001b[38;5;241;43m1000\u001b[39;49m\u001b[43m,\u001b[49m\u001b[43mmass_dry\u001b[49m\u001b[38;5;241;43m=\u001b[39;49m\u001b[38;5;241;43m3100\u001b[39;49m\u001b[43m,\u001b[49m\u001b[43mmass_full\u001b[49m\u001b[38;5;241;43m=\u001b[39;49m\u001b[38;5;241;43m8500\u001b[39;49m\u001b[43m,\u001b[49m\u001b[43mmass_flow\u001b[49m\u001b[38;5;241;43m=\u001b[39;49m\u001b[38;5;241;43m5\u001b[39;49m\u001b[43m,\u001b[49m\u001b[43mdf_return\u001b[49m\u001b[38;5;241;43m=\u001b[39;49m\u001b[43mdf_return\u001b[49m\u001b[43m)\u001b[49m\n",
      "Input \u001b[1;32mIn [18]\u001b[0m, in \u001b[0;36msimulation\u001b[1;34m(t_step, start_altitude, target_altitude, mass_dry, mass_full, mass_flow, df_return)\u001b[0m\n\u001b[0;32m    193\u001b[0m csv_writer \u001b[38;5;241m=\u001b[39m writer(output)\n\u001b[0;32m    195\u001b[0m csv_writer\u001b[38;5;241m.\u001b[39mwriterow([\u001b[38;5;124m'\u001b[39m\u001b[38;5;124mtime [s]\u001b[39m\u001b[38;5;124m'\u001b[39m,\u001b[38;5;124m'\u001b[39m\u001b[38;5;124mmass [kg]\u001b[39m\u001b[38;5;124m'\u001b[39m,\u001b[38;5;124m'\u001b[39m\u001b[38;5;124maltitude [m]\u001b[39m\u001b[38;5;124m'\u001b[39m,\u001b[38;5;124m'\u001b[39m\u001b[38;5;124mpos_x [m]\u001b[39m\u001b[38;5;124m'\u001b[39m,\u001b[38;5;124m'\u001b[39m\u001b[38;5;124mpos_y [m]\u001b[39m\u001b[38;5;124m'\u001b[39m,\u001b[38;5;124m'\u001b[39m\u001b[38;5;124mpos_z [m]\u001b[39m\u001b[38;5;124m'\u001b[39m,\u001b[38;5;124m'\u001b[39m\u001b[38;5;124mvel_r [m/s]\u001b[39m\u001b[38;5;124m'\u001b[39m,\u001b[38;5;124m'\u001b[39m\u001b[38;5;124mvel_phi [m/s]\u001b[39m\u001b[38;5;124m'\u001b[39m,\u001b[38;5;124m'\u001b[39m\u001b[38;5;124mvel_x [m/s]\u001b[39m\u001b[38;5;124m'\u001b[39m,\u001b[38;5;124m'\u001b[39m\u001b[38;5;124mvel_y [m/s]\u001b[39m\u001b[38;5;124m'\u001b[39m,\u001b[38;5;124m'\u001b[39m\u001b[38;5;124mvel_z [m/s]\u001b[39m\u001b[38;5;124m'\u001b[39m,\u001b[38;5;124m'\u001b[39m\u001b[38;5;124macc_r [m/s²]\u001b[39m\u001b[38;5;124m'\u001b[39m,\u001b[38;5;124m'\u001b[39m\u001b[38;5;124macc_phi [m/s²]\u001b[39m\u001b[38;5;124m'\u001b[39m,\u001b[38;5;124m'\u001b[39m\u001b[38;5;124macc_x [m/s²]\u001b[39m\u001b[38;5;124m'\u001b[39m,\u001b[38;5;124m'\u001b[39m\u001b[38;5;124macc_y [m/s²]\u001b[39m\u001b[38;5;124m'\u001b[39m,\u001b[38;5;124m'\u001b[39m\u001b[38;5;124macc_z [m/s²]\u001b[39m\u001b[38;5;124m'\u001b[39m,\u001b[38;5;124m'\u001b[39m\u001b[38;5;124mdir_n [°]\u001b[39m\u001b[38;5;124m'\u001b[39m])\n\u001b[1;32m--> 197\u001b[0m csv_writer\u001b[38;5;241m.\u001b[39mwriterow([time,mass(time),altitude(pos),pos[\u001b[38;5;241m0\u001b[39m],pos[\u001b[38;5;241m1\u001b[39m],pos[\u001b[38;5;241m2\u001b[39m],\u001b[43mr_sys\u001b[49m\u001b[43m(\u001b[49m\u001b[43mvel\u001b[49m\u001b[43m,\u001b[49m\u001b[43mpos\u001b[49m\u001b[43m)\u001b[49m[\u001b[38;5;241m1\u001b[39m],r_sys(vel,pos)[\u001b[38;5;241m0\u001b[39m],vel[\u001b[38;5;241m0\u001b[39m],vel[\u001b[38;5;241m1\u001b[39m],vel[\u001b[38;5;241m2\u001b[39m],r_sys(acc,pos)[\u001b[38;5;241m1\u001b[39m],r_sys(acc,pos)[\u001b[38;5;241m0\u001b[39m],acc[\u001b[38;5;241m0\u001b[39m],acc[\u001b[38;5;241m1\u001b[39m],acc[\u001b[38;5;241m2\u001b[39m],angle(dir_n)])\n\u001b[0;32m    200\u001b[0m \u001b[38;5;66;03m# Simulation execution\u001b[39;00m\n\u001b[0;32m    201\u001b[0m \u001b[38;5;28;01mwhile\u001b[39;00m r_sys(vel,pos)[\u001b[38;5;241m1\u001b[39m] \u001b[38;5;241m>\u001b[39m\u001b[38;5;241m=\u001b[39m \u001b[38;5;241m0\u001b[39m:\n",
      "Input \u001b[1;32mIn [18]\u001b[0m, in \u001b[0;36mr_sys\u001b[1;34m(vec, pos)\u001b[0m\n\u001b[0;32m     61\u001b[0m \u001b[38;5;28;01mdef\u001b[39;00m \u001b[38;5;21mr_sys\u001b[39m(vec, pos):\n\u001b[1;32m---> 63\u001b[0m     alpha \u001b[38;5;241m=\u001b[39m \u001b[43mangle\u001b[49m\u001b[43m(\u001b[49m\u001b[43mpos\u001b[49m\u001b[43m,\u001b[49m\u001b[43mrad\u001b[49m\u001b[38;5;241;43m=\u001b[39;49m\u001b[38;5;28;43;01mTrue\u001b[39;49;00m\u001b[43m)\u001b[49m\n\u001b[0;32m     64\u001b[0m     rot \u001b[38;5;241m=\u001b[39m np\u001b[38;5;241m.\u001b[39marray([[np\u001b[38;5;241m.\u001b[39mcos(alpha), \u001b[38;5;241m-\u001b[39mnp\u001b[38;5;241m.\u001b[39msin(alpha)], [np\u001b[38;5;241m.\u001b[39msin(alpha), np\u001b[38;5;241m.\u001b[39mcos(alpha)]])\n\u001b[0;32m     65\u001b[0m     v \u001b[38;5;241m=\u001b[39m np\u001b[38;5;241m.\u001b[39marray([vec[\u001b[38;5;241m0\u001b[39m], vec[\u001b[38;5;241m1\u001b[39m]], dtype\u001b[38;5;241m=\u001b[39mnp\u001b[38;5;241m.\u001b[39mfloat64)\n",
      "Input \u001b[1;32mIn [18]\u001b[0m, in \u001b[0;36mangle\u001b[1;34m(vec, v_ref, rad)\u001b[0m\n\u001b[0;32m     46\u001b[0m vector_2 \u001b[38;5;241m=\u001b[39m vec\n\u001b[0;32m     48\u001b[0m \u001b[38;5;28;01mif\u001b[39;00m np\u001b[38;5;241m.\u001b[39mlinalg\u001b[38;5;241m.\u001b[39mnorm(vector_2) \u001b[38;5;241m==\u001b[39m \u001b[38;5;241m0\u001b[39m: \u001b[38;5;28;01mreturn\u001b[39;00m \u001b[38;5;28;01mNone\u001b[39;00m\n\u001b[1;32m---> 50\u001b[0m unit_vector_1 \u001b[38;5;241m=\u001b[39m vector_1 \u001b[38;5;241m/\u001b[39m \u001b[43mnp\u001b[49m\u001b[38;5;241;43m.\u001b[39;49m\u001b[43mlinalg\u001b[49m\u001b[38;5;241;43m.\u001b[39;49m\u001b[43mnorm\u001b[49m\u001b[43m(\u001b[49m\u001b[43mvector_1\u001b[49m\u001b[43m)\u001b[49m\n\u001b[0;32m     51\u001b[0m unit_vector_2 \u001b[38;5;241m=\u001b[39m vector_2 \u001b[38;5;241m/\u001b[39m np\u001b[38;5;241m.\u001b[39mlinalg\u001b[38;5;241m.\u001b[39mnorm(vector_2)\n\u001b[0;32m     52\u001b[0m dot_product \u001b[38;5;241m=\u001b[39m np\u001b[38;5;241m.\u001b[39mdot(unit_vector_1, unit_vector_2)\n",
      "File \u001b[1;32m<__array_function__ internals>:180\u001b[0m, in \u001b[0;36mnorm\u001b[1;34m(*args, **kwargs)\u001b[0m\n",
      "File \u001b[1;32m~\\AppData\\Local\\Programs\\Python\\Python310\\lib\\site-packages\\numpy\\linalg\\linalg.py:2516\u001b[0m, in \u001b[0;36mnorm\u001b[1;34m(x, ord, axis, keepdims)\u001b[0m\n\u001b[0;32m   2514\u001b[0m     sqnorm \u001b[38;5;241m=\u001b[39m dot(x\u001b[38;5;241m.\u001b[39mreal, x\u001b[38;5;241m.\u001b[39mreal) \u001b[38;5;241m+\u001b[39m dot(x\u001b[38;5;241m.\u001b[39mimag, x\u001b[38;5;241m.\u001b[39mimag)\n\u001b[0;32m   2515\u001b[0m \u001b[38;5;28;01melse\u001b[39;00m:\n\u001b[1;32m-> 2516\u001b[0m     sqnorm \u001b[38;5;241m=\u001b[39m \u001b[43mdot\u001b[49m\u001b[43m(\u001b[49m\u001b[43mx\u001b[49m\u001b[43m,\u001b[49m\u001b[43m \u001b[49m\u001b[43mx\u001b[49m\u001b[43m)\u001b[49m\n\u001b[0;32m   2517\u001b[0m ret \u001b[38;5;241m=\u001b[39m sqrt(sqnorm)\n\u001b[0;32m   2518\u001b[0m \u001b[38;5;28;01mif\u001b[39;00m keepdims:\n",
      "File \u001b[1;32m<__array_function__ internals>:180\u001b[0m, in \u001b[0;36mdot\u001b[1;34m(*args, **kwargs)\u001b[0m\n",
      "\u001b[1;31mKeyboardInterrupt\u001b[0m: "
     ]
    }
   ],
   "source": [
    "max_tries = 1000\n",
    "tolerance = 10\n",
    "\n",
    "\n",
    "lin_step = 0.001\n",
    "fine_step = 0.01\n",
    "old_input = 1\n",
    "old_achieve = 1\n",
    "increase = True\n",
    "\n",
    "test_range = np.arange(0.001, 0.2, 0.001)\n",
    "print(len(test_range))\n",
    "\n",
    "# Parameter Solver\n",
    "# Achieve target_altitude\n",
    "for i in range(max_tries):\n",
    "    \n",
    "    # ensure that velocity_r gets back to zero as a starting point\n",
    "    print(f'a: {a} , b: {b}',end='\\r')\n",
    "    vel_r = json.loads(run_sim())['vel_r']\n",
    "    if abs(vel_r) < 1:\n",
    "        print()\n",
    "        print(f\"[CHECK] vel_r {vel_r:0.2f} reached.\")\n",
    "        \n",
    "        # converges delta_altitude = 0\n",
    "        \"\"\"\n",
    "        # begin with interpolation\n",
    "        b_old = b\n",
    "        err_old = json.loads(run_sim())['delta_altitude']\n",
    "        if delta_altitude > 0:\n",
    "            b -= lin_step\n",
    "        elif delta_altitude < 0:\n",
    "            b += lin_step\n",
    "        err_new = json.loads(run_sim())['delta_altitude']\n",
    "        # linear guess to get error to 0\n",
    "        d_err = err_old - err_new\n",
    "        d_b = b_old - b\n",
    "        print(f'd_b {d_b}, d_err {d_err}')\n",
    "        d_b_est = ( err_new / d_err ) * d_b\n",
    "        b += d_b_est\n",
    "        \"\"\"\n",
    "        \n",
    "        for i in range(max_tries):\n",
    "            delta_velocity = json.loads(run_sim())['delta_velocity']\n",
    "            print(f\"[ {i} RUN] vel_r {delta_velocity:0.2f} reached.\",end='\\r')\n",
    "            \n",
    "            if abs(delta_velocity) <= 10:\n",
    "                print(f\"[CHECK] delta_altitude {delta_velocity:0.2f} reached.\")\n",
    "                break\n",
    "            \n",
    "            old_value = delta_velocity\n",
    "            old_input = b\n",
    "            \n",
    "            if delta_velocity > 0:\n",
    "                b += fine_step\n",
    "            elif delta_velocity < 0:\n",
    "                b -= fine_step\n",
    "\n",
    "        break\n",
    "    else:\n",
    "        b += 0.01\n",
    "\n",
    "print()\n",
    "print(f'a: {a} , b: {b}')"
   ]
  },
  {
   "cell_type": "code",
   "execution_count": 75,
   "metadata": {},
   "outputs": [
    {
     "data": {
      "image/png": "[encoded data removed]",
      "text/plain": [
       "<Figure size 432x288 with 2 Axes>"
      ]
     },
     "metadata": {
      "needs_background": "light"
     },
     "output_type": "display_data"
    }
   ],
   "source": [
    "a = 1\n",
    "b = 0.1\n",
    "\n",
    "def f(t,rad=False):\n",
    "    global a, b\n",
    "    # np.tan(phi)= a - b*t\n",
    "    phi = np.arctan(b*t)\n",
    "    if rad: return phi\n",
    "    else: return np.rad2deg(phi)\n",
    "\n",
    "t1 = np.arange(0.0, 500, 0.1)\n",
    "\n",
    "plt.figure()\n",
    "plt.subplot(211)\n",
    "plt.plot(t1, f(t1), 'k')\n",
    "\n",
    "plt.subplot(212)\n",
    "plt.plot(t1, np.tan(f(t1,rad=True)), 'r--')\n",
    "plt.show()"
   ]
  },
  {
   "cell_type": "markdown",
   "metadata": {},
   "source": [
    "## Start Parameter: Ground Elevation\n",
    "\n",
    "Displacement Map Data: https://svs.gsfc.nasa.gov/4720 \n",
    "\n",
    "> The displacement map, at 64, 16, and 4 pixels per degree, centered on 0° longitude. Available as either floating-point TIFFs in kilometers, relative to a radius of 1737.4 km, or unsigned 16-bit TIFFs in half-meters, relative to a radius of 1727400 meters.\n"
   ]
  },
  {
   "cell_type": "code",
   "execution_count": null,
   "metadata": {},
   "outputs": [],
   "source": [
    "# load source .tif file\n",
    "path = \".\\sources\\map\\heightmap\\ldem_64.tif\"\n",
    "height_data = np.array(Image.open(path))"
   ]
  },
  {
   "cell_type": "code",
   "execution_count": null,
   "metadata": {},
   "outputs": [],
   "source": [
    "plot_map(height_data,1,'Height [km]',tuple((-90,90)),tuple((-180,180)),labelsize=10,save=\"Heightmap.png\")"
   ]
  },
  {
   "cell_type": "code",
   "execution_count": null,
   "metadata": {},
   "outputs": [],
   "source": [
    "relative_r = 1737.4 # [km]\n",
    "img_min = np.amin(height_data)\n",
    "img_max = np.amax(height_data)\n",
    "orbit_clearance = 2 # [km]\n",
    "orbit_radius = (img_max+relative_r) + orbit_clearance # defining orbital radius 2 km above highest point\n",
    "print(f'Image  extrema:   min:{img_min:10.3f} [km]   max:{img_max:10.3f} [km]')\n",
    "print(f'Radius extrema:   min:{relative_r+img_min:10.3f} [km]   max:{relative_r+img_max:10.3f} [km]')\n",
    "print()\n",
    "print(f'Orbital radius:       {orbit_radius:10.3f} [km]')\n",
    "print(f'Altitude  gain:   max:{orbit_radius-(relative_r+img_min):10.3f} [km]   min:{orbit_radius-(relative_r+img_max):10.3f} [km]')"
   ]
  },
  {
   "cell_type": "markdown",
   "metadata": {},
   "source": [
    "### creating initial ground elevation map\n",
    "break 23040 x 11520 .tif file (64 pixels per degree) <br>\n",
    "into 1°Lat x 1°Lon tiles (64x64) and perform average <br>\n",
    "resulting in 360x180 map as input parameter for launch segment"
   ]
  },
  {
   "cell_type": "code",
   "execution_count": null,
   "metadata": {},
   "outputs": [],
   "source": [
    "# helper function\n",
    "def create_Lat_Lon(resolution):\n",
    "    # calculation steps in deg for geodetic location\n",
    "\n",
    "    Longitude = []\n",
    "    Latitude = []\n",
    "\n",
    "    for Lon in np.arange(-180+0.5*resolution,180,resolution):\n",
    "        Longitude.append(Lon)\n",
    "    for Lat in np.arange(-90+0.5*resolution,90,resolution):\n",
    "        Latitude.append(Lat)\n",
    "\n",
    "    Latitude = list(reversed(Latitude))\n",
    "    \n",
    "    print('Result map resolution:',len(Longitude),'x',len(Latitude))\n",
    "    n_total = len(Longitude)*len(Latitude)\n",
    "    print('number of calculations:',n_total)\n",
    "\n",
    "    if n_total != int(n_total): print(\"WARNING: non matching map!\")\n",
    "    \n",
    "    return Latitude, Longitude"
   ]
  },
  {
   "cell_type": "code",
   "execution_count": null,
   "metadata": {},
   "outputs": [],
   "source": [
    "# initialize result array\n",
    "Latitude, Longitude = create_Lat_Lon(1)\n",
    "\n",
    "initial_hight_data = np.zeros((len(Latitude), len(Longitude)))\n",
    "\n",
    "#print(Latitude)\n",
    "#print(Longitude)\n",
    "#print(initial_hight_data)"
   ]
  },
  {
   "cell_type": "code",
   "execution_count": null,
   "metadata": {},
   "outputs": [],
   "source": [
    "# fill result array with tile average\n",
    "\n",
    "# save variances for paper figure\n",
    "variances = np.zeros(len(Latitude)*len(Longitude))\n",
    "\n",
    "for Lat , val in enumerate(tqdm(Latitude)):\n",
    "    for Lon , val in enumerate(Longitude):\n",
    "        s_y = Lat * 64 # start\n",
    "        e_y = s_y + 64 # end\n",
    "        s_x = Lon * 64 # start\n",
    "        e_x = s_x + 64 # end\n",
    "        tile = height_data[s_y:e_y,s_x:e_x]\n",
    "        variances[Lon+Lat*len(Longitude)] = np.var(tile)\n",
    "        \n",
    "        initial_hight_data[Lat][Lon] = np.mean(tile)\n",
    "        \n",
    "print('done.')"
   ]
  },
  {
   "cell_type": "code",
   "execution_count": null,
   "metadata": {},
   "outputs": [],
   "source": [
    "# the histogram of the variance\n",
    "plt.hist(variances, bins=np.arange(0, 3, 0.05), density=True, facecolor='orange',alpha=0.75)\n",
    "\n",
    "plt.xlabel('Variance')\n",
    "plt.ylabel('Probability')\n",
    "plt.title('Histogram of Variance inside a 64x64 Tile')\n",
    "plt.grid(True)\n",
    "plt.show()"
   ]
  },
  {
   "cell_type": "code",
   "execution_count": null,
   "metadata": {},
   "outputs": [],
   "source": [
    "# plot Tile samples with minimum, median and maximum variance\n",
    "\n",
    "def get_tile_from_index(index):\n",
    "    Lon = int(index%360)\n",
    "    Lat = int(index/360)\n",
    "\n",
    "    s_y = Lat * 64 # start\n",
    "    e_y = s_y + 64 # end\n",
    "    s_x = Lon * 64 # start\n",
    "    e_x = s_x + 64 # end\n",
    "\n",
    "    tile = height_data[s_y:e_y,s_x:e_x]\n",
    "    \n",
    "    return tile\n",
    "    \n",
    "min_var = np.min(variances)\n",
    "min_index = np.where(variances == min_var)[0]\n",
    "max_var = np.max(variances)\n",
    "max_index = np.where(variances == max_var)[0]\n",
    "# number of variances is 64800 and therefore equal -> median is not an element of the list but an average\n",
    "med_var = np.median(variances)\n",
    "# find element that is closest to the median value\n",
    "min_delta = 10\n",
    "med_var_list = 0\n",
    "for i in variances:\n",
    "    d = abs(med_var - i)\n",
    "    if d < min_delta:\n",
    "        min_delta = d\n",
    "        med_var_list = i\n",
    "print(f'closest value to median found with delta to calc median {min_delta}')\n",
    "med_index = np.where(variances == med_var_list)[0]\n",
    "print('index', min_index,'min', min_var)\n",
    "print('index', med_index,'med', med_var)\n",
    "print('index', max_index,'max', max_var)\n",
    "\n",
    "tile_min = get_tile_from_index(min_index)\n",
    "tile_med = get_tile_from_index(med_index)\n",
    "tile_max = get_tile_from_index(max_index)\n",
    "\n",
    "minimum = img_min#np.min([tile_min,tile_max])\n",
    "maximum = img_max#np.max([tile_min,tile_max])\n",
    "\n",
    "fig, axes = plt.subplots(nrows=3, ncols=2)\n",
    "im = axes.flat[0].imshow(tile_min, vmin=minimum, vmax=maximum)\n",
    "im = axes.flat[1].imshow([[np.mean(tile_min)]], vmin=minimum, vmax=maximum)\n",
    "im = axes.flat[2].imshow(tile_med, vmin=minimum, vmax=maximum)\n",
    "im = axes.flat[3].imshow([[np.mean(tile_med)]], vmin=minimum, vmax=maximum)\n",
    "im = axes.flat[4].imshow(tile_max, vmin=minimum, vmax=maximum)\n",
    "im = axes.flat[5].imshow([[np.mean(tile_max)]], vmin=minimum, vmax=maximum)\n",
    "axes.flat[0].set_axis_off()\n",
    "axes.flat[1].set_axis_off()\n",
    "axes.flat[2].set_axis_off()\n",
    "axes.flat[3].set_axis_off()\n",
    "axes.flat[4].set_axis_off()\n",
    "axes.flat[5].set_axis_off()\n",
    "\n",
    "fig.subplots_adjust(right=0.6)\n",
    "cbar_ax = fig.add_axes([0.72, 0.13, 0.05, 0.75])\n",
    "fig.colorbar(im, cax=cbar_ax)\n",
    "plt.show()"
   ]
  },
  {
   "cell_type": "code",
   "execution_count": null,
   "metadata": {},
   "outputs": [],
   "source": [
    "im = Image.fromarray((initial_hight_data-img_min)*1000).convert('I')\n",
    "im.save(\"downsample.png\")"
   ]
  },
  {
   "cell_type": "code",
   "execution_count": null,
   "metadata": {},
   "outputs": [],
   "source": [
    "print(f'from {len(np.ndarray.flatten(initial_hight_data))} entries there are {len(np.unique(initial_hight_data))} unique')\n",
    "print(initial_hight_data.dtype)\n",
    "elevation_min = np.amin(initial_hight_data)\n",
    "elevation_max = np.amax(initial_hight_data)\n",
    "print(f'min: {elevation_min}')\n",
    "print(f'max: {elevation_max}')"
   ]
  },
  {
   "cell_type": "code",
   "execution_count": null,
   "metadata": {},
   "outputs": [],
   "source": [
    "plot_map(initial_hight_data,1,'Height [km]',tuple((-90,90)),tuple((-180,180)),labelsize=10,save=\"Heightmap_downsampled.png\")"
   ]
  },
  {
   "cell_type": "markdown",
   "metadata": {},
   "source": [
    "## Roundtrip considerations\n",
    "    → Moon surface [load Payload] [refuel O2] → (Launch + Maneuvers) → Destination [refuel H2] [unload Payload] → (Maneuvers + Landing) →"
   ]
  },
  {
   "cell_type": "code",
   "execution_count": null,
   "metadata": {},
   "outputs": [],
   "source": [
    "def calc_mass_flow(mass_full,I_sp):\n",
    "    # set massflow to reach acceleration from apollo: from vertical rise segment: 10s vertical burn -> 50 ft/s = 15,24 m/s\n",
    "    # acc moon surface = 1.6242654756205572 [m/s²] <- acc_grav_moon(r_moon)\n",
    "    a_apollo = 1.6242654756205572 + (15.24/10) # [m/s²]\n",
    "    g_0 = 9.80665 # [kg/s²] standard gravity\n",
    "    EEV = np.array(I_sp * g_0, dtype=np.float64) # [m/s] effective exhaust velocity\n",
    "    m_flow = (mass_full * a_apollo) / EEV # [kg/s]\n",
    "    return m_flow\n",
    "\n",
    "def maneuver_result_mass(EEV,m_0,deltaV):\n",
    "    # from: deltaV = EEV * ln ( m_0 / m_f )\n",
    "    m_f = m_0 * (1/ np.exp(deltaV/EEV))\n",
    "    return m_f\n",
    "\n",
    "# roundtrip calculation via deltaV\n",
    "def compute_roundtrip(mass_full):\n",
    "    target_altitude = 12757\n",
    "    mass_dry = 1600\n",
    "    payload = 1500\n",
    "    of_ratio = 3\n",
    "    I_sp = 400 # [s] specific impulse\n",
    "    g_0 = 9.80665 # [kg/s²] standard gravity\n",
    "    EEV = np.array(I_sp * g_0, dtype=np.float64) # [m/s] effective exhaust velocity\n",
    "    m_flow = calc_mass_flow(mass_full,I_sp) # [kg/s] massflow\n",
    "    m_flow = 15\n",
    "    \n",
    "    initial_height = -9115 #-8.179428100585938 # lowest point on downsampled map\n",
    "    mass = mass_full\n",
    "    fuel = mass_full - mass_dry - payload\n",
    "    H2_factor = (1/(of_ratio+1))\n",
    "    O2_factor = (of_ratio/(of_ratio+1))\n",
    "    H2 = H2_factor * fuel\n",
    "    O2 = O2_factor * fuel\n",
    "    \n",
    "    \n",
    "    #logging in table\n",
    "    result_table = PrettyTable([\" \", \"ΔV\", \"used fuel\", \"Δ H2\", \"Δ O2\",\"mass\",\"fuel left\",\"H2\",\"O2\",\"payload\"],float_format = \"4.0\")\n",
    "    result_table.set_style(MARKDOWN)\n",
    "    \n",
    "    #__________________________________\n",
    "    # Lunar surface starting condition\n",
    "    result_table.add_row([\"Lunar Surface\", \"\", \"\", \"\" , \"refill +\" , mass, fuel, H2, O2, \"+\"+str(payload) ])\n",
    "    \n",
    "    \n",
    "    #__________________________________\n",
    "    # compute launch segemnt\n",
    "    cmd = \"B_Launch_Segment_solver.py\" + \" single_mode \" + str([[0],[0],0.1,mass,initial_height,target_altitude,m_flow]).replace(\" \", \"\")\n",
    "    print('[shell] python',cmd)\n",
    "    result = json.loads(subprocess.check_output(cmd, shell=True).decode(\"utf-8\"))\n",
    "    print(result)\n",
    "    \n",
    "    fuel -= result['fuel_used']\n",
    "    H2 -= H2_factor * result['fuel_used']\n",
    "    O2 -= O2_factor * result['fuel_used']\n",
    "    mass = mass_dry + fuel + payload\n",
    "    \n",
    "    result_table.add_row([\"Launch Segment\", result['deltaV'], result['fuel_used'], H2_factor * result['fuel_used'], O2_factor * result['fuel_used'], mass, fuel, H2, O2, \"\" ])\n",
    "    \n",
    "    #__________________________________\n",
    "    # compute orbit segment\n",
    "    manoeuvre_deltaV = 1000.0\n",
    "    \n",
    "    fuel_used = mass - maneuver_result_mass(EEV,mass,manoeuvre_deltaV)\n",
    "    fuel -= fuel_used\n",
    "    H2 -= H2_factor * fuel_used\n",
    "    O2 -= O2_factor * fuel_used\n",
    "    mass = mass_dry + fuel + payload\n",
    "    \n",
    "    result_table.add_row([\"Orbit manoeuvres\", manoeuvre_deltaV, fuel_used, H2_factor * fuel_used, O2_factor * fuel_used, mass, fuel, H2, O2, \"\" ])\n",
    "    \n",
    "    #__________________________________\n",
    "    # Gateway exchange\n",
    "    \n",
    "    refill_H2 = 2000\n",
    "    H2 += refill_H2\n",
    "    fuel = O2 + H2\n",
    "    mass = mass_dry + fuel\n",
    "    \n",
    "    result_table.add_row([\"Gateway exchange\", \"\", \"\", \"+\"+str(refill_H2),\"\", mass, fuel, H2, O2, \"-\"+str(payload) ])\n",
    "    \n",
    "    #__________________________________\n",
    "    # compute orbit segment return\n",
    "    \n",
    "    manoeuvre_deltaV = 1000.0\n",
    "    \n",
    "    fuel_used = mass - maneuver_result_mass(EEV,mass,manoeuvre_deltaV)\n",
    "    fuel -= fuel_used\n",
    "    H2 -= H2_factor * fuel_used\n",
    "    O2 -= O2_factor * fuel_used\n",
    "    mass = mass_dry + fuel\n",
    "    \n",
    "    result_table.add_row([\"Orbit manoeuvres\", manoeuvre_deltaV, fuel_used, H2_factor * fuel_used, O2_factor * fuel_used, mass, fuel, H2, O2, \"\" ])\n",
    "    \n",
    "    #__________________________________\n",
    "    # compute landing segment return\n",
    "    cmd = \"B_Launch_Segment_solver.py\" + \" single_mode \" + str([[0],[0],0.1,mass,initial_height,target_altitude,m_flow]).replace(\" \", \"\")\n",
    "    print('[shell] python',cmd)\n",
    "    result = json.loads(subprocess.check_output(cmd, shell=True).decode(\"utf-8\"))\n",
    "    print(result)\n",
    "    \n",
    "    if O2 < 0:\n",
    "        result_table.add_row([\"Landing Segment\", \"\", \"\", \"\" , \"\" , \"\", \"\", \"\", \"OUT OF FUEL\", \"\" ])\n",
    "    elif H2 < 0:\n",
    "        result_table.add_row([\"Landing Segment\", \"\", \"\", \"\" , \"\" , \"\", \"\", \"OUT OF FUEL\", \"\", \"\" ])\n",
    "    else:\n",
    "        fuel -= result['fuel_used']\n",
    "        H2 -= H2_factor * result['fuel_used']\n",
    "        O2 -= O2_factor * result['fuel_used']\n",
    "        mass = mass_dry + fuel + payload\n",
    "        \n",
    "        result_table.add_row([\"Landing Segment\", result['deltaV'], result['fuel_used'], H2_factor * result['fuel_used'], O2_factor * result['fuel_used'], mass, fuel, H2, O2, \"\" ])\n",
    "\n",
    "    print(result_table)\n",
    "    print()\n",
    "    \n",
    "    \n",
    "\n",
    "compute_roundtrip(8500)\n",
    "\n",
    "compute_roundtrip(15000)\n",
    "    "
   ]
  },
  {
   "cell_type": "markdown",
   "metadata": {
    "tags": []
   },
   "source": [
    "## modelling the Launch Segment"
   ]
  },
  {
   "cell_type": "markdown",
   "metadata": {},
   "source": [
    "imitating ascent characteristics from Apollo return flights\n",
    "\n",
    "> Apollo 11 https://www.hq.nasa.gov/alsj/nasa58040.pdf\n",
    "<br>\n",
    "> Apollo 17 https://history.nasa.gov/alsj/a17/A17_MissionReport.pdf\n",
    "\n",
    "Segmented flight: vertical rise, orbit injection"
   ]
  },
  {
   "cell_type": "markdown",
   "metadata": {},
   "source": [
    "## call the solver with complete map for 1 deg"
   ]
  },
  {
   "cell_type": "code",
   "execution_count": null,
   "metadata": {},
   "outputs": [],
   "source": [
    "Latitude, Longitude = create_Lat_Lon(1)"
   ]
  },
  {
   "cell_type": "code",
   "execution_count": null,
   "metadata": {},
   "outputs": [],
   "source": [
    "####################################################################################\n",
    "# WARNING !    this step takes approx. 22 hours to compute for 1 deg resolution    #\n",
    "####################################################################################\n",
    "filename = \"maps/Launch_Segement\"\n",
    "Latitude, Longitude = create_Lat_Lon(90)\n",
    "flat_value = len(Longitude)*len(Latitude)\n",
    "t_step = 0.1\n",
    "start_mass = 8500\n",
    "start_height = [1]*flat_value\n",
    "args = [Longitude,Latitude,t_step,start_mass,start_height]\n",
    "\n",
    "cmd = \"B_Launch_Segment_solver.py\" + \" \" + filename + \" \" + str(args).replace(\" \", \"\")\n",
    "\n",
    "start_time = current_milli_time()\n",
    "\n",
    "result = subprocess.check_output(cmd, shell=True)\n",
    "print(result.decode(\"utf-8\"))\n",
    "\n",
    "end_time = current_milli_time()\n",
    "duration = (end_time - start_time) / 1000\n",
    "print('finished after',duration / 1000,'[s]')"
   ]
  },
  {
   "cell_type": "code",
   "execution_count": null,
   "metadata": {},
   "outputs": [],
   "source": [
    "# load result array\n",
    "with xr.open_dataarray(\"maps/Launch_Segement.nc\") as ds:\n",
    "    xA_result = ds.load()\n",
    "\n",
    "xA_result"
   ]
  },
  {
   "cell_type": "code",
   "execution_count": null,
   "metadata": {},
   "outputs": [],
   "source": []
  },
  {
   "cell_type": "markdown",
   "metadata": {},
   "source": [
    "# STK"
   ]
  },
  {
   "cell_type": "code",
   "execution_count": null,
   "metadata": {},
   "outputs": [],
   "source": [
    "# pip install \"C:\\Program Files\\AGI\\STK 12\\bin\\AgPythonAPI\\agi.stk12-12.2.0-py3-none-any.whl\"\n",
    "# run this notebook from STK's Python Scripting Interface"
   ]
  },
  {
   "cell_type": "code",
   "execution_count": null,
   "metadata": {},
   "outputs": [],
   "source": [
    "# STK library imports\n",
    "from agi.stk12.stkdesktop import STKDesktop\n",
    "from agi.stk12.stkobjects import *\n",
    "from agi.stk12.stkutil import *\n",
    "from agi.stk12.vgt import *\n",
    "# if using astrogator uncomment the below\n",
    "# from agi.stk12.stkobjects.astrogator\n",
    "# if using aviator uncomment the below\n",
    "# from agi.stk12.stkobjects.aviator\n",
    "\n",
    "# Python helper library imports\n",
    "import os\n",
    "from tqdm.notebook import tqdm\n",
    "from ipywidgets import *\n",
    "import time\n",
    "import numpy as np\n",
    "import plotly.express as px\n",
    "import xarray as xr"
   ]
  },
  {
   "cell_type": "code",
   "execution_count": null,
   "metadata": {},
   "outputs": [],
   "source": [
    "# helper functions\n",
    "\n",
    "# model for launch segment\n",
    "\n",
    "# plot xArray data"
   ]
  },
  {
   "cell_type": "markdown",
   "metadata": {
    "tags": []
   },
   "source": [
    "## Destination: Gateway (Near-Rectilinear Halo Orbit)\n",
    "> open file \"Gateway_PROP_Mass_Point.sc\" in STK"
   ]
  },
  {
   "cell_type": "markdown",
   "metadata": {},
   "source": [
    "### connect to STK session and grab elements"
   ]
  },
  {
   "cell_type": "code",
   "execution_count": null,
   "metadata": {},
   "outputs": [],
   "source": [
    "# Get reference to the current instance of STK\n",
    "STK_PID = os.getenv('STK_PID')\n",
    "stk = STKDesktop.AttachToApplication(pid=int(STK_PID))\n",
    "root = stk.Root\n",
    "\n",
    "# rewind to initial datetime\n",
    "scenario = root.CurrentScenario\n",
    "scenario.SetTimePeriod('01 Jan 2022 00:00:00.000','03 Jan 2022 00:00:00.000')\n",
    "root.Rewind()\n",
    "\n",
    "# load existing Satellite and Place\n",
    "satellite = root.CurrentScenario.Children.Item('NRHO_Sat')\n",
    "place_start = root.CurrentScenario.Children.Item('Start')\n",
    "place_start.Position.AssignGeodetic(0,0,0)"
   ]
  },
  {
   "cell_type": "code",
   "execution_count": null,
   "metadata": {},
   "outputs": [],
   "source": [
    "#satellite  = AgSatellite(root.CurrentScenario.Children.New(AgESTKObjectType.eSatellite,\"LeoSat\"))\n",
    "#place_start  = AgPlace(scenario.Children.New(AgESTKObjectType.ePlace,\"Start\"))"
   ]
  },
  {
   "cell_type": "code",
   "execution_count": null,
   "metadata": {},
   "outputs": [],
   "source": [
    "#def analyse(object):\n",
    "#    print([method_name for method_name in dir(object)if callable(getattr(object, method_name))])\n",
    "#print(satellite.Propagator.__dict__.keys())\n",
    "\n",
    "# use dir() instead"
   ]
  },
  {
   "cell_type": "code",
   "execution_count": null,
   "metadata": {},
   "outputs": [],
   "source": [
    "#analyse(satellite.Propagator.MainSequence.Item(0).Profiles.Item(0).Results.Item(0))\n",
    "#analyse(satellite.Propagator.MainSequence.Item(0).Profiles.Item(0).ControlParameters.Item(0))\n",
    "#dir(satellite.Propagator.MainSequence.Item(0).Profiles.Item(0).ControlParameters.Item(0))\n",
    "# Name\n",
    "# FinalValue\n",
    "# LastUpdate\n",
    "#dir(satellite.Propagator.MainSequence.Item(0).Profiles.Item(0).Results.Item(0))\n",
    "# Name\n",
    "# CurrentValue\n",
    "# DesiredValue\n",
    "# Difference\n",
    "# Values\n",
    "\n",
    "\n",
    "# pull data\n",
    "#print(satellite.Propagator.MainSequence.Item(2).GetResultValue('Eccentricity'))\n",
    "\n",
    "#satellite.Propagator.MainSequence.Item(0).Profiles.Item(0).ControlParameters.Item(0).FinalValue\n",
    "#satellite.Propagator.MainSequence.Item(0).Profiles.Item(0).Results.Item(0).Name\n",
    "\n",
    "# set data\n",
    "#satellite.Propagator.MainSequence.Item(0).Segments.Item(0).BurnoutVelocity._SetFixedVelocity(1)\n",
    "#satellite.Propagator.MainSequence.Item(0).Segments.Item(0).DisplaySystem.Latitude = 44\n",
    "#satellite.Propagator.MainSequence.Item(0).Segments.Item(0).Burnout.Azimuth = 0"
   ]
  },
  {
   "cell_type": "code",
   "execution_count": null,
   "metadata": {},
   "outputs": [],
   "source": [
    "#airtemps = xr.tutorial.open_dataset('air_temperature').air.isel(time=500)\n",
    "#airtemps"
   ]
  },
  {
   "cell_type": "code",
   "execution_count": null,
   "metadata": {},
   "outputs": [],
   "source": [
    "#colorbar_title = results.attrs['var_desc'] + '<br>(%s)'%results.attrs['units']\n",
    "#fig = px.imshow(results, color_continuous_scale='RdBu_r', aspect='equal')\n",
    "#fig.show()\n",
    "#fig.write_image(\"images/fig1.pdf\")\n",
    "#print(satellite.Propagator.MainSequence.Item(0).Profiles.Item(0).ControlParameters.Item(0).FinalValue*1000)\n",
    "#print()\n",
    "#print(satellite.Propagator.MainSequence.Item(3).Profiles.Item(0).ControlParameters.Item(0).Name)\n",
    "#print(satellite.Propagator.MainSequence.Item(3).Profiles.Item(0).ControlParameters.Item(0).FinalValue*1000)\n",
    "#print(satellite.Propagator.MainSequence.Item(3).Profiles.Item(0).ControlParameters.Item(1).FinalValue*1000)\n",
    "#print(satellite.Propagator.MainSequence.Item(3).Profiles.Item(0).ControlParameters.Item(2).FinalValue*1000)\n",
    "\n",
    "#dir(satellite.Propagator.MainSequence.Item(3).Profiles.Item(0).ControlParameters.Item(0))\n",
    "\n",
    "#print(satellite.Propagator.MainSequence.Item(0).Profiles.Item(0).Status)\n",
    "\n",
    "#dv2_x = satellite.Propagator.MainSequence.Item(3).Profiles.Item(0).ControlParameters.Item(0).FinalValue*1000\n",
    "#dv2_y = satellite.Propagator.MainSequence.Item(3).Profiles.Item(0).ControlParameters.Item(1).FinalValue*1000\n",
    "#dv2_z = satellite.Propagator.MainSequence.Item(3).Profiles.Item(0).ControlParameters.Item(2).FinalValue*1000\n",
    "#dv2_vec = np.array([dv2_x, dv2_y, dv2_z])\n",
    "#dv2 = np.linalg.norm(dv2_vec)\n",
    "#print(dv2)"
   ]
  },
  {
   "cell_type": "markdown",
   "metadata": {},
   "source": [
    "### control STK and compute global result"
   ]
  },
  {
   "cell_type": "code",
   "execution_count": null,
   "metadata": {},
   "outputs": [],
   "source": [
    "####################################################################################\n",
    "# WARNING !    this step takes approx. 4 hours to compute for 5 deg resolution     #\n",
    "####################################################################################\n",
    "\n",
    "# calculation steps in deg for geodetic location\n",
    "resolution = 30\n",
    "\n",
    "print('Result image resolution:',1+(360/resolution),'x',1+(180/resolution))\n",
    "n_total = (1+(360/resolution))*(1+(180/resolution))\n",
    "print('number of calculations:',n_total)\n",
    "\n",
    "if n_total != int(n_total): print(\"WARNING: non matching map!\")\n",
    "\n",
    "Longitude = []\n",
    "Latitude = []\n",
    "\n",
    "for Lon in range(-180,181,resolution):\n",
    "    Longitude.append(Lon)\n",
    "for Lat in range(-90,91,resolution):\n",
    "    Latitude.append(Lat)\n",
    "\n",
    "\n",
    "Latitude = list(reversed(Latitude))\n",
    "\n",
    "deltaV_Gateway = np.zeros((len(Latitude), len(Longitude)))\n",
    "deltaV_Gateway[:] = np.nan\n",
    "\n",
    "fuel_mass_Gateway = np.zeros((len(Latitude), len(Longitude)))\n",
    "fuel_mass_Gateway[:] = np.nan\n",
    "\n",
    "print()\n",
    "print(len(Longitude),Longitude)\n",
    "print()\n",
    "print(len(Latitude),Latitude)\n",
    "\n",
    "with tqdm(total=n_total) as pbar:\n",
    "    for Lat_count, Lat in enumerate(Latitude):\n",
    "        for Lon_count, Lon in enumerate(Longitude):\n",
    "            #print(\"Lat:\",Lat,\"Lon:\",Lon)\n",
    "            place_start.Position.AssignGeodetic(Lat,Lon,0)\n",
    "            satellite.Propagator.MainSequence.Item(0).Segments.Item(0).DisplaySystem.Latitude = Lat\n",
    "            satellite.Propagator.MainSequence.Item(0).Segments.Item(0).DisplaySystem.Longitude = Lon\n",
    "            if Lon > -90 and Lon < 90:\n",
    "                satellite.Propagator.MainSequence.Item(0).Segments.Item(0).Burnout.Azimuth = -180\n",
    "            else:\n",
    "                satellite.Propagator.MainSequence.Item(0).Segments.Item(0).Burnout.Azimuth = 0\n",
    "                \n",
    "            satellite.Propagator.RunMCS()\n",
    "            check1 = satellite.Propagator.MainSequence.Item(0).Profiles.Item(0).Status\n",
    "            check2 = satellite.Propagator.MainSequence.Item(3).Profiles.Item(0).Status\n",
    "            if check1 == \"Converged\" and check2 == \"Converged\":\n",
    "                \n",
    "                # Launch: Burnout.FixedVelocity\n",
    "                dv1 = satellite.Propagator.MainSequence.Item(0).Profiles.Item(0).ControlParameters.Item(0).FinalValue*1000\n",
    "                # Maneuver: ImpulsiveMnvr.Pointing.Cartesian.X /Y /Z\n",
    "                dv2_x = satellite.Propagator.MainSequence.Item(3).Profiles.Item(0).ControlParameters.Item(0).FinalValue*1000\n",
    "                dv2_y = satellite.Propagator.MainSequence.Item(3).Profiles.Item(0).ControlParameters.Item(1).FinalValue*1000\n",
    "                dv2_z = satellite.Propagator.MainSequence.Item(3).Profiles.Item(0).ControlParameters.Item(2).FinalValue*1000\n",
    "                dv2_vec = np.array([dv2_x, dv2_y, dv2_z])\n",
    "                dv2 = np.linalg.norm(dv2_vec)\n",
    "\n",
    "                deltaV_Gateway[Lat_count][Lon_count] = dv2\n",
    "                fuel_mass_Gateway[Lat_count][Lon_count] = 0\n",
    "                \n",
    "            else:\n",
    "                print(\"ERROR\",\"did NOT Converge for\",\"Lat:\",Lat,\"Lon:\",Lon)\n",
    "                \n",
    "            pbar.update(1)"
   ]
  },
  {
   "cell_type": "markdown",
   "metadata": {},
   "source": [
    "### save result in xArray"
   ]
  },
  {
   "cell_type": "code",
   "execution_count": null,
   "metadata": {},
   "outputs": [],
   "source": [
    "xA_fuel_mass_Gateway = xr.DataArray(\n",
    "    data=fuel_mass_Gateway,\n",
    "    dims=[\"lat\",\"lon\"],\n",
    "    coords=dict(\n",
    "        lon=([\"lon\"], Longitude),\n",
    "        lat=([\"lat\"], Latitude)\n",
    "    ),\n",
    "    attrs=dict(\n",
    "        description=\"DeltaV to Gateway\",\n",
    "        var_desc=\"deltaV\",\n",
    "        units=\"m/s\",\n",
    "    ),\n",
    ")\n",
    "\n",
    "xA_fuel_mass_Gateway.to_netcdf(\"maps/fuel_mass_Gateway.nc\")"
   ]
  },
  {
   "cell_type": "code",
   "execution_count": null,
   "metadata": {},
   "outputs": [],
   "source": [
    "# load array\n",
    "xA_fuel_mass_Gateway = xr.open_dataarray(\"maps/fuel_mass_Gateway.nc\")"
   ]
  },
  {
   "cell_type": "code",
   "execution_count": null,
   "metadata": {},
   "outputs": [],
   "source": [
    "colorbar_title = xA_fuel_mass_Gateway.attrs['var_desc'] + '<br>(%s)'%xA_fuel_mass_Gateway.attrs['units']\n",
    "\n",
    "#fig = px.imshow(results, color_continuous_scale='RdBu_r', aspect='equal')\n",
    "fig = px.imshow(img=xA_fuel_mass_Gateway,\n",
    "                width=1000,\n",
    "                height=500,\n",
    "                color_continuous_scale='blugrn_r',\n",
    "                aspect='equal')\n",
    "\n",
    "fig.update_xaxes(tickangle=0,\n",
    "                 tickmode = 'array',\n",
    "                 tickvals = [-180, -150, -120, -90, -60, -30, 0, 30, 60, 90, 120, 150, 180])\n",
    "fig.update_yaxes(tickangle=0,\n",
    "                 tickmode = 'array',\n",
    "                 tickvals = [-90,-60,-30,0,30,60,90])\n",
    "\n",
    "\n",
    "fig.update_layout(\n",
    "    xaxis_title='Longitude',\n",
    "    yaxis_title='Latitude',\n",
    "    title= 'DeltaV Map<br>Destination Gateway',\n",
    "    title_x=0.45\n",
    ")\n",
    "\n",
    "\n",
    "#fig.write_image(\"fig/dv1.pdf\")\n",
    "fig.write_image(\"doc/img/dv_Gateway.pdf\")\n",
    "fig.show()\n"
   ]
  },
  {
   "cell_type": "code",
   "execution_count": null,
   "metadata": {},
   "outputs": [],
   "source": [
    "#print(scenario.StartTime)\n",
    "#print(scenario.StopTime)"
   ]
  },
  {
   "cell_type": "code",
   "execution_count": null,
   "metadata": {},
   "outputs": [],
   "source": [
    "root.ExecuteCommand('SetState */Satellite/LeoSat Classical TwoBody \"' +\n",
    "                    str(scenario.StartTime) + '\" \"' + str(scenario.StopTime) +\n",
    "                    '\" 60 ICRF  \"' + str(scenario.StartTime) + '\" 7200000.0 0.0 90 0.0 0.0 0.0')"
   ]
  },
  {
   "cell_type": "code",
   "execution_count": null,
   "metadata": {},
   "outputs": [],
   "source": [
    "access = satellite.GetAccessToObject(target)\n",
    "access.ComputeAccess()"
   ]
  },
  {
   "cell_type": "code",
   "execution_count": null,
   "metadata": {},
   "outputs": [],
   "source": [
    "accessDP         = access.DataProviders.Item('Access Data')\n",
    "\n",
    "results          = accessDP.Exec(scenario.StartTime, scenario.StopTime)\n",
    "\n",
    "accessStartTimes = results.DataSets.GetDataSetByName('Start Time').GetValues()\n",
    "\n",
    "accessStopTimes  = results.DataSets.GetDataSetByName('Stop Time').GetValues()\n",
    "\n",
    "print(accessStartTimes,accessStopTimes)"
   ]
  },
  {
   "cell_type": "code",
   "execution_count": null,
   "metadata": {},
   "outputs": [],
   "source": [
    "accessIntervals = access.ComputedAccessIntervalTimes\n",
    "\n",
    "dataProviderElements = ['Start Time', 'Stop Time']\n",
    "\n",
    "for i in range(0,accessIntervals.Count):\n",
    "    times = accessIntervals.GetInterval(i)\n",
    "    print(times)"
   ]
  },
  {
   "cell_type": "markdown",
   "metadata": {},
   "source": [
    "### Retrieve the Satellite Altitude Data From STK\n",
    "\n",
    "Retrieve and view the altitude of the satellite during an access interval. In the following lines, note how the data providers must follow the data provider folder, sub-folder, and selection."
   ]
  },
  {
   "cell_type": "code",
   "execution_count": null,
   "metadata": {},
   "outputs": [],
   "source": [
    "satelliteDP       = satellite.DataProviders.Item('LLA State')\n",
    "\n",
    "satelliteDP2      = satelliteDP.Group.Item('Fixed')\n",
    "\n",
    "rptElements       = ['Time', 'Lat', 'Lon', 'Alt']\n",
    "\n",
    "satelliteDPTimeVar = satelliteDP2.ExecElements(accessStartTimes,accessStopTimes, 60, rptElements)\n",
    "\n",
    "satelliteAltitude = satelliteDPTimeVar.DataSets.GetDataSetByName('Alt').GetValues()\n",
    "\n",
    "print(satelliteAltitude)"
   ]
  },
  {
   "cell_type": "markdown",
   "metadata": {},
   "source": [
    "## Destination: Low Lunar Orbit (Equatorial)\n",
    "> open file \"Gateway_PROP_Mass_Point.sc\" in STK"
   ]
  },
  {
   "cell_type": "code",
   "execution_count": null,
   "metadata": {},
   "outputs": [],
   "source": [
    "# Get reference to the current instance of STK\n",
    "STK_PID = os.getenv('STK_PID')\n",
    "stk = STKDesktop.AttachToApplication(pid=int(STK_PID))\n",
    "root = stk.Root\n",
    "\n",
    "# rewind to initial datetime\n",
    "scenario = root.CurrentScenario\n",
    "scenario.SetTimePeriod('01 Jan 2022 00:00:00.000','03 Jan 2022 00:00:00.000')\n",
    "root.Rewind()\n",
    "\n",
    "# load existing Satellite and Place\n",
    "satellite = root.CurrentScenario.Children.Item('LLO_Sat_Eq')\n",
    "place_start = root.CurrentScenario.Children.Item('Start')\n",
    "place_start.Position.AssignGeodetic(0,0,0)"
   ]
  },
  {
   "cell_type": "markdown",
   "metadata": {
    "tags": []
   },
   "source": [
    "## Destination: Low Lunar Orbit (Polar)\n",
    "> open file \"Gateway_PROP_Mass_Point.sc\" in STK"
   ]
  },
  {
   "cell_type": "code",
   "execution_count": null,
   "metadata": {},
   "outputs": [],
   "source": [
    "# Get reference to the current instance of STK\n",
    "STK_PID = os.getenv('STK_PID')\n",
    "stk = STKDesktop.AttachToApplication(pid=int(STK_PID))\n",
    "root = stk.Root\n",
    "\n",
    "# rewind to initial datetime\n",
    "scenario = root.CurrentScenario\n",
    "scenario.SetTimePeriod('01 Jan 2022 00:00:00.000','03 Jan 2022 00:00:00.000')\n",
    "root.Rewind()\n",
    "\n",
    "# load existing Satellite and Place\n",
    "satellite = root.CurrentScenario.Children.Item('LLO_Sat_Pol')\n",
    "place_start = root.CurrentScenario.Children.Item('Start')\n",
    "place_start.Position.AssignGeodetic(0,0,0)"
   ]
  },
  {
   "cell_type": "markdown",
   "metadata": {},
   "source": [
    "## Destination: Lagrange Point (L1) - Earth Moon System\n",
    "> open file \"Gateway_PROP_Mass_Point.sc\" in STK"
   ]
  },
  {
   "cell_type": "markdown",
   "metadata": {},
   "source": [
    "## Destination: Low Earth Orbit (Equatorial) - Starship refuel\n",
    "> open file \"Gateway_PROP_Mass_Point.sc\" in STK"
   ]
  }
 ],
 "metadata": {
  "kernelspec": {
   "display_name": "Python 3 (ipykernel)",
   "language": "python",
   "name": "python3"
  },
  "language_info": {
   "codemirror_mode": {
    "name": "ipython",
    "version": 3
   },
   "file_extension": ".py",
   "mimetype": "text/x-python",
   "name": "python",
   "nbconvert_exporter": "python",
   "pygments_lexer": "ipython3",
   "version": "3.10.2"
  },
  "vscode": {
   "interpreter": {
    "hash": "b249d0555750391b053156188abbeef5a95ee09bde6c25979b3945a185143ead"
   }
  }
 },
 "nbformat": 4,
 "nbformat_minor": 4
}
