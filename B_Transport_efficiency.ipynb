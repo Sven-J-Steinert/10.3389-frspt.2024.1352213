{
 "cells": [
  {
   "cell_type": "markdown",
   "metadata": {
    "tags": []
   },
   "source": [
    "# <font style=\"color: rgb(0,0,0);\">Option B: </font> <font style=\"color: rgb(190,138,67);\">Transport efficiency</font>"
   ]
  },
  {
   "cell_type": "markdown",
   "metadata": {
    "tags": []
   },
   "source": [
    "## modelling the Launch Segment"
   ]
  },
  {
   "cell_type": "markdown",
   "metadata": {},
   "source": [
    "imitating ascent characteristics from Apollo return flights\n",
    "\n",
    "> Apollo 11 https://www.hq.nasa.gov/alsj/nasa58040.pdf\n",
    "<br>\n",
    "> Apollo 17 https://history.nasa.gov/alsj/a17/A17_MissionReport.pdf\n",
    "\n",
    "Segmented flight: vertical rise, orbit injection"
   ]
  },
  {
   "cell_type": "code",
   "execution_count": 1,
   "metadata": {},
   "outputs": [],
   "source": [
    "# imports\n",
    "import numpy as np\n",
    "import pandas as pd\n",
    "pd.set_option('display.expand_frame_repr', False)\n",
    "import matplotlib.pyplot as plt\n",
    "import matplotlib.pylab as pl\n",
    "import matplotlib.gridspec as gridspec\n",
    "from io import StringIO\n",
    "from csv import writer "
   ]
  },
  {
   "cell_type": "code",
   "execution_count": 4,
   "metadata": {},
   "outputs": [],
   "source": [
    "# set launch carrier properties\n",
    "# EL3 - European Large Logistics Lander\n",
    "mass_dry  = 1600 # kg\n",
    "mass_full = 8500 # kg\n",
    "mass_fuel = mass_full - mass_dry # kg\n",
    "m_flow = 10 # [kg/s] massflow\n",
    "I_sp = 453 # [s] specific impulse\n",
    "g_0 = 9.80665 # [kg/s²] standard gravity\n",
    "EEV = np.array(I_sp * g_0, dtype=np.float64) # [m/s] effective exhaust velocity\n",
    "\n",
    "\n",
    "r_moon = 1737400    # [m] volumetric mean radius of the moon\n",
    "m_moon = 0.07346e24 # [kg] mass of the moon\n",
    "G = 6.67430e-11 # Gravitational constant\n",
    "\n",
    "\n",
    "\n",
    "# acceleration direction from propulsion\n",
    "#         0°\n",
    "#         │                \n",
    "# 270° ───┼─── 90°     reference angle from vertical axis, perpendicular to lunar surface\n",
    "#         │\n",
    "#        180°\n",
    "\n",
    "def angle(vec,v_ref=None,rad=False):\n",
    "    \n",
    "    if v_ref is not None:\n",
    "        vector_1 = v_ref\n",
    "    else:\n",
    "        vector_1 = [0, 1, 0]\n",
    "    vector_2 = vec\n",
    "    \n",
    "    if np.linalg.norm(vector_2) == 0: return None\n",
    "\n",
    "    unit_vector_1 = vector_1 / np.linalg.norm(vector_1)\n",
    "    unit_vector_2 = vector_2 / np.linalg.norm(vector_2)\n",
    "    dot_product = np.dot(unit_vector_1, unit_vector_2)\n",
    "    angle = np.arccos(dot_product)\n",
    "    \n",
    "    if vec[0]<0:\n",
    "        angle = 2*np.pi - angle\n",
    "    \n",
    "    #print(np.rad2deg(angle))\n",
    "    \n",
    "    if rad: return angle\n",
    "    return np.rad2deg(angle)\n",
    "    \n",
    "\n",
    "def vec_from_angle(deg): # in [x,y] cartesian-coordinates\n",
    "    rad = np.deg2rad(90-deg)\n",
    "\n",
    "    y = np.sin(rad)\n",
    "    x = np.cos(rad)\n",
    "    vec = np.array([x,y,0], dtype=np.float64)\n",
    "    \n",
    "    \n",
    "    # verify\n",
    "    #print(f'vector angle is {angle(vec)}°')\n",
    "    \n",
    "    return vec\n",
    "\n",
    "def plot_vector(vec):\n",
    "    \n",
    "    plt.figure(figsize=(3, 3), dpi=50)\n",
    "    \n",
    "    # reference vector\n",
    "    xpoints = np.array([0, 0])\n",
    "    ypoints = np.array([0, 1])\n",
    "    plt.plot(xpoints, ypoints, '--', color = 'b')\n",
    "    \n",
    "     \n",
    "    xpoints = np.array([0, vec[0]])\n",
    "    ypoints = np.array([0, vec[1]])\n",
    "        \n",
    "    plt.plot(xpoints, ypoints, color = 'r')\n",
    "    \n",
    "    plt.ylim(-1.1, 1.1)\n",
    "    plt.xlim(-1.1, 1.1)\n",
    "    \n",
    "    plt.gca().set_aspect('equal', adjustable='box')\n",
    "    \n",
    "    #unit circle\n",
    "    t = np.linspace(0,np.pi*2,100)\n",
    "    plt.plot(np.cos(t), np.sin(t), linewidth=2)\n",
    "    \n",
    "    plt.axis('off')\n",
    "    plt.show()\n",
    "\n",
    "def norm(vec):\n",
    "    # r = length of pos vector\n",
    "    return np.linalg.norm(vec)"
   ]
  },
  {
   "cell_type": "code",
   "execution_count": 5,
   "metadata": {},
   "outputs": [
    {
     "name": "stdout",
     "output_type": "stream",
     "text": [
      "test r_sys(vec,pos) function: at test_pos [1 1 0] angle 45.00000000000001 transform test_xy [0.5 0.5 0. ] in test_r [-5.55111512e-17  7.07106781e-01  0.00000000e+00]\n",
      "from: [0.5 0.5 0. ]\n"
     ]
    },
    {
     "data": {
      "image/png": "[encoded data removed]",
      "text/plain": [
       "<Figure size 150x150 with 1 Axes>"
      ]
     },
     "metadata": {
      "needs_background": "light"
     },
     "output_type": "display_data"
    },
    {
     "name": "stdout",
     "output_type": "stream",
     "text": [
      "to: [-5.55111512e-17  7.07106781e-01  0.00000000e+00]\n"
     ]
    },
    {
     "data": {
      "image/png": "[encoded data removed]",
      "text/plain": [
       "<Figure size 150x150 with 1 Axes>"
      ]
     },
     "metadata": {
      "needs_background": "light"
     },
     "output_type": "display_data"
    }
   ],
   "source": [
    "def r_sys(vec, pos):\n",
    "\n",
    "    alpha = angle(pos,rad=True)\n",
    "    #print(alpha)\n",
    "\n",
    "    rot = np.array([[np.cos(alpha), -np.sin(alpha)], [np.sin(alpha), np.cos(alpha)]])\n",
    "    #print(rot)\n",
    "\n",
    "    v = np.array([vec[0], vec[1]], dtype=np.float64)\n",
    "\n",
    "    v2 = np.dot(rot, v)\n",
    "    \n",
    "    r_vec = np.array([v2[0], v2[1], vec[2]], dtype=np.float64)\n",
    "    #print(vec,r_vec)\n",
    "    \n",
    "    return r_vec\n",
    "\n",
    "# verify\n",
    "test_pos = np.array([1, 1 , 0]) # angle\n",
    "test_xy = np.array([0.5, 0.5 , 0])\n",
    "test_r = r_sys(test_xy,test_pos)\n",
    "print('test r_sys(vec,pos) function:','at test_pos',test_pos,'angle',angle(test_pos),'transform test_xy',test_xy,'in test_r',test_r)\n",
    "print('from:',test_xy)\n",
    "plot_vector(test_xy)\n",
    "print('to:',test_r)\n",
    "plot_vector(test_r)"
   ]
  },
  {
   "cell_type": "code",
   "execution_count": 6,
   "metadata": {},
   "outputs": [
    {
     "name": "stdout",
     "output_type": "stream",
     "text": [
      "test xy_sys(vec,pos) function: at test_pos [1 1 0] angle 45.00000000000001 transform test_xy [0.5 0.5 0. ] in test_r [-5.55111512e-17  7.07106781e-01  0.00000000e+00]\n",
      "from: [-5.55111512e-17  7.07106781e-01  0.00000000e+00]\n"
     ]
    },
    {
     "data": {
      "image/png": "[encoded data removed]",
      "text/plain": [
       "<Figure size 150x150 with 1 Axes>"
      ]
     },
     "metadata": {
      "needs_background": "light"
     },
     "output_type": "display_data"
    },
    {
     "name": "stdout",
     "output_type": "stream",
     "text": [
      "to: [0.5 0.5 0. ]\n"
     ]
    },
    {
     "data": {
      "image/png": "[encoded data removed]",
      "text/plain": [
       "<Figure size 150x150 with 1 Axes>"
      ]
     },
     "metadata": {
      "needs_background": "light"
     },
     "output_type": "display_data"
    }
   ],
   "source": [
    "def xy_sys(vec, pos):\n",
    "\n",
    "    alpha = -angle(pos,rad=True) \n",
    "    #print(alpha)\n",
    "\n",
    "    rot_xy = np.array([[np.cos(alpha), -np.sin(alpha)], [np.sin(alpha), np.cos(alpha)]])\n",
    "    #print(rot)\n",
    "\n",
    "    v = np.array([vec[0], vec[1]], dtype=np.float64)\n",
    "\n",
    "    v2 = np.dot(rot_xy, v)\n",
    "    \n",
    "    xy_vec = np.array([v2[0], v2[1], vec[2]], dtype=np.float64)\n",
    "    #print(vec,r_vec)\n",
    "    \n",
    "    return xy_vec\n",
    "\n",
    "# verify\n",
    "test2_pos = np.array([1, 1 , 0])\n",
    "test2_r = np.array([-5.55111512e-17 , 7.07106781e-01 , 0.00000000e+00])\n",
    "test2_xy = xy_sys(test2_r,test2_pos)\n",
    "print('test xy_sys(vec,pos) function:','at test_pos',test2_pos,'angle',angle(test2_pos),'transform test_xy',test2_xy,'in test_r',test2_r)\n",
    "print('from:',test2_r)\n",
    "plot_vector(test2_r)\n",
    "print('to:',test2_xy)\n",
    "plot_vector(test2_xy)"
   ]
  },
  {
   "cell_type": "code",
   "execution_count": 7,
   "metadata": {},
   "outputs": [
    {
     "name": "stdout",
     "output_type": "stream",
     "text": [
      "test acc_grav_moon(r) function: [-0.         -1.62426548 -0.        ] [m/s²] vs. 1.622 [m/s²] expected on surface\n",
      "test acc_propulsion(m) function: 5.226367588235294 [m/s²]\n"
     ]
    }
   ],
   "source": [
    "def altitude(pos):\n",
    "    r = norm(pos)\n",
    "    return r - r_moon\n",
    "\n",
    "def orbital_velocity(altitude):\n",
    "    return np.sqrt((G * m_moon)/(r_moon + alt))\n",
    "\n",
    "def acc_grav_moon(pos):\n",
    "    r = norm(pos)\n",
    "    r_val = G * (m_moon/(r**2))\n",
    "    e_r = -(pos / norm(pos))\n",
    "    \n",
    "    return (e_r * r_val)\n",
    "\n",
    "def acc_centrifugal(pos,vel):\n",
    "    r = norm(pos)\n",
    "    v = r_sys(vel,pos)[1] # vel portion that is ⊥ to r -> phi_val\n",
    "    r_val = (v**2)/(r)\n",
    "    e_r = (pos / norm(pos))\n",
    "    \n",
    "    return (e_r * r_val)\n",
    "\n",
    "print('test acc_grav_moon(r) function:',acc_grav_moon(np.array([0,r_moon,0])),'[m/s²]','vs. 1.622 [m/s²] expected on surface')\n",
    "\n",
    "def acc_propulsion(m):\n",
    "    F_thrust = m_flow * EEV\n",
    "    acc = F_thrust / m\n",
    "\n",
    "    return acc\n",
    "    \n",
    "print('test acc_propulsion(m) function:',acc_propulsion(mass_full),'[m/s²]')"
   ]
  },
  {
   "cell_type": "code",
   "execution_count": 8,
   "metadata": {},
   "outputs": [
    {
     "name": "stdout",
     "output_type": "stream",
     "text": [
      "test hover_dir(pos,m) function: [ 0.28451524 -0.95867152  0.        ]\n"
     ]
    }
   ],
   "source": [
    "def hover_dir(pos,m):\n",
    "    \n",
    "    acc_r = norm(acc_grav_moon(pos))\n",
    "    \n",
    "    #print('acc_r',acc_r)\n",
    "\n",
    "    # Thrust vector T in r-system\n",
    "    val_r = acc_r\n",
    "    val_phi = np.sqrt(acc_r**2 + acc_propulsion(m)**2)\n",
    "\n",
    "    T = np.array([val_phi,val_r,0.0], dtype=np.float64)\n",
    "\n",
    "    #print(T)\n",
    "    hover_dir_r = T / norm(T)\n",
    "\n",
    "    #plot_vector(hover_dir_r)\n",
    "    \n",
    "    hover_dir_xy = xy_sys(hover_dir_r,pos)\n",
    "\n",
    "    #plot_vector(hover_dir_r)\n",
    "    \n",
    "    #print(hover_dir_r)\n",
    "    #hover_dir_xy = hover_dir / norm(hover_dir)\n",
    "    #print(xy_sys(hover_dir_r,pos))\n",
    "    #plot_vector(xy_sys(hover_dir_r,pos))\n",
    "    \n",
    "    return hover_dir_xy\n",
    "    \n",
    "print('test hover_dir(pos,m) function:',hover_dir(np.array([r_moon, 0 , 0]),8500))"
   ]
  },
  {
   "cell_type": "code",
   "execution_count": 9,
   "metadata": {},
   "outputs": [
    {
     "name": "stdout",
     "output_type": "stream",
     "text": [
      "\n",
      "┌───────────┬─────────────────────────────────┐\n",
      "│  Phase 1  │          Vertical rise          │\n",
      "└───────────┴─────────────────────────────────┘\n"
     ]
    },
    {
     "data": {
      "image/png": "[encoded data removed]",
      "text/plain": [
       "<Figure size 150x150 with 1 Axes>"
      ]
     },
     "metadata": {
      "needs_background": "light"
     },
     "output_type": "display_data"
    },
    {
     "name": "stdout",
     "output_type": "stream",
     "text": [
      "Phase 1 finished at 12.0 s\n",
      "\n",
      "┌───────────┬─────────────────────────────────┐\n",
      "│  Phase 2  │      first tilt, 38° burn       │\n",
      "└───────────┴─────────────────────────────────┘\n"
     ]
    },
    {
     "data": {
      "image/png": "[encoded data removed]",
      "text/plain": [
       "<Figure size 150x150 with 1 Axes>"
      ]
     },
     "metadata": {
      "needs_background": "light"
     },
     "output_type": "display_data"
    },
    {
     "name": "stdout",
     "output_type": "stream",
     "text": [
      "Phase 2 finished at 14.0 s\n",
      "\n",
      "┌───────────┬─────────────────────────────────┐\n",
      "│  Phase 3  │     second tilt, 52° burn       │\n",
      "└───────────┴─────────────────────────────────┘\n"
     ]
    },
    {
     "data": {
      "image/png": "[encoded data removed]",
      "text/plain": [
       "<Figure size 150x150 with 1 Axes>"
      ]
     },
     "metadata": {
      "needs_background": "light"
     },
     "output_type": "display_data"
    },
    {
     "name": "stdout",
     "output_type": "stream",
     "text": [
      "Phase 3 finished at 16.0 s\n",
      "\n",
      "┌───────────┬──────────────────────────────────┐\n",
      "│ Phase 4.0 │   80° burn, set target_altitude  │\n",
      "└───────────┴──────────────────────────────────┘\n"
     ]
    },
    {
     "data": {
      "image/png": "[encoded data removed]",
      "text/plain": [
       "<Figure size 150x150 with 1 Axes>"
      ]
     },
     "metadata": {
      "needs_background": "light"
     },
     "output_type": "display_data"
    },
    {
     "name": "stdout",
     "output_type": "stream",
     "text": [
      "Phase 4.0 finished at 24.8 s\n",
      "> Altitude 883.6742583455052 m reached\n",
      "> Estimated altitude gain in 4.1 1128.5586861812815 m\n",
      "> Orbital velocity 1679.4535555989692 m/s needed\n",
      "\n",
      "┌───────────┬────────────────────────────┐\n",
      "│ Phase 4.1 │   90° burn until vel_r = 0 │\n",
      "└───────────┴────────────────────────────┘\n"
     ]
    },
    {
     "data": {
      "image/png": "[encoded data removed]",
      "text/plain": [
       "<Figure size 150x150 with 1 Axes>"
      ]
     },
     "metadata": {
      "needs_background": "light"
     },
     "output_type": "display_data"
    },
    {
     "name": "stdout",
     "output_type": "stream",
     "text": [
      "Phase 4.1 finished at 53.6 s\n",
      "> Altitude 1543.333863630658 m reached\n",
      "> Orbital velocity 1679.1349791583295 m/s needed\n",
      "> current Orbital velocity 218.7950819454671 m/s\n",
      "\n",
      "┌───────────┬─────────────────────────────────────────────┐\n",
      "│ Phase 4.2 │   orbit injection, constant altitude burn   │\n",
      "└───────────┴─────────────────────────────────────────────┘\n",
      "from 74.5489015224683°\n"
     ]
    },
    {
     "data": {
      "image/png": "[encoded data removed]",
      "text/plain": [
       "<Figure size 150x150 with 1 Axes>"
      ]
     },
     "metadata": {
      "needs_background": "light"
     },
     "output_type": "display_data"
    },
    {
     "name": "stdout",
     "output_type": "stream",
     "text": [
      "[   4376.63507909 1738937.82621868       0.        ]\n",
      "to 85.57141244176374°\n"
     ]
    },
    {
     "data": {
      "image/png": "[encoded data removed]",
      "text/plain": [
       "<Figure size 150x150 with 1 Axes>"
      ]
     },
     "metadata": {
      "needs_background": "light"
     },
     "output_type": "display_data"
    },
    {
     "name": "stdout",
     "output_type": "stream",
     "text": [
      "Phase 4 finished at 282.4 s\n",
      "> Orbital velocity 1677.149635024643 m/s reached\n",
      "> pos [ 211699.58104613 1731634.76968129       0.        ] m reached\n",
      "> r_pos [5.34364579e-10 1.74452735e+06 0.00000000e+00] m reached\n",
      "> Altitude 1744527.3538079846 m reached\n",
      "\n",
      "┌───────────┬─────────────────────────────────┐\n",
      "│  Phase 5  │   orbit propagate, engine off   │\n",
      "└───────────┴─────────────────────────────────┘\n"
     ]
    },
    {
     "data": {
      "image/png": "[encoded data removed]",
      "text/plain": [
       "<Figure size 150x150 with 1 Axes>"
      ]
     },
     "metadata": {
      "needs_background": "light"
     },
     "output_type": "display_data"
    },
    {
     "name": "stdout",
     "output_type": "stream",
     "text": [
      "\n",
      "├───────────────── FINISHED ──────────────────┤\n",
      "\n",
      "          mass [kg]   altitude [m]     pos_x [m]     pos_y [m]  pos_z [m]  vel_r [m/s]  vel_phi [m/s]   vel_x [m/s]  vel_y [m/s]  vel_z [m/s]  acc_r [m/s²]  acc_phi [m/s²]  acc_x [m/s²]  acc_y [m/s²]  acc_z [m/s²]  dir_n [°]\n",
      "time [s]                                                                                                                                                                                                                        \n",
      "0.0          8500.0       0.000000  0.000000e+00  1.737400e+06        0.0     0.000000   0.000000e+00  0.000000e+00     0.000000          0.0      0.000000    0.000000e+00  0.000000e+00      0.000000           0.0        0.0\n",
      "0.1          8499.0       0.000000  0.000000e+00  1.737400e+06        0.0     0.180105   1.600114e-17  1.600114e-17     0.180105          0.0      3.602102    3.200227e-16  3.200227e-16      3.602102           0.0        0.0\n",
      "0.2          8498.0       0.036021  3.200227e-18  1.737400e+06        0.0     0.540346   4.800529e-17  4.800529e-17     0.540346          0.0      3.602717    3.200604e-16  3.200604e-16      3.602717           0.0        0.0\n",
      "0.3          8497.0       0.108069  9.601058e-18  1.737400e+06        0.0     0.900649   8.001321e-17  8.001321e-17     0.900649          0.0      3.603332    3.200980e-16  3.200980e-16      3.603332           0.0        0.0\n",
      "0.4          8496.0       0.216151  1.920287e-17  1.737400e+06        0.0     1.261013   1.120249e-16  1.120249e-16     1.261013          0.0      3.603948    3.201357e-16  3.201357e-16      3.603948           0.0        0.0\n",
      "...             ...            ...           ...           ...        ...          ...            ...           ...          ...          ...           ...             ...           ...           ...           ...        ...\n",
      "1526.0       5676.0  117858.081034  1.753649e+06  6.055550e+05        0.0    50.369888   1.577573e+03  5.625302e+02 -1474.732158          0.0     -1.424460    1.211258e-04 -1.346406e+00     -0.465057           0.0        NaN\n",
      "1527.0       5676.0  117908.409411  1.754211e+06  6.040801e+05        0.0    50.286863   1.577531e+03  5.611836e+02 -1475.196631          0.0     -1.424383    1.211127e-04 -1.346728e+00     -0.463887           0.0        NaN\n",
      "1528.0       5676.0  117958.654748  1.754772e+06  6.026047e+05        0.0    50.203806   1.577488e+03  5.598367e+02 -1475.659933          0.0     -1.424306    1.210996e-04 -1.347049e+00     -0.462717           0.0        NaN\n",
      "1529.0       5676.0  118008.817012  1.755331e+06  6.011288e+05        0.0    50.120718   1.577446e+03  5.584895e+02 -1476.122064          0.0     -1.424229    1.210865e-04 -1.347369e+00     -0.461546           0.0        NaN\n",
      "1530.0       5676.0  118058.896173  1.755889e+06  5.996524e+05        0.0    50.037598   1.577403e+03  5.571420e+02 -1476.583026          0.0     -1.424152    1.210734e-04 -1.347688e+00     -0.460376           0.0        NaN\n",
      "\n",
      "[4026 rows x 16 columns]\n"
     ]
    }
   ],
   "source": [
    "# SIMULATION\n",
    "    \n",
    "# setup parameters\n",
    "t_step = 0.1 # [s] time for one simulation step\n",
    "t_step = np.array(t_step, dtype=np.float64) \n",
    "digit_precision = 3\n",
    "\n",
    "time = np.array(0, dtype=np.float64)\n",
    "\n",
    "# cartesian coordinates - 3D\n",
    "#         y   z\n",
    "#         │ /              \n",
    "#      ───┼─── x    [x,y,z]\n",
    "#       / Moon       \n",
    "# point of origin = moon center mass point\n",
    "\n",
    "# Spacecraft properties\n",
    "# mass\n",
    "m = mass_full  # [kg]\n",
    "\n",
    "# position\n",
    "pos = np.array([0,r_moon,0], dtype=np.float64) # [m]\n",
    "\n",
    "# velocity\n",
    "#add ground speed vel\n",
    "vel = np.array([0,0,0], dtype=np.float64) # [m/s]\n",
    "\n",
    "# acceleration\n",
    "acc = np.array([0,0,0], dtype=np.float64) # [m/s²]\n",
    "\n",
    "# engine toggle\n",
    "engine_on = True\n",
    "# engine acc direction\n",
    "dir_n = vec_from_angle(0)\n",
    "\n",
    "# pandas df for logging\n",
    "# to increase appending speed, rows are written into memory then read back in pandas df\n",
    "output = StringIO()\n",
    "csv_writer = writer(output)\n",
    "\n",
    "csv_writer.writerow(['time [s]','mass [kg]','altitude [m]','pos_x [m]','pos_y [m]','pos_z [m]','vel_r [m/s]','vel_phi [m/s]','vel_x [m/s]','vel_y [m/s]','vel_z [m/s]','acc_r [m/s²]','acc_phi [m/s²]','acc_x [m/s²]','acc_y [m/s²]','acc_z [m/s²]','dir_n [°]'])\n",
    "\n",
    "def write_data_row():\n",
    "    csv_writer.writerow([time,m,altitude(pos),pos[0],pos[1],pos[2],r_sys(vel,pos)[1],r_sys(vel,pos)[0],vel[0],vel[1],vel[2],r_sys(acc,pos)[1],r_sys(acc,pos)[0],acc[0],acc[1],acc[2],angle(dir_n)])\n",
    "\n",
    "write_data_row() # inital values at index 0 at time 0\n",
    "\n",
    "def log(x=1):\n",
    "    # logging results only every x seconds\n",
    "    if (time*1000)%(x) == 0:\n",
    "        write_data_row()\n",
    "\n",
    "\n",
    "# Velocity Verlet - numerical solution to differential equation\n",
    "\n",
    "def phys_sim_step():\n",
    "    \n",
    "    global time, pos, vel, acc, m, dir_n, engine_on\n",
    "    \n",
    "    # one sim step BEGIN\n",
    "    ###############################\n",
    "    new_pos = pos + vel*t_step + acc*(t_step*t_step*0.5)\n",
    "    new_acc = (dir_n * acc_propulsion(m)) + acc_grav_moon(pos)\n",
    "    new_vel = vel + (acc+new_acc)*(t_step*0.5)    \n",
    "    \n",
    "    if engine_on:\n",
    "        new_mass = m - (m_flow * t_step)\n",
    "        if new_mass < mass_dry:\n",
    "            print('CRITICAL - FUEL EMPTY')\n",
    "            new_mass = m\n",
    "            engine_on = False\n",
    "    else: new_mass = m\n",
    "    \n",
    "    pos = new_pos\n",
    "    vel = new_vel\n",
    "    acc = new_acc\n",
    "    m = new_mass\n",
    "    \n",
    "    time = np.around(time + t_step,digit_precision)\n",
    "\n",
    "    ###############################\n",
    "    # one sim step END\n",
    "    \n",
    "\n",
    "# Simulation execution\n",
    "\n",
    "\n",
    "target_altitude = 2000 # [m]\n",
    "\n",
    "\n",
    "print('''\n",
    "┌───────────┬─────────────────────────────────┐\n",
    "│  Phase 1  │          Vertical rise          │\n",
    "└───────────┴─────────────────────────────────┘''')\n",
    "\n",
    "dir_n = vec_from_angle(0)\n",
    "plot_vector(dir_n)\n",
    "\n",
    "# stop condition: time\n",
    "\n",
    "while time < 12: \n",
    "    \n",
    "    phys_sim_step()\n",
    "    \n",
    "    log(1) # log every x [ms]\n",
    "        \n",
    "\n",
    "phase1_end = time\n",
    "print(f'Phase 1 finished at {phase1_end} s')\n",
    "        \n",
    "print('''\n",
    "┌───────────┬─────────────────────────────────┐\n",
    "│  Phase 2  │      first tilt, 38° burn       │\n",
    "└───────────┴─────────────────────────────────┘''')\n",
    "\n",
    "dir_n = vec_from_angle(38)\n",
    "plot_vector(dir_n)\n",
    "\n",
    "# stop condition: time\n",
    "time_now = time\n",
    "while time < time_now + 2: \n",
    "    \n",
    "    phys_sim_step()\n",
    "    \n",
    "    log(1) # log every x [ms]\n",
    "\n",
    "phase2_end = time \n",
    "print(f'Phase 2 finished at {phase2_end} s')\n",
    "    \n",
    "print('''\n",
    "┌───────────┬─────────────────────────────────┐\n",
    "│  Phase 3  │     second tilt, 52° burn       │\n",
    "└───────────┴─────────────────────────────────┘''')\n",
    "\n",
    "dir_n = vec_from_angle(52)\n",
    "plot_vector(dir_n)\n",
    "\n",
    "# stop condition: time\n",
    "time_now = time\n",
    "while time < time_now + 2: \n",
    "    \n",
    "    phys_sim_step()\n",
    "    \n",
    "    log(1) # log every x [ms]\n",
    "    \n",
    "phase3_end = time \n",
    "print(f'Phase 3 finished at {phase3_end} s')\n",
    "\n",
    "\n",
    "\n",
    "# Phase 4.0: Orbit injection - bring vel_r = 0\n",
    "print('''\n",
    "┌───────────┬──────────────────────────────────┐\n",
    "│ Phase 4.0 │   80° burn, set target_altitude  │\n",
    "└───────────┴──────────────────────────────────┘''')\n",
    "\n",
    "dir_n = vec_from_angle(80)\n",
    "plot_vector(dir_n)\n",
    "\n",
    "# stop condition: setting target_altitude\n",
    "phase41_time = r_sys(vel,pos)[0] / norm(acc_grav_moon(pos))\n",
    "estimated_alt_gain = 0.5 * r_sys(vel,pos)[0] * phase41_time\n",
    "\n",
    "while (altitude(pos) < (target_altitude - estimated_alt_gain)): \n",
    "    \n",
    "    phase41_time = r_sys(vel,pos)[0] / norm(acc_grav_moon(pos))\n",
    "    estimated_alt_gain = 0.5 * r_sys(vel,pos)[0] * phase41_time\n",
    "    \n",
    "    phys_sim_step()\n",
    "    \n",
    "    log(1) # log every x [ms]\n",
    "    \n",
    "phase40_end = time \n",
    "print(f'Phase 4.0 finished at {phase40_end} s')\n",
    "\n",
    "alt = altitude(pos)\n",
    "print(f'> Altitude {alt} m reached')\n",
    "print(f'> Estimated altitude gain in 4.1 {estimated_alt_gain} m')\n",
    "print(f'> Orbital velocity {orbital_velocity(alt)} m/s needed')\n",
    "\n",
    "\n",
    "# Phase 4.1: Orbit injection - bring vel_r = 0\n",
    "print('''\n",
    "┌───────────┬────────────────────────────┐\n",
    "│ Phase 4.1 │   90° burn until vel_r = 0 │\n",
    "└───────────┴────────────────────────────┘''')\n",
    "\n",
    "dir_n = vec_from_angle(90)\n",
    "plot_vector(dir_n)\n",
    "\n",
    "# stopping condition: radial velocity (vel_r)\n",
    "\n",
    "while r_sys(vel,pos)[1] > 0: \n",
    "    \n",
    "    phys_sim_step()\n",
    "    \n",
    "    log(1) # log every x [ms]\n",
    "    \n",
    "phase41_end = time \n",
    "print(f'Phase 4.1 finished at {phase41_end} s')\n",
    "\n",
    "alt = altitude(pos)\n",
    "print(f'> Altitude {alt} m reached')\n",
    "print(f'> Orbital velocity {orbital_velocity(alt)} m/s needed')\n",
    "print(f'> current Orbital velocity {r_sys(vel,pos)[0]} m/s')\n",
    "\n",
    "# Phase 4: Orbit injection\n",
    "print('''\n",
    "┌───────────┬─────────────────────────────────────────────┐\n",
    "│ Phase 4.2 │   orbit injection, constant altitude burn   │\n",
    "└───────────┴─────────────────────────────────────────────┘''')\n",
    "\n",
    "#dir_n = xy_sys(vec_from_angle(90),pos)\n",
    "dir_n = hover_dir(pos,m)\n",
    "print(f'from {angle(dir_n)}°')\n",
    "plot_vector(dir_n)\n",
    "print(pos)\n",
    "\n",
    "# stopping condition: orbital velocity (vel_phi)\n",
    "while r_sys(vel,pos)[0] < orbital_velocity(alt):\n",
    "    \n",
    "    #dir_n = xy_sys(vec_from_angle(90),pos)\n",
    "    dir_n = hover_dir(pos,m)\n",
    "    \n",
    "    phys_sim_step()\n",
    "    \n",
    "    alt = altitude(pos)\n",
    "    \n",
    "    log(1) # log every x [ms]\n",
    "    \n",
    "#dir_n = xy_sys(vec_from_angle(90),pos)\n",
    "dir_n = hover_dir(pos,m)\n",
    "\n",
    "print(f'to {angle(dir_n)}°')\n",
    "plot_vector(dir_n)\n",
    "\n",
    "\n",
    "phase4_end = time\n",
    "print(f'Phase 4 finished at {phase4_end} s')\n",
    "print(f'> Orbital velocity {r_sys(vel,pos)[0]} m/s reached')\n",
    "print(f'> pos {pos} m reached')\n",
    "print(f'> r_pos {r_sys(pos,pos)} m reached')\n",
    "print(f'> Altitude {alt+r_moon} m reached')\n",
    "\n",
    "print('''\n",
    "┌───────────┬─────────────────────────────────┐\n",
    "│  Phase 5  │   orbit propagate, engine off   │\n",
    "└───────────┴─────────────────────────────────┘''')\n",
    "\n",
    "dir_n =  np.array([0,0,0], dtype=np.float64)\n",
    "plot_vector(dir_n)\n",
    "engine_on = False\n",
    "\n",
    "now_time = time\n",
    "\n",
    "while time < 1530:\n",
    "    \n",
    "    if round(pos[1]) < 1 and round(pos[1]) > -1:\n",
    "        print('r_sys conversion check')\n",
    "        print(f'> time {time} s reached')\n",
    "        print(f'> pos {pos} m reached')\n",
    "        print(f'> r_pos{r_sys(pos,pos)} m reached')\n",
    "        print(f'> vel {vel} m/s reached')\n",
    "        print(f'> r_vel {r_sys(vel,pos)} m/s² reached')\n",
    "        print(f'> acc {acc} m/s reached')\n",
    "        print(f'> r_acc {r_sys(acc,pos)} m/s² reached')\n",
    "    \n",
    "    phys_sim_step()\n",
    "    \n",
    "    log(1000) # log every full x [ms]\n",
    "\n",
    "\n",
    "print('''\n",
    "├───────────────── FINISHED ──────────────────┤\n",
    "''')\n",
    "\n",
    "\n",
    "# load pandas df back from memory\n",
    "output.seek(0) # we need to get back to the start of the StringIO\n",
    "df = pd.read_csv(output)\n",
    "df = df.set_index('time [s]')\n",
    "print(df)"
   ]
  },
  {
   "cell_type": "code",
   "execution_count": 13,
   "metadata": {},
   "outputs": [
    {
     "data": {
      "image/png": "[encoded data removed]",
      "text/plain": [
       "<Figure size 2160x720 with 3 Axes>"
      ]
     },
     "metadata": {
      "needs_background": "light"
     },
     "output_type": "display_data"
    },
    {
     "data": {
      "image/png": "[encoded data removed]",
      "text/plain": [
       "<Figure size 1800x1296 with 6 Axes>"
      ]
     },
     "metadata": {
      "needs_background": "light"
     },
     "output_type": "display_data"
    }
   ],
   "source": [
    "# plot path cartesian\n",
    "dpi = 72\n",
    "\n",
    "#fig, (ax1, ax2) = plt.subplots(1, 2, figsize=(20,10),dpi=dpi)\n",
    "\n",
    "\n",
    "# Create 2x2 sub plots\n",
    "gs = gridspec.GridSpec(ncols=3, nrows=1,width_ratios=[1,14,2.5])\n",
    "\n",
    "pl.figure(figsize=(30,10))\n",
    "\n",
    "\n",
    "# left\n",
    "ax = pl.subplot(gs[0, 0]) # row 0, col 0\n",
    "\n",
    "offset_y = r_moon\n",
    "# moon surface\n",
    "t = np.linspace(0.49*np.pi,0.51*np.pi,1000)\n",
    "pl.plot(r_moon*np.cos(t), r_moon*np.sin(t)-offset_y,color='grey', linewidth=2)\n",
    "\n",
    "xpoints = df.loc[0.0:phase3_end+2]['pos_x [m]']\n",
    "ypoints = df.loc[0.0:phase3_end+2]['pos_y [m]']\n",
    "\n",
    "\n",
    "max_x = np.max(xpoints)\n",
    "max_y = np.max(ypoints-offset_y)\n",
    "min_x = np.min(xpoints)\n",
    "min_y = np.min(ypoints-offset_y)\n",
    "\n",
    "pad_y = 1e1\n",
    "pad_x = 1e2\n",
    "\n",
    "ax.set_xlim(min_x-pad_x, max_x)\n",
    "ax.set_ylim(min_y-pad_y, max_y+pad_y)\n",
    "\n",
    "ax.set_aspect('equal', adjustable='box')\n",
    "ax.grid(True)\n",
    "pl.plot(xpoints[:round(phase1_end+1)],ypoints[:round(phase1_end+1)]-offset_y                                  , color='deeppink') # phase 1\n",
    "pl.plot(xpoints[round(phase1_end):round(phase2_end+1)],ypoints[round(phase1_end):round(phase2_end+1)]-offset_y, color='magenta') # phase 2\n",
    "pl.plot(xpoints[round(phase2_end):round(phase3_end+1)],ypoints[round(phase2_end):round(phase3_end+1)]-offset_y, color='darkviolet') # phase 3\n",
    "pl.plot(xpoints[round(phase3_end):],ypoints[round(phase3_end):]-offset_y                        ,color='tab:blue') # phase 4\n",
    "\n",
    "#middle\n",
    "ax = pl.subplot(gs[0, 1])\n",
    "\n",
    "t = np.linspace(0.45*np.pi,0.51*np.pi,1000)\n",
    "pl.plot(r_moon*np.cos(t), r_moon*np.sin(t)-offset_y,color='grey', linewidth=2)\n",
    "\n",
    "xpoints = df.loc[:phase4_end]['pos_x [m]']\n",
    "ypoints = df.loc[:phase4_end]['pos_y [m]']\n",
    "\n",
    "max_x = np.max(xpoints)\n",
    "max_y = np.max(ypoints-offset_y)\n",
    "min_x = np.min(xpoints)\n",
    "min_y = np.min(ypoints-offset_y)\n",
    "\n",
    "pad_y = 1e4\n",
    "pad_x = 1e3\n",
    "\n",
    "ax.set_xlim(min_x-pad_x, max_x)\n",
    "ax.set_ylim(min_y-pad_y, max_y+pad_y)\n",
    "\n",
    "ax.set_aspect('equal', adjustable='box')\n",
    "ax.grid(True)\n",
    "pl.plot(xpoints,ypoints-offset_y,color='tab:blue', linewidth=2) # phase 4\n",
    "\n",
    "\n",
    "# right\n",
    "ax = pl.subplot(gs[0, 2]) # row 0, col 1\n",
    "pl.plot([0,1])\n",
    "\n",
    "# moon surface\n",
    "t = np.linspace(0,2*np.pi,100)\n",
    "pl.plot(r_moon*np.cos(t), r_moon*np.sin(t),color='grey', linewidth=2)\n",
    "\n",
    "xpoints_prop = df.loc[phase4_end:]['pos_x [m]']\n",
    "ypoints_prop = df.loc[phase4_end:]['pos_y [m]']\n",
    "pl.plot(xpoints_prop,ypoints_prop, color='tab:green', linewidth=1) # propagate\n",
    "\n",
    "xpoints = df.loc[0.0:phase4_end]['pos_x [m]']\n",
    "ypoints = df.loc[0.0:phase4_end]['pos_y [m]']\n",
    "pl.plot(xpoints,ypoints, linewidth=2 ) # start\n",
    "\n",
    "ext = np.max(np.abs([ df['pos_x [m]'],df['pos_y [m]']]))\n",
    "\n",
    "ax.set_ylim(-ext, ext)\n",
    "ax.set_xlim(-ext, ext)\n",
    "ax.set_aspect('equal', adjustable='box')\n",
    "ax.grid(True)\n",
    "\n",
    "\n",
    "#plt.axis('off')\n",
    "plt.show()\n",
    "\n",
    "# plot result properties graphs\n",
    "\n",
    "df[['altitude [m]','vel_r [m/s]','vel_phi [m/s]','acc_r [m/s²]','acc_phi [m/s²]','dir_n [°]']].plot(subplots=True,figsize=(25,18),grid=True,xlim=[0, df.index[-1]])\n",
    "#df.plot(subplots=True,figsize=(20,25))\n",
    "plt.show()"
   ]
  },
  {
   "cell_type": "code",
   "execution_count": 63,
   "metadata": {},
   "outputs": [
    {
     "data": {
      "image/png": "[encoded data removed]",
      "text/plain": [
       "<Figure size 432x288 with 1 Axes>"
      ]
     },
     "metadata": {
      "needs_background": "light"
     },
     "output_type": "display_data"
    }
   ],
   "source": [
    "n = len(df['acc_x [m/s²]'].values)\n",
    "result = np.zeros(n)\n",
    "\n",
    "acc_x_val = df['acc_x [m/s²]'].values\n",
    "acc_y_val = df['acc_y [m/s²]'].values\n",
    "\n",
    "for i in range(n):\n",
    "    x_vec = acc_x_val[i] * np.array([1,0,0])\n",
    "    y_vec = acc_y_val[i] * np.array([0,1,0])\n",
    "    result[i] = norm(x_vec+y_vec)\n",
    "\n",
    "ypoints = result\n",
    "xpoints = df.index\n",
    "\n",
    "plt.plot(xpoints,ypoints)\n",
    "\n",
    "def acc_grav_moon_2(alt):\n",
    "    r = alt + r_moon\n",
    "    r_val = G * (m_moon/(r**2))\n",
    "    \n",
    "    return r_val\n",
    "\n",
    "#verify acc_x acc_y correct\n",
    "\n",
    "alt = df['altitude [m]'].values\n",
    "result = np.zeros(n)\n",
    "\n",
    "\n",
    "for i in range(n):\n",
    "    result[i]= acc_grav_moon_2(alt[i])\n",
    "    \n",
    "\n",
    "ypoints = result\n",
    "xpoints = df.index\n",
    "\n",
    "plt.plot(xpoints,ypoints)\n",
    "plt.show()\n",
    "# > pass, correct\n",
    "\n",
    "#verify acc_x acc_y transform > acc_r correct\n",
    "\n",
    "\n",
    "\n"
   ]
  },
  {
   "cell_type": "markdown",
   "metadata": {},
   "source": [
    "# STK"
   ]
  },
  {
   "cell_type": "code",
   "execution_count": null,
   "metadata": {},
   "outputs": [],
   "source": [
    "# pip install \"C:\\Program Files\\AGI\\STK 12\\bin\\AgPythonAPI\\agi.stk12-12.2.0-py3-none-any.whl\"\n",
    "# run this notebook from STK's Python Scripting Interface"
   ]
  },
  {
   "cell_type": "code",
   "execution_count": null,
   "metadata": {},
   "outputs": [],
   "source": [
    "# STK library imports\n",
    "from agi.stk12.stkdesktop import STKDesktop\n",
    "from agi.stk12.stkobjects import *\n",
    "from agi.stk12.stkutil import *\n",
    "from agi.stk12.vgt import *\n",
    "# if using astrogator uncomment the below\n",
    "# from agi.stk12.stkobjects.astrogator\n",
    "# if using aviator uncomment the below\n",
    "# from agi.stk12.stkobjects.aviator\n",
    "\n",
    "# Python helper library imports\n",
    "import os\n",
    "from tqdm.notebook import tqdm\n",
    "from ipywidgets import *\n",
    "import time\n",
    "import numpy as np\n",
    "import plotly.express as px\n",
    "import xarray as xr"
   ]
  },
  {
   "cell_type": "code",
   "execution_count": null,
   "metadata": {},
   "outputs": [],
   "source": [
    "# helper functions\n",
    "\n",
    "# model for launch segment\n",
    "\n",
    "# plot xArray data"
   ]
  },
  {
   "cell_type": "markdown",
   "metadata": {
    "tags": []
   },
   "source": [
    "## Destination: Gateway (Near-Rectilinear Halo Orbit)\n",
    "> open file \"Gateway_PROP_Mass_Point.sc\" in STK"
   ]
  },
  {
   "cell_type": "markdown",
   "metadata": {},
   "source": [
    "### connect to STK session and grab elements"
   ]
  },
  {
   "cell_type": "code",
   "execution_count": null,
   "metadata": {},
   "outputs": [],
   "source": [
    "# Get reference to the current instance of STK\n",
    "STK_PID = os.getenv('STK_PID')\n",
    "stk = STKDesktop.AttachToApplication(pid=int(STK_PID))\n",
    "root = stk.Root\n",
    "\n",
    "# rewind to initial datetime\n",
    "scenario = root.CurrentScenario\n",
    "scenario.SetTimePeriod('01 Jan 2022 00:00:00.000','03 Jan 2022 00:00:00.000')\n",
    "root.Rewind()\n",
    "\n",
    "# load existing Satellite and Place\n",
    "satellite = root.CurrentScenario.Children.Item('NRHO_Sat')\n",
    "place_start = root.CurrentScenario.Children.Item('Start')\n",
    "place_start.Position.AssignGeodetic(0,0,0)"
   ]
  },
  {
   "cell_type": "code",
   "execution_count": null,
   "metadata": {},
   "outputs": [],
   "source": [
    "#satellite  = AgSatellite(root.CurrentScenario.Children.New(AgESTKObjectType.eSatellite,\"LeoSat\"))\n",
    "#place_start  = AgPlace(scenario.Children.New(AgESTKObjectType.ePlace,\"Start\"))"
   ]
  },
  {
   "cell_type": "code",
   "execution_count": null,
   "metadata": {},
   "outputs": [],
   "source": [
    "#def analyse(object):\n",
    "#    print([method_name for method_name in dir(object)if callable(getattr(object, method_name))])\n",
    "#print(satellite.Propagator.__dict__.keys())\n",
    "\n",
    "# use dir() instead"
   ]
  },
  {
   "cell_type": "code",
   "execution_count": null,
   "metadata": {},
   "outputs": [],
   "source": [
    "#analyse(satellite.Propagator.MainSequence.Item(0).Profiles.Item(0).Results.Item(0))\n",
    "#analyse(satellite.Propagator.MainSequence.Item(0).Profiles.Item(0).ControlParameters.Item(0))\n",
    "#dir(satellite.Propagator.MainSequence.Item(0).Profiles.Item(0).ControlParameters.Item(0))\n",
    "# Name\n",
    "# FinalValue\n",
    "# LastUpdate\n",
    "#dir(satellite.Propagator.MainSequence.Item(0).Profiles.Item(0).Results.Item(0))\n",
    "# Name\n",
    "# CurrentValue\n",
    "# DesiredValue\n",
    "# Difference\n",
    "# Values\n",
    "\n",
    "\n",
    "# pull data\n",
    "#print(satellite.Propagator.MainSequence.Item(2).GetResultValue('Eccentricity'))\n",
    "\n",
    "#satellite.Propagator.MainSequence.Item(0).Profiles.Item(0).ControlParameters.Item(0).FinalValue\n",
    "#satellite.Propagator.MainSequence.Item(0).Profiles.Item(0).Results.Item(0).Name\n",
    "\n",
    "# set data\n",
    "#satellite.Propagator.MainSequence.Item(0).Segments.Item(0).BurnoutVelocity._SetFixedVelocity(1)\n",
    "#satellite.Propagator.MainSequence.Item(0).Segments.Item(0).DisplaySystem.Latitude = 44\n",
    "#satellite.Propagator.MainSequence.Item(0).Segments.Item(0).Burnout.Azimuth = 0"
   ]
  },
  {
   "cell_type": "code",
   "execution_count": null,
   "metadata": {},
   "outputs": [],
   "source": [
    "#airtemps = xr.tutorial.open_dataset('air_temperature').air.isel(time=500)\n",
    "#airtemps"
   ]
  },
  {
   "cell_type": "code",
   "execution_count": null,
   "metadata": {},
   "outputs": [],
   "source": [
    "#colorbar_title = results.attrs['var_desc'] + '<br>(%s)'%results.attrs['units']\n",
    "#fig = px.imshow(results, color_continuous_scale='RdBu_r', aspect='equal')\n",
    "#fig.show()\n",
    "#fig.write_image(\"images/fig1.pdf\")\n",
    "#print(satellite.Propagator.MainSequence.Item(0).Profiles.Item(0).ControlParameters.Item(0).FinalValue*1000)\n",
    "#print()\n",
    "#print(satellite.Propagator.MainSequence.Item(3).Profiles.Item(0).ControlParameters.Item(0).Name)\n",
    "#print(satellite.Propagator.MainSequence.Item(3).Profiles.Item(0).ControlParameters.Item(0).FinalValue*1000)\n",
    "#print(satellite.Propagator.MainSequence.Item(3).Profiles.Item(0).ControlParameters.Item(1).FinalValue*1000)\n",
    "#print(satellite.Propagator.MainSequence.Item(3).Profiles.Item(0).ControlParameters.Item(2).FinalValue*1000)\n",
    "\n",
    "#dir(satellite.Propagator.MainSequence.Item(3).Profiles.Item(0).ControlParameters.Item(0))\n",
    "\n",
    "#print(satellite.Propagator.MainSequence.Item(0).Profiles.Item(0).Status)\n",
    "\n",
    "#dv2_x = satellite.Propagator.MainSequence.Item(3).Profiles.Item(0).ControlParameters.Item(0).FinalValue*1000\n",
    "#dv2_y = satellite.Propagator.MainSequence.Item(3).Profiles.Item(0).ControlParameters.Item(1).FinalValue*1000\n",
    "#dv2_z = satellite.Propagator.MainSequence.Item(3).Profiles.Item(0).ControlParameters.Item(2).FinalValue*1000\n",
    "#dv2_vec = np.array([dv2_x, dv2_y, dv2_z])\n",
    "#dv2 = np.linalg.norm(dv2_vec)\n",
    "#print(dv2)"
   ]
  },
  {
   "cell_type": "markdown",
   "metadata": {},
   "source": [
    "### control STK and compute global result"
   ]
  },
  {
   "cell_type": "code",
   "execution_count": null,
   "metadata": {},
   "outputs": [],
   "source": [
    "####################################################################################\n",
    "# WARNING !    this step takes approx. 4 hours to compute for 5 deg resolution     #\n",
    "####################################################################################\n",
    "\n",
    "# calculation steps in deg for geodetic location\n",
    "resolution = 30\n",
    "\n",
    "print('Result image resolution:',1+(360/resolution),'x',1+(180/resolution))\n",
    "n_total = (1+(360/resolution))*(1+(180/resolution))\n",
    "print('number of calculations:',n_total)\n",
    "\n",
    "if n_total != int(n_total): print(\"WARNING: non matching map!\")\n",
    "\n",
    "Longitude = []\n",
    "Latitude = []\n",
    "\n",
    "for Lon in range(-180,181,resolution):\n",
    "    Longitude.append(Lon)\n",
    "for Lat in range(-90,91,resolution):\n",
    "    Latitude.append(Lat)\n",
    "\n",
    "\n",
    "Latitude = list(reversed(Latitude))\n",
    "\n",
    "deltaV_Gateway = np.zeros((len(Latitude), len(Longitude)))\n",
    "deltaV_Gateway[:] = np.nan\n",
    "\n",
    "fuel_mass_Gateway = np.zeros((len(Latitude), len(Longitude)))\n",
    "fuel_mass_Gateway[:] = np.nan\n",
    "\n",
    "print()\n",
    "print(len(Longitude),Longitude)\n",
    "print()\n",
    "print(len(Latitude),Latitude)\n",
    "\n",
    "with tqdm(total=n_total) as pbar:\n",
    "    for Lat_count, Lat in enumerate(Latitude):\n",
    "        for Lon_count, Lon in enumerate(Longitude):\n",
    "            #print(\"Lat:\",Lat,\"Lon:\",Lon)\n",
    "            place_start.Position.AssignGeodetic(Lat,Lon,0)\n",
    "            satellite.Propagator.MainSequence.Item(0).Segments.Item(0).DisplaySystem.Latitude = Lat\n",
    "            satellite.Propagator.MainSequence.Item(0).Segments.Item(0).DisplaySystem.Longitude = Lon\n",
    "            if Lon > -90 and Lon < 90:\n",
    "                satellite.Propagator.MainSequence.Item(0).Segments.Item(0).Burnout.Azimuth = -180\n",
    "            else:\n",
    "                satellite.Propagator.MainSequence.Item(0).Segments.Item(0).Burnout.Azimuth = 0\n",
    "                \n",
    "            satellite.Propagator.RunMCS()\n",
    "            check1 = satellite.Propagator.MainSequence.Item(0).Profiles.Item(0).Status\n",
    "            check2 = satellite.Propagator.MainSequence.Item(3).Profiles.Item(0).Status\n",
    "            if check1 == \"Converged\" and check2 == \"Converged\":\n",
    "                \n",
    "                # Launch: Burnout.FixedVelocity\n",
    "                dv1 = satellite.Propagator.MainSequence.Item(0).Profiles.Item(0).ControlParameters.Item(0).FinalValue*1000\n",
    "                # Maneuver: ImpulsiveMnvr.Pointing.Cartesian.X /Y /Z\n",
    "                dv2_x = satellite.Propagator.MainSequence.Item(3).Profiles.Item(0).ControlParameters.Item(0).FinalValue*1000\n",
    "                dv2_y = satellite.Propagator.MainSequence.Item(3).Profiles.Item(0).ControlParameters.Item(1).FinalValue*1000\n",
    "                dv2_z = satellite.Propagator.MainSequence.Item(3).Profiles.Item(0).ControlParameters.Item(2).FinalValue*1000\n",
    "                dv2_vec = np.array([dv2_x, dv2_y, dv2_z])\n",
    "                dv2 = np.linalg.norm(dv2_vec)\n",
    "\n",
    "                deltaV_Gateway[Lat_count][Lon_count] = dv2\n",
    "                fuel_mass_Gateway[Lat_count][Lon_count] = 0\n",
    "                \n",
    "            else:\n",
    "                print(\"ERROR\",\"did NOT Converge for\",\"Lat:\",Lat,\"Lon:\",Lon)\n",
    "                \n",
    "            pbar.update(1)"
   ]
  },
  {
   "cell_type": "markdown",
   "metadata": {},
   "source": [
    "### save result in xArray"
   ]
  },
  {
   "cell_type": "code",
   "execution_count": null,
   "metadata": {},
   "outputs": [],
   "source": [
    "xA_fuel_mass_Gateway = xr.DataArray(\n",
    "    data=fuel_mass_Gateway,\n",
    "    dims=[\"lat\",\"lon\"],\n",
    "    coords=dict(\n",
    "        lon=([\"lon\"], Longitude),\n",
    "        lat=([\"lat\"], Latitude)\n",
    "    ),\n",
    "    attrs=dict(\n",
    "        description=\"DeltaV to Gateway\",\n",
    "        var_desc=\"deltaV\",\n",
    "        units=\"m/s\",\n",
    "    ),\n",
    ")\n",
    "\n",
    "xA_fuel_mass_Gateway.to_netcdf(\"maps/fuel_mass_Gateway.nc\")"
   ]
  },
  {
   "cell_type": "code",
   "execution_count": null,
   "metadata": {},
   "outputs": [],
   "source": [
    "# load array\n",
    "xA_fuel_mass_Gateway = xr.open_dataarray(\"maps/fuel_mass_Gateway.nc\")"
   ]
  },
  {
   "cell_type": "code",
   "execution_count": null,
   "metadata": {},
   "outputs": [],
   "source": [
    "colorbar_title = xA_fuel_mass_Gateway.attrs['var_desc'] + '<br>(%s)'%xA_fuel_mass_Gateway.attrs['units']\n",
    "\n",
    "#fig = px.imshow(results, color_continuous_scale='RdBu_r', aspect='equal')\n",
    "fig = px.imshow(img=xA_fuel_mass_Gateway,\n",
    "                width=1000,\n",
    "                height=500,\n",
    "                color_continuous_scale='blugrn_r',\n",
    "                aspect='equal')\n",
    "\n",
    "fig.update_xaxes(tickangle=0,\n",
    "                 tickmode = 'array',\n",
    "                 tickvals = [-180, -150, -120, -90, -60, -30, 0, 30, 60, 90, 120, 150, 180])\n",
    "fig.update_yaxes(tickangle=0,\n",
    "                 tickmode = 'array',\n",
    "                 tickvals = [-90,-60,-30,0,30,60,90])\n",
    "\n",
    "\n",
    "fig.update_layout(\n",
    "    xaxis_title='Longitude',\n",
    "    yaxis_title='Latitude',\n",
    "    title= 'DeltaV Map<br>Destination Gateway',\n",
    "    title_x=0.45\n",
    ")\n",
    "\n",
    "\n",
    "#fig.write_image(\"fig/dv1.pdf\")\n",
    "fig.write_image(\"doc/img/dv_Gateway.pdf\")\n",
    "fig.show()\n"
   ]
  },
  {
   "cell_type": "code",
   "execution_count": null,
   "metadata": {},
   "outputs": [],
   "source": [
    "#print(scenario.StartTime)\n",
    "#print(scenario.StopTime)"
   ]
  },
  {
   "cell_type": "code",
   "execution_count": null,
   "metadata": {},
   "outputs": [],
   "source": [
    "root.ExecuteCommand('SetState */Satellite/LeoSat Classical TwoBody \"' +\n",
    "                    str(scenario.StartTime) + '\" \"' + str(scenario.StopTime) +\n",
    "                    '\" 60 ICRF  \"' + str(scenario.StartTime) + '\" 7200000.0 0.0 90 0.0 0.0 0.0')"
   ]
  },
  {
   "cell_type": "code",
   "execution_count": null,
   "metadata": {},
   "outputs": [],
   "source": [
    "access = satellite.GetAccessToObject(target)\n",
    "access.ComputeAccess()"
   ]
  },
  {
   "cell_type": "code",
   "execution_count": null,
   "metadata": {},
   "outputs": [],
   "source": [
    "accessDP         = access.DataProviders.Item('Access Data')\n",
    "\n",
    "results          = accessDP.Exec(scenario.StartTime, scenario.StopTime)\n",
    "\n",
    "accessStartTimes = results.DataSets.GetDataSetByName('Start Time').GetValues()\n",
    "\n",
    "accessStopTimes  = results.DataSets.GetDataSetByName('Stop Time').GetValues()\n",
    "\n",
    "print(accessStartTimes,accessStopTimes)"
   ]
  },
  {
   "cell_type": "code",
   "execution_count": null,
   "metadata": {},
   "outputs": [],
   "source": [
    "accessIntervals = access.ComputedAccessIntervalTimes\n",
    "\n",
    "dataProviderElements = ['Start Time', 'Stop Time']\n",
    "\n",
    "for i in range(0,accessIntervals.Count):\n",
    "    times = accessIntervals.GetInterval(i)\n",
    "    print(times)"
   ]
  },
  {
   "cell_type": "markdown",
   "metadata": {},
   "source": [
    "### Retrieve the Satellite Altitude Data From STK\n",
    "\n",
    "Retrieve and view the altitude of the satellite during an access interval. In the following lines, note how the data providers must follow the data provider folder, sub-folder, and selection."
   ]
  },
  {
   "cell_type": "code",
   "execution_count": null,
   "metadata": {},
   "outputs": [],
   "source": [
    "satelliteDP       = satellite.DataProviders.Item('LLA State')\n",
    "\n",
    "satelliteDP2      = satelliteDP.Group.Item('Fixed')\n",
    "\n",
    "rptElements       = ['Time', 'Lat', 'Lon', 'Alt']\n",
    "\n",
    "satelliteDPTimeVar = satelliteDP2.ExecElements(accessStartTimes,accessStopTimes, 60, rptElements)\n",
    "\n",
    "satelliteAltitude = satelliteDPTimeVar.DataSets.GetDataSetByName('Alt').GetValues()\n",
    "\n",
    "print(satelliteAltitude)"
   ]
  },
  {
   "cell_type": "markdown",
   "metadata": {},
   "source": [
    "## Destination: Low Lunar Orbit (Equatorial)\n",
    "> open file \"Gateway_PROP_Mass_Point.sc\" in STK"
   ]
  },
  {
   "cell_type": "code",
   "execution_count": null,
   "metadata": {},
   "outputs": [],
   "source": [
    "# Get reference to the current instance of STK\n",
    "STK_PID = os.getenv('STK_PID')\n",
    "stk = STKDesktop.AttachToApplication(pid=int(STK_PID))\n",
    "root = stk.Root\n",
    "\n",
    "# rewind to initial datetime\n",
    "scenario = root.CurrentScenario\n",
    "scenario.SetTimePeriod('01 Jan 2022 00:00:00.000','03 Jan 2022 00:00:00.000')\n",
    "root.Rewind()\n",
    "\n",
    "# load existing Satellite and Place\n",
    "satellite = root.CurrentScenario.Children.Item('LLO_Sat_Eq')\n",
    "place_start = root.CurrentScenario.Children.Item('Start')\n",
    "place_start.Position.AssignGeodetic(0,0,0)"
   ]
  },
  {
   "cell_type": "markdown",
   "metadata": {
    "tags": []
   },
   "source": [
    "## Destination: Low Lunar Orbit (Polar)\n",
    "> open file \"Gateway_PROP_Mass_Point.sc\" in STK"
   ]
  },
  {
   "cell_type": "code",
   "execution_count": null,
   "metadata": {},
   "outputs": [],
   "source": [
    "# Get reference to the current instance of STK\n",
    "STK_PID = os.getenv('STK_PID')\n",
    "stk = STKDesktop.AttachToApplication(pid=int(STK_PID))\n",
    "root = stk.Root\n",
    "\n",
    "# rewind to initial datetime\n",
    "scenario = root.CurrentScenario\n",
    "scenario.SetTimePeriod('01 Jan 2022 00:00:00.000','03 Jan 2022 00:00:00.000')\n",
    "root.Rewind()\n",
    "\n",
    "# load existing Satellite and Place\n",
    "satellite = root.CurrentScenario.Children.Item('LLO_Sat_Pol')\n",
    "place_start = root.CurrentScenario.Children.Item('Start')\n",
    "place_start.Position.AssignGeodetic(0,0,0)"
   ]
  },
  {
   "cell_type": "markdown",
   "metadata": {},
   "source": [
    "## Destination: Lagrange Point (L1) - Earth Moon System\n",
    "> open file \"Gateway_PROP_Mass_Point.sc\" in STK"
   ]
  },
  {
   "cell_type": "markdown",
   "metadata": {},
   "source": [
    "## Destination: Low Earth Orbit (Equatorial) - Starship refuel\n",
    "> open file \"Gateway_PROP_Mass_Point.sc\" in STK"
   ]
  }
 ],
 "metadata": {
  "kernelspec": {
   "display_name": "Python 3 (ipykernel)",
   "language": "python",
   "name": "python3"
  },
  "language_info": {
   "codemirror_mode": {
    "name": "ipython",
    "version": 3
   },
   "file_extension": ".py",
   "mimetype": "text/x-python",
   "name": "python",
   "nbconvert_exporter": "python",
   "pygments_lexer": "ipython3",
   "version": "3.10.2"
  }
 },
 "nbformat": 4,
 "nbformat_minor": 4
}
