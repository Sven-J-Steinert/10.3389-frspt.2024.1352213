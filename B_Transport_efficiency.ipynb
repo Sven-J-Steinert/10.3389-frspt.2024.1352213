{
 "cells": [
  {
   "cell_type": "markdown",
   "metadata": {
    "tags": []
   },
   "source": [
    "# <font style=\"color: rgb(0,0,0);\">Option B: </font> <font style=\"color: rgb(190,138,67);\">Transport efficiency</font>"
   ]
  },
  {
   "cell_type": "markdown",
   "metadata": {
    "tags": []
   },
   "source": [
    "## modelling the Launch Segment"
   ]
  },
  {
   "cell_type": "markdown",
   "metadata": {},
   "source": [
    "imitating ascent characteristics from Apollo return flights\n",
    "\n",
    "> Apollo 11 https://www.hq.nasa.gov/alsj/nasa58040.pdf\n",
    "<br>\n",
    "> Apollo 17 https://history.nasa.gov/alsj/a17/A17_MissionReport.pdf\n",
    "\n",
    "Segmented flight: vertical rise, orbit injection"
   ]
  },
  {
   "cell_type": "code",
   "execution_count": 1,
   "metadata": {},
   "outputs": [],
   "source": [
    "# imports\n",
    "import numpy as np\n",
    "import pandas as pd\n",
    "pd.set_option('display.expand_frame_repr', False)\n",
    "import matplotlib.pyplot as plt\n",
    "import matplotlib.pylab as pl\n",
    "import matplotlib.gridspec as gridspec\n",
    "from io import StringIO\n",
    "from csv import writer "
   ]
  },
  {
   "cell_type": "code",
   "execution_count": 2,
   "metadata": {},
   "outputs": [],
   "source": [
    "# set launch carrier properties\n",
    "# EL3 - European Large Logistics Lander\n",
    "mass_dry  = 1600 # kg\n",
    "mass_full = 8500 # kg\n",
    "mass_fuel = mass_full - mass_dry # kg\n",
    "m_flow = 10 # [kg/s] massflow\n",
    "I_sp = 453 # [s] specific impulse\n",
    "g_0 = 9.80665 # [kg/s²] standard gravity\n",
    "EEV = I_sp * g_0 # [m/s] effective exhaust velocity\n",
    "\n",
    "\n",
    "r_moon = 1737400    # [m] volumetric mean radius of the moon\n",
    "m_moon = 0.07346e24 # [kg] mass of the moon\n",
    "G = 6.67430e-11 # Gravitational constant\n",
    "\n",
    "\n",
    "\n",
    "# acceleration direction from propulsion\n",
    "#         0°\n",
    "#         │                \n",
    "# 270° ───┼─── 90°     reference angle from vertical axis, perpendicular to lunar surface\n",
    "#         │\n",
    "#        180°\n",
    "\n",
    "def angle(vec,rad=False):\n",
    "    \n",
    "    vector_1 = [0, 1, 0]\n",
    "    vector_2 = vec\n",
    "    \n",
    "    if np.linalg.norm(vector_2) == 0: return None\n",
    "\n",
    "    unit_vector_1 = vector_1 / np.linalg.norm(vector_1)\n",
    "    unit_vector_2 = vector_2 / np.linalg.norm(vector_2)\n",
    "    dot_product = np.dot(unit_vector_1, unit_vector_2)\n",
    "    angle = np.arccos(dot_product)\n",
    "    \n",
    "    if vec[0]<0:\n",
    "        angle = 2*np.pi - angle\n",
    "    \n",
    "    if rad: return angle\n",
    "    return np.rad2deg(angle)\n",
    "    \n",
    "\n",
    "def vec_from_angle(deg): # in [x,y] cartesian-coordinates\n",
    "    rad = np.deg2rad(90-deg)\n",
    "\n",
    "    y = np.sin(rad)\n",
    "    x = np.cos(rad)\n",
    "    vec = np.array([x,y,0], dtype=np.float64)\n",
    "    \n",
    "    \n",
    "    # verify\n",
    "    #print(f'vector angle is {angle(vec)}°')\n",
    "    \n",
    "    return vec\n",
    "\n",
    "def plot_vector(vec):\n",
    "    \n",
    "    plt.figure(figsize=(3, 3), dpi=50)\n",
    "    \n",
    "    # reference vector\n",
    "    xpoints = np.array([0, 0])\n",
    "    ypoints = np.array([0, 1])\n",
    "    plt.plot(xpoints, ypoints, '--', color = 'b')\n",
    "    \n",
    "    xpoints = np.array([0, vec[0]])\n",
    "    ypoints = np.array([0, vec[1]])\n",
    "    plt.plot(xpoints, ypoints, color = 'r')\n",
    "    \n",
    "    plt.ylim(-1.1, 1.1)\n",
    "    plt.xlim(-1.1, 1.1)\n",
    "    \n",
    "    plt.gca().set_aspect('equal', adjustable='box')\n",
    "    \n",
    "    #unit circle\n",
    "    t = np.linspace(0,np.pi*2,100)\n",
    "    plt.plot(np.cos(t), np.sin(t), linewidth=2)\n",
    "    \n",
    "    plt.axis('off')\n",
    "    plt.show()"
   ]
  },
  {
   "cell_type": "code",
   "execution_count": 3,
   "metadata": {},
   "outputs": [
    {
     "name": "stdout",
     "output_type": "stream",
     "text": [
      "test acc_grav_moon(r) function: [-0.         -1.62426548 -0.        ] [m/s²] vs. 1.622 [m/s²] expected on surface\n",
      "test acc_propulsion(m) function: 5.226367588235294 [m/s²]\n"
     ]
    },
    {
     "data": {
      "text/plain": [
       "array([0.97362419, 0.2281577 , 0.        ])"
      ]
     },
     "execution_count": 3,
     "metadata": {},
     "output_type": "execute_result"
    }
   ],
   "source": [
    "def norm(vec):\n",
    "    # r = length of pos vector\n",
    "    return np.linalg.norm(vec)\n",
    "\n",
    "def r_sys(vec, pos):\n",
    "\n",
    "    alpha = angle(pos,rad=True)\n",
    "\n",
    "    rot = np.array([[np.cos(alpha), -np.sin(alpha)], [np.sin(alpha), np.cos(alpha)]])\n",
    "\n",
    "    v = np.array([vec[0], vec[1]], dtype=np.float64)\n",
    "\n",
    "    v2 = np.dot(rot, v)\n",
    "    \n",
    "    return np.array([v2[1], v2[0], vec[2]], dtype=np.float64)\n",
    "    \n",
    "    \n",
    "def altitude(pos):\n",
    "    r = norm(pos)\n",
    "    return r - r_moon\n",
    "\n",
    "def orbital_velocity(altitude):\n",
    "    return np.sqrt((G * m_moon)/(r_moon + alt))\n",
    "\n",
    "def acc_grav_moon(pos):\n",
    "    r = norm(pos)\n",
    "    r_val = G * (m_moon/(r**2))\n",
    "    e_r = -(pos / norm(pos))\n",
    "    \n",
    "    return (e_r * r_val)\n",
    "\n",
    "def acc_centrifugal(pos,vel):\n",
    "    r = norm(pos)\n",
    "    v = r_sys(vel,pos)[1] # vel portion that is ⊥ to r -> phi_val\n",
    "    r_val = (v**2)/(r)\n",
    "    e_r = (pos / norm(pos))\n",
    "    \n",
    "    return (e_r * r_val)\n",
    "\n",
    "print('test acc_grav_moon(r) function:',acc_grav_moon(np.array([0,r_moon,0])),'[m/s²]','vs. 1.622 [m/s²] expected on surface')\n",
    "\n",
    "def acc_propulsion(m):\n",
    "    F_thrust = m_flow * EEV\n",
    "    return F_thrust / m\n",
    "    \n",
    "print('test acc_propulsion(m) function:',acc_propulsion(mass_full),'[m/s²]')\n",
    "\n",
    "def hover_dir(pos,vel,m):\n",
    "    acc_grav = acc_grav_moon(pos)\n",
    "    acc_cent = acc_centrifugal(pos,vel)\n",
    "    #plot_vector(acc_grav)\n",
    "    #plot_vector(acc_cent)\n",
    "\n",
    "    acc_r = acc_grav #+ acc_cent\n",
    "    \n",
    "    #print(acc_grav,'+',acc_cent,'=',acc_r)\n",
    "    #plot_vector(acc_r)\n",
    "    \n",
    "    abs_acc_propulsion = acc_propulsion(m)\n",
    "    \n",
    "    e_r = (pos / norm(pos))\n",
    "    e_r_angle = angle(e_r)\n",
    "    e_phi = vec_from_angle(e_r_angle + 90)\n",
    "    \n",
    "    # Thrust vector T = acc_r + acc_phi\n",
    "    acc_phi = e_phi * (np.sqrt(norm(acc_r)**2 + abs_acc_propulsion**2))\n",
    "    T = acc_phi - acc_r\n",
    "    \n",
    "    hover_dir = T / norm(T)\n",
    "    #plot_vector(hover_dir)\n",
    "    \n",
    "    return hover_dir\n",
    "    \n",
    "hover_dir(np.array([100000,r_moon,0]),np.array([5000,1000,0]),8500)\n",
    "\n",
    "    \n",
    "    "
   ]
  },
  {
   "cell_type": "code",
   "execution_count": 4,
   "metadata": {},
   "outputs": [
    {
     "name": "stdout",
     "output_type": "stream",
     "text": [
      "\n",
      "┌───────────┬─────────────────────────────────┐\n",
      "│  Phase 1  │          Vertical rise          │\n",
      "└───────────┴─────────────────────────────────┘\n"
     ]
    },
    {
     "data": {
      "image/png": "[encoded data removed]",
      "text/plain": [
       "<Figure size 150x150 with 1 Axes>"
      ]
     },
     "metadata": {
      "needs_background": "light"
     },
     "output_type": "display_data"
    },
    {
     "name": "stdout",
     "output_type": "stream",
     "text": [
      "Phase 1 finished at 12.0 s\n",
      "\n",
      "┌───────────┬─────────────────────────────────┐\n",
      "│  Phase 2  │      first tilt, 38° burn       │\n",
      "└───────────┴─────────────────────────────────┘\n"
     ]
    },
    {
     "data": {
      "image/png": "[encoded data removed]",
      "text/plain": [
       "<Figure size 150x150 with 1 Axes>"
      ]
     },
     "metadata": {
      "needs_background": "light"
     },
     "output_type": "display_data"
    },
    {
     "name": "stdout",
     "output_type": "stream",
     "text": [
      "Phase 2 finished at 14.0 s\n",
      "\n",
      "┌───────────┬─────────────────────────────────┐\n",
      "│  Phase 3  │     second tilt, 52° burn       │\n",
      "└───────────┴─────────────────────────────────┘\n"
     ]
    },
    {
     "data": {
      "image/png": "[encoded data removed]",
      "text/plain": [
       "<Figure size 150x150 with 1 Axes>"
      ]
     },
     "metadata": {
      "needs_background": "light"
     },
     "output_type": "display_data"
    },
    {
     "name": "stdout",
     "output_type": "stream",
     "text": [
      "Phase 3 finished at 16.0 s\n",
      "\n",
      "┌───────────┬──────────────────────────────────┐\n",
      "│ Phase 4.0 │   80° burn, set target_altitude  │\n",
      "└───────────┴──────────────────────────────────┘\n"
     ]
    },
    {
     "data": {
      "image/png": "[encoded data removed]",
      "text/plain": [
       "<Figure size 150x150 with 1 Axes>"
      ]
     },
     "metadata": {
      "needs_background": "light"
     },
     "output_type": "display_data"
    },
    {
     "name": "stdout",
     "output_type": "stream",
     "text": [
      "altitude(pos): 451.84319334849715 target_altitude: 2000 estimated_alt_gain: 833.0710866693883\n",
      "True\n",
      "Phase 4.0 finished at 44.7 s\n",
      "> Altitude 1666.9282478541136 m reached\n",
      "> Orbital velocity 1679.0753105688627 m/s needed\n",
      "20.29215759946614 s 333.7737316678208 m altitude gain\n",
      "\n",
      "┌───────────┬────────────────────────────┐\n",
      "│ Phase 4.1 │   90° burn until vel_r = 0 │\n",
      "└───────────┴────────────────────────────┘\n"
     ]
    },
    {
     "data": {
      "image/png": "[encoded data removed]",
      "text/plain": [
       "<Figure size 150x150 with 1 Axes>"
      ]
     },
     "metadata": {
      "needs_background": "light"
     },
     "output_type": "display_data"
    },
    {
     "name": "stdout",
     "output_type": "stream",
     "text": [
      "Phase 4.1 finished at 65.6 s\n",
      "> Altitude 2008.3850932519417 m reached\n",
      "> Orbital velocity 1678.910495938909 m/s needed\n",
      "\n",
      "┌───────────┬─────────────────────────────────────────────┐\n",
      "│ Phase 4.2 │   orbit injection, constant altitude burn   │\n",
      "└───────────┴─────────────────────────────────────────────┘\n",
      "from 74.86091092083403°\n"
     ]
    },
    {
     "data": {
      "image/png": "[encoded data removed]",
      "text/plain": [
       "<Figure size 150x150 with 1 Axes>"
      ]
     },
     "metadata": {
      "needs_background": "light"
     },
     "output_type": "display_data"
    },
    {
     "name": "stdout",
     "output_type": "stream",
     "text": [
      "to 85.5665352789326°\n"
     ]
    },
    {
     "data": {
      "image/png": "[encoded data removed]",
      "text/plain": [
       "<Figure size 150x150 with 1 Axes>"
      ]
     },
     "metadata": {
      "needs_background": "light"
     },
     "output_type": "display_data"
    },
    {
     "name": "stdout",
     "output_type": "stream",
     "text": [
      "Phase 4 finished at 282.2 s\n",
      "\n",
      "┌───────────┬─────────────────────────────────┐\n",
      "│  Phase 5  │   orbit propagate, engine off   │\n",
      "└───────────┴─────────────────────────────────┘\n"
     ]
    },
    {
     "data": {
      "image/png": "[encoded data removed]",
      "text/plain": [
       "<Figure size 150x150 with 1 Axes>"
      ]
     },
     "metadata": {
      "needs_background": "light"
     },
     "output_type": "display_data"
    },
    {
     "name": "stdout",
     "output_type": "stream",
     "text": [
      "\n",
      "├───────────────── FINISHED ──────────────────┤\n",
      "\n",
      "          mass [kg]  altitude [m]     pos_x [m]     pos_y [m]  pos_z [m]  vel_r [m/s]  vel_phi [m/s]   vel_x [m/s]  vel_y [m/s]  vel_z [m/s]  acc_r [m/s²]  acc_phi [m/s²]  acc_x [m/s²]  acc_y [m/s²]  acc_z [m/s²]  dir_n [°]\n",
      "time [s]                                                                                                                                                                                                                       \n",
      "0.0          8500.0      0.000000  0.000000e+00  1.737400e+06        0.0     0.000000   0.000000e+00  0.000000e+00     0.000000          0.0      0.000000    0.000000e+00  0.000000e+00      0.000000           0.0   0.000000\n",
      "0.1          8499.0      0.000000  0.000000e+00  1.737400e+06        0.0     0.180105   1.600114e-17  1.600114e-17     0.180105          0.0      3.602102    3.200227e-16  3.200227e-16      3.602102           0.0   0.000000\n",
      "0.2          8498.0      0.036021  3.200227e-18  1.737400e+06        0.0     0.540346   4.800529e-17  4.800529e-17     0.540346          0.0      3.602717    3.200604e-16  3.200604e-16      3.602717           0.0   0.000000\n",
      "0.3          8497.0      0.108069  9.601058e-18  1.737400e+06        0.0     0.900649   8.001321e-17  8.001321e-17     0.900649          0.0      3.603332    3.200980e-16  3.200980e-16      3.603332           0.0   0.000000\n",
      "0.4          8496.0      0.216151  1.920287e-17  1.737400e+06        0.0     1.261013   1.120249e-16  1.120249e-16     1.261013          0.0      3.603948    3.201357e-16  3.201357e-16      3.603948           0.0   0.000000\n",
      "...             ...           ...           ...           ...        ...          ...            ...           ...          ...          ...           ...             ...           ...           ...           ...        ...\n",
      "281.8        5682.0   7776.007903  2.108236e+05  1.732395e+06        0.0   110.193995   1.673267e+03  1.674324e+03   -92.749732          0.0     -0.063484    7.662698e+00  7.598910e+00     -0.988701           0.0  85.536503\n",
      "281.9        5681.0   7787.035010  2.109911e+05  1.732386e+06        0.0   110.348151   1.674022e+03  1.675084e+03   -92.848646          0.0     -0.063460    7.664101e+00  7.600211e+00     -0.989575           0.0  85.544007\n",
      "282.0        5680.0   7798.077540  2.111586e+05  1.732377e+06        0.0   110.502455   1.674778e+03  1.675844e+03   -92.947647          0.0     -0.063436    7.665504e+00  7.601512e+00     -0.990450           0.0  85.551514\n",
      "282.1        5679.0   7809.135508  2.113263e+05  1.732367e+06        0.0   110.656904   1.675534e+03  1.676605e+03   -93.046736          0.0     -0.063412    7.666908e+00  7.602813e+00     -0.991326           0.0  85.559023\n",
      "282.2        5678.0   7820.208928  2.114940e+05  1.732358e+06        0.0   110.811501   1.676290e+03  1.677365e+03   -93.145912          0.0     -0.063388    7.668312e+00  7.604115e+00     -0.992202           0.0  85.566535\n",
      "\n",
      "[2776 rows x 16 columns]\n"
     ]
    }
   ],
   "source": [
    "# SIMULATION\n",
    "    \n",
    "# setup parameters\n",
    "t_step = 0.1 # [s] time for one simulation step\n",
    "t_step = np.array(t_step, dtype=np.float64) \n",
    "digit_precision = 3\n",
    "\n",
    "time = np.array(0, dtype=np.float64)\n",
    "\n",
    "# cartesian coordinates - 3D\n",
    "#         y   z\n",
    "#         │ /              \n",
    "#      ───┼─── x    [x,y,z]\n",
    "#       / Moon       \n",
    "# point of origin = moon center mass point\n",
    "\n",
    "# Spacecraft properties\n",
    "# mass\n",
    "m = mass_full  # [kg]\n",
    "\n",
    "# position\n",
    "pos = np.array([0,r_moon,0], dtype=np.float64) # [m]\n",
    "\n",
    "# velocity\n",
    "#add ground speed vel\n",
    "vel = np.array([0,0,0], dtype=np.float64) # [m/s]\n",
    "\n",
    "# acceleration\n",
    "acc = np.array([0,0,0], dtype=np.float64) # [m/s²]\n",
    "\n",
    "# engine toggle\n",
    "engine_on = True\n",
    "# engine acc direction\n",
    "dir_n = vec_from_angle(0)\n",
    "\n",
    "# pandas df for logging\n",
    "# to increase appending speed, rows are written into memory then read back in pandas df\n",
    "output = StringIO()\n",
    "csv_writer = writer(output)\n",
    "\n",
    "csv_writer.writerow(['time [s]','mass [kg]','altitude [m]','pos_x [m]','pos_y [m]','pos_z [m]','vel_r [m/s]','vel_phi [m/s]','vel_x [m/s]','vel_y [m/s]','vel_z [m/s]','acc_r [m/s²]','acc_phi [m/s²]','acc_x [m/s²]','acc_y [m/s²]','acc_z [m/s²]','dir_n [°]'])\n",
    "\n",
    "def write_data_row():\n",
    "    csv_writer.writerow([time,m,altitude(pos),pos[0],pos[1],pos[2],r_sys(vel,pos)[0],r_sys(vel,pos)[1],vel[0],vel[1],vel[2],r_sys(acc,pos)[0],r_sys(acc,pos)[1],acc[0],acc[1],acc[2],angle(dir_n)])\n",
    "\n",
    "write_data_row() # inital values at index 0 at time 0\n",
    "\n",
    "def log(x=1):\n",
    "    # logging results only every x seconds\n",
    "    if (time*1000)%(x) == 0:\n",
    "        write_data_row()\n",
    "\n",
    "\n",
    "# Velocity Verlet - numerical solution to differential equation\n",
    "\n",
    "def phys_sim_step():\n",
    "    \n",
    "    global time, pos, vel, acc, m, dir_n\n",
    "    \n",
    "    # one sim step BEGIN\n",
    "    ###############################\n",
    "    new_pos = pos + vel*t_step + acc*(t_step*t_step*0.5)\n",
    "    new_acc = (dir_n * acc_propulsion(m)) + acc_grav_moon(pos)\n",
    "    new_vel = vel + (acc+new_acc)*(t_step*0.5)    \n",
    "    \n",
    "    if engine_on: new_mass = m - (m_flow * t_step)\n",
    "    else: new_mass = m\n",
    "    \n",
    "    pos = new_pos\n",
    "    vel = new_vel\n",
    "    acc = new_acc\n",
    "    m = new_mass\n",
    "    \n",
    "    time = np.around(time + t_step,digit_precision)\n",
    "\n",
    "    ###############################\n",
    "    # one sim step END\n",
    "    \n",
    "\n",
    "# Simulation execution\n",
    "\n",
    "\n",
    "target_altitude = 2000 # [m]\n",
    "\n",
    "\n",
    "print('''\n",
    "┌───────────┬─────────────────────────────────┐\n",
    "│  Phase 1  │          Vertical rise          │\n",
    "└───────────┴─────────────────────────────────┘''')\n",
    "\n",
    "dir_n = vec_from_angle(0)\n",
    "plot_vector(dir_n)\n",
    "\n",
    "# stop condition: time\n",
    "\n",
    "while time < 12: \n",
    "    \n",
    "    phys_sim_step()\n",
    "    \n",
    "    log(1) # log every x [ms]\n",
    "        \n",
    "\n",
    "phase1_end = time\n",
    "print(f'Phase 1 finished at {phase1_end} s')\n",
    "        \n",
    "print('''\n",
    "┌───────────┬─────────────────────────────────┐\n",
    "│  Phase 2  │      first tilt, 38° burn       │\n",
    "└───────────┴─────────────────────────────────┘''')\n",
    "\n",
    "dir_n = vec_from_angle(38)\n",
    "plot_vector(dir_n)\n",
    "\n",
    "# stop condition: time\n",
    "time_now = time\n",
    "while time < time_now + 2: \n",
    "    \n",
    "    phys_sim_step()\n",
    "    \n",
    "    log(1) # log every x [ms]\n",
    "\n",
    "phase2_end = time \n",
    "print(f'Phase 2 finished at {phase2_end} s')\n",
    "    \n",
    "print('''\n",
    "┌───────────┬─────────────────────────────────┐\n",
    "│  Phase 3  │     second tilt, 52° burn       │\n",
    "└───────────┴─────────────────────────────────┘''')\n",
    "\n",
    "dir_n = vec_from_angle(52)\n",
    "plot_vector(dir_n)\n",
    "\n",
    "# stop condition: time\n",
    "time_now = time\n",
    "while time < time_now + 2: \n",
    "    \n",
    "    phys_sim_step()\n",
    "    \n",
    "    log(1) # log every x [ms]\n",
    "    \n",
    "phase3_end = time \n",
    "print(f'Phase 3 finished at {phase3_end} s')\n",
    "\n",
    "\n",
    "\n",
    "# Phase 4.0: Orbit injection - bring vel_r = 0\n",
    "print('''\n",
    "┌───────────┬──────────────────────────────────┐\n",
    "│ Phase 4.0 │   80° burn, set target_altitude  │\n",
    "└───────────┴──────────────────────────────────┘''')\n",
    "\n",
    "dir_n = vec_from_angle(80)\n",
    "plot_vector(dir_n)\n",
    "\n",
    "# stop condition: setting target_altitude\n",
    "phase41_time = r_sys(vel,pos)[0] / norm(acc_grav_moon(pos))\n",
    "estimated_alt_gain = 0.5 * r_sys(vel,pos)[0] * phase41_time\n",
    "print('altitude(pos):',altitude(pos),'target_altitude:',target_altitude,'estimated_alt_gain:',estimated_alt_gain)\n",
    "print((altitude(pos) < (target_altitude - estimated_alt_gain)))\n",
    "\n",
    "while (altitude(pos) < (target_altitude - estimated_alt_gain)): \n",
    "    \n",
    "    phase41_time = r_sys(vel,pos)[0] / norm(acc_grav_moon(pos))\n",
    "    estimated_alt_gain = 0.5 * r_sys(vel,pos)[0] * phase41_time\n",
    "    \n",
    "    phys_sim_step()\n",
    "    \n",
    "    log(1) # log every x [ms]\n",
    "    \n",
    "phase40_end = time \n",
    "print(f'Phase 4.0 finished at {phase40_end} s')\n",
    "\n",
    "alt = altitude(pos)\n",
    "print(f'> Altitude {alt} m reached')\n",
    "print(f'> Orbital velocity {orbital_velocity(alt)} m/s needed')\n",
    "print(phase41_time,'s',estimated_alt_gain,'m altitude gain')\n",
    "\n",
    "\n",
    "# Phase 4.1: Orbit injection - bring vel_r = 0\n",
    "print('''\n",
    "┌───────────┬────────────────────────────┐\n",
    "│ Phase 4.1 │   90° burn until vel_r = 0 │\n",
    "└───────────┴────────────────────────────┘''')\n",
    "\n",
    "dir_n = vec_from_angle(90)\n",
    "plot_vector(dir_n)\n",
    "\n",
    "# stopping condition: radial velocity\n",
    "\n",
    "while r_sys(vel,pos)[0] > 0: \n",
    "    \n",
    "    phys_sim_step()\n",
    "    \n",
    "    log(1) # log every x [ms]\n",
    "    \n",
    "phase41_end = time \n",
    "print(f'Phase 4.1 finished at {phase41_end} s')\n",
    "\n",
    "alt = altitude(pos)\n",
    "print(f'> Altitude {alt} m reached')\n",
    "print(f'> Orbital velocity {orbital_velocity(alt)} m/s needed')\n",
    "\n",
    "# Phase 4: Orbit injection\n",
    "print('''\n",
    "┌───────────┬─────────────────────────────────────────────┐\n",
    "│ Phase 4.2 │   orbit injection, constant altitude burn   │\n",
    "└───────────┴─────────────────────────────────────────────┘''')\n",
    "\n",
    "dir_n = hover_dir(pos,vel,m)\n",
    "#dir_n = vec_from_angle(83)\n",
    "print(f'from {angle(dir_n)}°')\n",
    "plot_vector(dir_n)\n",
    "\n",
    "while r_sys(vel,pos)[1] < orbital_velocity(alt): # orbital velocity, vel_phi\n",
    "    \n",
    "    phys_sim_step()\n",
    "    \n",
    "    dir_n = hover_dir(pos,vel,m)\n",
    "    alt = altitude(pos)\n",
    "    \n",
    "    log(1) # log every x [ms]\n",
    "    \n",
    "dir_n = hover_dir(pos,vel,m)\n",
    "\n",
    "print(f'to {angle(dir_n)}°')\n",
    "plot_vector(dir_n)\n",
    "\n",
    "\n",
    "phase4_end = time\n",
    "print(f'Phase 4 finished at {phase4_end} s')\n",
    "\n",
    "print('''\n",
    "┌───────────┬─────────────────────────────────┐\n",
    "│  Phase 5  │   orbit propagate, engine off   │\n",
    "└───────────┴─────────────────────────────────┘''')\n",
    "\n",
    "dir_n =  np.array([0,0,0], dtype=np.float64)\n",
    "plot_vector(dir_n)\n",
    "engine_on = False\n",
    "\n",
    "now_time = time\n",
    "\n",
    "while time < now_time + 0:\n",
    "    \n",
    "    phys_sim_step()\n",
    "    \n",
    "    log(1000) # log every full x [ms]\n",
    "\n",
    "\n",
    "print('''\n",
    "├───────────────── FINISHED ──────────────────┤\n",
    "''')\n",
    "\n",
    "\n",
    "# load pandas df back from memory\n",
    "output.seek(0) # we need to get back to the start of the StringIO\n",
    "df = pd.read_csv(output)\n",
    "df = df.set_index('time [s]')\n",
    "print(df)"
   ]
  },
  {
   "cell_type": "code",
   "execution_count": 5,
   "metadata": {},
   "outputs": [
    {
     "data": {
      "image/png": "[encoded data removed]",
      "text/plain": [
       "<Figure size 2160x720 with 3 Axes>"
      ]
     },
     "metadata": {
      "needs_background": "light"
     },
     "output_type": "display_data"
    },
    {
     "data": {
      "image/png": "[encoded data removed]",
      "text/plain": [
       "<Figure size 1440x1440 with 7 Axes>"
      ]
     },
     "metadata": {
      "needs_background": "light"
     },
     "output_type": "display_data"
    }
   ],
   "source": [
    "# plot path cartesian\n",
    "dpi = 72\n",
    "\n",
    "#fig, (ax1, ax2) = plt.subplots(1, 2, figsize=(20,10),dpi=dpi)\n",
    "\n",
    "\n",
    "# Create 2x2 sub plots\n",
    "gs = gridspec.GridSpec(ncols=3, nrows=1,width_ratios=[1,14,2.5])\n",
    "\n",
    "pl.figure(figsize=(30,10))\n",
    "\n",
    "\n",
    "# left\n",
    "ax = pl.subplot(gs[0, 0]) # row 0, col 0\n",
    "\n",
    "offset_y = r_moon\n",
    "# moon surface\n",
    "t = np.linspace(0.49*np.pi,0.51*np.pi,1000)\n",
    "pl.plot(r_moon*np.cos(t), r_moon*np.sin(t)-offset_y,color='grey', linewidth=2)\n",
    "\n",
    "xpoints = df.loc[0.0:phase3_end+2]['pos_x [m]']\n",
    "ypoints = df.loc[0.0:phase3_end+2]['pos_y [m]']\n",
    "\n",
    "\n",
    "max_x = np.max(xpoints)\n",
    "max_y = np.max(ypoints-offset_y)\n",
    "min_x = np.min(xpoints)\n",
    "min_y = np.min(ypoints-offset_y)\n",
    "\n",
    "pad_y = 1e1\n",
    "pad_x = 1e2\n",
    "\n",
    "ax.set_xlim(min_x-pad_x, max_x)\n",
    "ax.set_ylim(min_y-pad_y, max_y+pad_y)\n",
    "\n",
    "ax.set_aspect('equal', adjustable='box')\n",
    "ax.grid(True)\n",
    "pl.plot(xpoints[:round(phase1_end+1)],ypoints[:round(phase1_end+1)]-offset_y                                  , color='deeppink') # phase 1\n",
    "pl.plot(xpoints[round(phase1_end):round(phase2_end+1)],ypoints[round(phase1_end):round(phase2_end+1)]-offset_y, color='magenta') # phase 2\n",
    "pl.plot(xpoints[round(phase2_end):round(phase3_end+1)],ypoints[round(phase2_end):round(phase3_end+1)]-offset_y, color='darkviolet') # phase 3\n",
    "pl.plot(xpoints[round(phase3_end):],ypoints[round(phase3_end):]-offset_y                        ,color='tab:blue') # phase 4\n",
    "\n",
    "#middle\n",
    "ax = pl.subplot(gs[0, 1])\n",
    "\n",
    "t = np.linspace(0.45*np.pi,0.51*np.pi,1000)\n",
    "pl.plot(r_moon*np.cos(t), r_moon*np.sin(t)-offset_y,color='grey', linewidth=2)\n",
    "\n",
    "xpoints = df.loc[:phase4_end]['pos_x [m]']\n",
    "ypoints = df.loc[:phase4_end]['pos_y [m]']\n",
    "\n",
    "max_x = np.max(xpoints)\n",
    "max_y = np.max(ypoints-offset_y)\n",
    "min_x = np.min(xpoints)\n",
    "min_y = np.min(ypoints-offset_y)\n",
    "\n",
    "pad_y = 1e4\n",
    "pad_x = 1e3\n",
    "\n",
    "ax.set_xlim(min_x-pad_x, max_x)\n",
    "ax.set_ylim(min_y-pad_y, max_y+pad_y)\n",
    "\n",
    "ax.set_aspect('equal', adjustable='box')\n",
    "ax.grid(True)\n",
    "pl.plot(xpoints,ypoints-offset_y,color='tab:blue', linewidth=2) # phase 4\n",
    "\n",
    "\n",
    "# right\n",
    "ax = pl.subplot(gs[0, 2]) # row 0, col 1\n",
    "pl.plot([0,1])\n",
    "\n",
    "# moon surface\n",
    "t = np.linspace(0,2*np.pi,100)\n",
    "pl.plot(r_moon*np.cos(t), r_moon*np.sin(t),color='grey', linewidth=2)\n",
    "\n",
    "xpoints_prop = df.loc[phase4_end:]['pos_x [m]']\n",
    "ypoints_prop = df.loc[phase4_end:]['pos_y [m]']\n",
    "pl.plot(xpoints_prop,ypoints_prop, color='tab:green', linewidth=1) # propagate\n",
    "\n",
    "xpoints = df.loc[0.0:phase4_end]['pos_x [m]']\n",
    "ypoints = df.loc[0.0:phase4_end]['pos_y [m]']\n",
    "pl.plot(xpoints,ypoints, linewidth=2 ) # start\n",
    "\n",
    "ext = np.max(np.abs([ df['pos_x [m]'],df['pos_y [m]']]))\n",
    "\n",
    "ax.set_ylim(-ext, ext)\n",
    "ax.set_xlim(-ext, ext)\n",
    "ax.set_aspect('equal', adjustable='box')\n",
    "ax.grid(True)\n",
    "\n",
    "\n",
    "#plt.axis('off')\n",
    "plt.show()\n",
    "\n",
    "# plot result properties graphs\n",
    "\n",
    "df[['mass [kg]','altitude [m]','vel_r [m/s]','vel_phi [m/s]','acc_r [m/s²]','acc_phi [m/s²]','dir_n [°]']].plot(subplots=True,figsize=(20,20),grid=True,xlim=[0, df.index[-1]])\n",
    "#df.plot(subplots=True,figsize=(20,25))\n",
    "plt.show()"
   ]
  },
  {
   "cell_type": "code",
   "execution_count": 6,
   "metadata": {},
   "outputs": [
    {
     "data": {
      "image/png": "[encoded data removed]",
      "text/plain": [
       "<Figure size 432x288 with 1 Axes>"
      ]
     },
     "metadata": {
      "needs_background": "light"
     },
     "output_type": "display_data"
    }
   ],
   "source": [
    "n = len(df['acc_x [m/s²]'].values)\n",
    "result = np.zeros(n)\n",
    "\n",
    "acc_x_val = df['acc_x [m/s²]'].values\n",
    "acc_y_val = df['acc_y [m/s²]'].values\n",
    "\n",
    "for i in range(n):\n",
    "    x_vec = acc_x_val[i] * np.array([1,0,0])\n",
    "    y_vec = acc_y_val[i] * np.array([0,1,0])\n",
    "    result[i] = norm(x_vec+y_vec)\n",
    "\n",
    "ypoints = result\n",
    "xpoints = df.index\n",
    "\n",
    "plt.plot(xpoints,ypoints)\n",
    "\n",
    "def acc_grav_moon_2(alt):\n",
    "    r = alt + r_moon\n",
    "    r_val = G * (m_moon/(r**2))\n",
    "    \n",
    "    return r_val\n",
    "\n",
    "#verify acc_x acc_y correct\n",
    "\n",
    "alt = df['altitude [m]'].values\n",
    "result = np.zeros(n)\n",
    "\n",
    "\n",
    "for i in range(n):\n",
    "    result[i]= acc_grav_moon_2(alt[i])\n",
    "    \n",
    "\n",
    "ypoints = result\n",
    "xpoints = df.index\n",
    "\n",
    "plt.plot(xpoints,ypoints)\n",
    "plt.show()\n",
    "# > pass, correct\n",
    "\n",
    "#verify acc_x acc_y transform > acc_r correct\n",
    "\n",
    "\n",
    "\n"
   ]
  },
  {
   "cell_type": "markdown",
   "metadata": {},
   "source": [
    "# STK"
   ]
  },
  {
   "cell_type": "code",
   "execution_count": null,
   "metadata": {},
   "outputs": [],
   "source": [
    "# pip install \"C:\\Program Files\\AGI\\STK 12\\bin\\AgPythonAPI\\agi.stk12-12.2.0-py3-none-any.whl\"\n",
    "# run this notebook from STK's Python Scripting Interface"
   ]
  },
  {
   "cell_type": "code",
   "execution_count": 18,
   "metadata": {},
   "outputs": [],
   "source": [
    "# STK library imports\n",
    "from agi.stk12.stkdesktop import STKDesktop\n",
    "from agi.stk12.stkobjects import *\n",
    "from agi.stk12.stkutil import *\n",
    "from agi.stk12.vgt import *\n",
    "# if using astrogator uncomment the below\n",
    "# from agi.stk12.stkobjects.astrogator\n",
    "# if using aviator uncomment the below\n",
    "# from agi.stk12.stkobjects.aviator\n",
    "\n",
    "# Python helper library imports\n",
    "import os\n",
    "from tqdm.notebook import tqdm\n",
    "from ipywidgets import *\n",
    "import time\n",
    "import numpy as np\n",
    "import plotly.express as px\n",
    "import xarray as xr"
   ]
  },
  {
   "cell_type": "code",
   "execution_count": 3,
   "metadata": {},
   "outputs": [],
   "source": [
    "# helper functions\n",
    "\n",
    "# model for launch segment\n",
    "\n",
    "# plot xArray data"
   ]
  },
  {
   "cell_type": "markdown",
   "metadata": {
    "tags": []
   },
   "source": [
    "## Destination: Gateway (Near-Rectilinear Halo Orbit)\n",
    "> open file \"Gateway_PROP_Mass_Point.sc\" in STK"
   ]
  },
  {
   "cell_type": "markdown",
   "metadata": {},
   "source": [
    "### connect to STK session and grab elements"
   ]
  },
  {
   "cell_type": "code",
   "execution_count": 21,
   "metadata": {},
   "outputs": [
    {
     "data": {
      "text/plain": [
       "agi.stk12.stkobjects.AgStkObjectRoot"
      ]
     },
     "execution_count": 21,
     "metadata": {},
     "output_type": "execute_result"
    }
   ],
   "source": [
    "# Get reference to the current instance of STK\n",
    "STK_PID = os.getenv('STK_PID')\n",
    "stk = STKDesktop.AttachToApplication(pid=int(STK_PID))\n",
    "root = stk.Root\n",
    "\n",
    "# rewind to initial datetime\n",
    "scenario = root.CurrentScenario\n",
    "scenario.SetTimePeriod('01 Jan 2022 00:00:00.000','03 Jan 2022 00:00:00.000')\n",
    "root.Rewind()\n",
    "\n",
    "# load existing Satellite and Place\n",
    "satellite = root.CurrentScenario.Children.Item('NRHO_Sat')\n",
    "place_start = root.CurrentScenario.Children.Item('Start')\n",
    "place_start.Position.AssignGeodetic(0,0,0)"
   ]
  },
  {
   "cell_type": "code",
   "execution_count": 5,
   "metadata": {},
   "outputs": [],
   "source": [
    "#satellite  = AgSatellite(root.CurrentScenario.Children.New(AgESTKObjectType.eSatellite,\"LeoSat\"))\n",
    "#place_start  = AgPlace(scenario.Children.New(AgESTKObjectType.ePlace,\"Start\"))"
   ]
  },
  {
   "cell_type": "code",
   "execution_count": 7,
   "metadata": {},
   "outputs": [],
   "source": [
    "#def analyse(object):\n",
    "#    print([method_name for method_name in dir(object)if callable(getattr(object, method_name))])\n",
    "#print(satellite.Propagator.__dict__.keys())\n",
    "\n",
    "# use dir() instead"
   ]
  },
  {
   "cell_type": "code",
   "execution_count": 8,
   "metadata": {},
   "outputs": [],
   "source": [
    "#analyse(satellite.Propagator.MainSequence.Item(0).Profiles.Item(0).Results.Item(0))\n",
    "#analyse(satellite.Propagator.MainSequence.Item(0).Profiles.Item(0).ControlParameters.Item(0))\n",
    "#dir(satellite.Propagator.MainSequence.Item(0).Profiles.Item(0).ControlParameters.Item(0))\n",
    "# Name\n",
    "# FinalValue\n",
    "# LastUpdate\n",
    "#dir(satellite.Propagator.MainSequence.Item(0).Profiles.Item(0).Results.Item(0))\n",
    "# Name\n",
    "# CurrentValue\n",
    "# DesiredValue\n",
    "# Difference\n",
    "# Values\n",
    "\n",
    "\n",
    "# pull data\n",
    "#print(satellite.Propagator.MainSequence.Item(2).GetResultValue('Eccentricity'))\n",
    "\n",
    "#satellite.Propagator.MainSequence.Item(0).Profiles.Item(0).ControlParameters.Item(0).FinalValue\n",
    "#satellite.Propagator.MainSequence.Item(0).Profiles.Item(0).Results.Item(0).Name\n",
    "\n",
    "# set data\n",
    "#satellite.Propagator.MainSequence.Item(0).Segments.Item(0).BurnoutVelocity._SetFixedVelocity(1)\n",
    "#satellite.Propagator.MainSequence.Item(0).Segments.Item(0).DisplaySystem.Latitude = 44\n",
    "#satellite.Propagator.MainSequence.Item(0).Segments.Item(0).Burnout.Azimuth = 0"
   ]
  },
  {
   "cell_type": "code",
   "execution_count": 10,
   "metadata": {},
   "outputs": [],
   "source": [
    "#airtemps = xr.tutorial.open_dataset('air_temperature').air.isel(time=500)\n",
    "#airtemps"
   ]
  },
  {
   "cell_type": "code",
   "execution_count": 15,
   "metadata": {},
   "outputs": [],
   "source": [
    "#colorbar_title = results.attrs['var_desc'] + '<br>(%s)'%results.attrs['units']\n",
    "#fig = px.imshow(results, color_continuous_scale='RdBu_r', aspect='equal')\n",
    "#fig.show()\n",
    "#fig.write_image(\"images/fig1.pdf\")\n",
    "#print(satellite.Propagator.MainSequence.Item(0).Profiles.Item(0).ControlParameters.Item(0).FinalValue*1000)\n",
    "#print()\n",
    "#print(satellite.Propagator.MainSequence.Item(3).Profiles.Item(0).ControlParameters.Item(0).Name)\n",
    "#print(satellite.Propagator.MainSequence.Item(3).Profiles.Item(0).ControlParameters.Item(0).FinalValue*1000)\n",
    "#print(satellite.Propagator.MainSequence.Item(3).Profiles.Item(0).ControlParameters.Item(1).FinalValue*1000)\n",
    "#print(satellite.Propagator.MainSequence.Item(3).Profiles.Item(0).ControlParameters.Item(2).FinalValue*1000)\n",
    "\n",
    "#dir(satellite.Propagator.MainSequence.Item(3).Profiles.Item(0).ControlParameters.Item(0))\n",
    "\n",
    "#print(satellite.Propagator.MainSequence.Item(0).Profiles.Item(0).Status)\n",
    "\n",
    "#dv2_x = satellite.Propagator.MainSequence.Item(3).Profiles.Item(0).ControlParameters.Item(0).FinalValue*1000\n",
    "#dv2_y = satellite.Propagator.MainSequence.Item(3).Profiles.Item(0).ControlParameters.Item(1).FinalValue*1000\n",
    "#dv2_z = satellite.Propagator.MainSequence.Item(3).Profiles.Item(0).ControlParameters.Item(2).FinalValue*1000\n",
    "#dv2_vec = np.array([dv2_x, dv2_y, dv2_z])\n",
    "#dv2 = np.linalg.norm(dv2_vec)\n",
    "#print(dv2)"
   ]
  },
  {
   "cell_type": "markdown",
   "metadata": {},
   "source": [
    "### control STK and compute global result"
   ]
  },
  {
   "cell_type": "code",
   "execution_count": 16,
   "metadata": {},
   "outputs": [
    {
     "name": "stdout",
     "output_type": "stream",
     "text": [
      "Result image resolution: 73.0 x 37.0\n",
      "number of calculations: 2701.0\n",
      "\n",
      "73 [-180, -175, -170, -165, -160, -155, -150, -145, -140, -135, -130, -125, -120, -115, -110, -105, -100, -95, -90, -85, -80, -75, -70, -65, -60, -55, -50, -45, -40, -35, -30, -25, -20, -15, -10, -5, 0, 5, 10, 15, 20, 25, 30, 35, 40, 45, 50, 55, 60, 65, 70, 75, 80, 85, 90, 95, 100, 105, 110, 115, 120, 125, 130, 135, 140, 145, 150, 155, 160, 165, 170, 175, 180]\n",
      "\n",
      "37 [90, 85, 80, 75, 70, 65, 60, 55, 50, 45, 40, 35, 30, 25, 20, 15, 10, 5, 0, -5, -10, -15, -20, -25, -30, -35, -40, -45, -50, -55, -60, -65, -70, -75, -80, -85, -90]\n"
     ]
    },
    {
     "data": {
      "application/vnd.jupyter.widget-view+json": {
       "model_id": "7894fabe2ed44d40b771d0b4e0083e75",
       "version_major": 2,
       "version_minor": 0
      },
      "text/plain": [
       "  0%|          | 0/2701.0 [00:00<?, ?it/s]"
      ]
     },
     "metadata": {},
     "output_type": "display_data"
    },
    {
     "ename": "STKRuntimeError",
     "evalue": "Position central bodies were not equivalent.",
     "output_type": "error",
     "traceback": [
      "\u001b[1;31m---------------------------------------------------------------------------\u001b[0m",
      "\u001b[1;31mSTKRuntimeError\u001b[0m                           Traceback (most recent call last)",
      "Cell \u001b[1;32mIn [16], line 40\u001b[0m\n\u001b[0;32m     37\u001b[0m \u001b[38;5;28;01mfor\u001b[39;00m Lat_count, Lat \u001b[38;5;129;01min\u001b[39;00m \u001b[38;5;28menumerate\u001b[39m(Latitude):\n\u001b[0;32m     38\u001b[0m     \u001b[38;5;28;01mfor\u001b[39;00m Lon_count, Lon \u001b[38;5;129;01min\u001b[39;00m \u001b[38;5;28menumerate\u001b[39m(Longitude):\n\u001b[0;32m     39\u001b[0m         \u001b[38;5;66;03m#print(\"Lat:\",Lat,\"Lon:\",Lon)\u001b[39;00m\n\u001b[1;32m---> 40\u001b[0m         \u001b[43mplace_start\u001b[49m\u001b[38;5;241;43m.\u001b[39;49m\u001b[43mPosition\u001b[49m\u001b[38;5;241;43m.\u001b[39;49m\u001b[43mAssignGeodetic\u001b[49m\u001b[43m(\u001b[49m\u001b[43mLat\u001b[49m\u001b[43m,\u001b[49m\u001b[43mLon\u001b[49m\u001b[43m,\u001b[49m\u001b[38;5;241;43m0\u001b[39;49m\u001b[43m)\u001b[49m\n\u001b[0;32m     41\u001b[0m         satellite\u001b[38;5;241m.\u001b[39mPropagator\u001b[38;5;241m.\u001b[39mMainSequence\u001b[38;5;241m.\u001b[39mItem(\u001b[38;5;241m0\u001b[39m)\u001b[38;5;241m.\u001b[39mSegments\u001b[38;5;241m.\u001b[39mItem(\u001b[38;5;241m0\u001b[39m)\u001b[38;5;241m.\u001b[39mDisplaySystem\u001b[38;5;241m.\u001b[39mLatitude \u001b[38;5;241m=\u001b[39m Lat\n\u001b[0;32m     42\u001b[0m         satellite\u001b[38;5;241m.\u001b[39mPropagator\u001b[38;5;241m.\u001b[39mMainSequence\u001b[38;5;241m.\u001b[39mItem(\u001b[38;5;241m0\u001b[39m)\u001b[38;5;241m.\u001b[39mSegments\u001b[38;5;241m.\u001b[39mItem(\u001b[38;5;241m0\u001b[39m)\u001b[38;5;241m.\u001b[39mDisplaySystem\u001b[38;5;241m.\u001b[39mLongitude \u001b[38;5;241m=\u001b[39m Lon\n",
      "File \u001b[1;32m~\\AppData\\Local\\Programs\\Python\\Python310\\lib\\site-packages\\agi\\stk12\\stkutil.py:547\u001b[0m, in \u001b[0;36mIAgPosition.AssignGeodetic\u001b[1;34m(self, lat, lon, alt)\u001b[0m\n\u001b[0;32m    541\u001b[0m \u001b[38;5;124;03m'''\u001b[39;00m\n\u001b[0;32m    542\u001b[0m \u001b[38;5;124;03mHelper method to assign the position using the Geodetic representation.\u001b[39;00m\n\u001b[0;32m    543\u001b[0m \u001b[38;5;124;03m'''\u001b[39;00m\n\u001b[0;32m    544\u001b[0m \u001b[38;5;28;01mwith\u001b[39;00m agmarshall\u001b[38;5;241m.\u001b[39mVARIANT_arg(lat) \u001b[38;5;28;01mas\u001b[39;00m arg_lat, \\\n\u001b[0;32m    545\u001b[0m      agmarshall\u001b[38;5;241m.\u001b[39mVARIANT_arg(lon) \u001b[38;5;28;01mas\u001b[39;00m arg_lon, \\\n\u001b[0;32m    546\u001b[0m      agmarshall\u001b[38;5;241m.\u001b[39mDOUBLE_arg(alt) \u001b[38;5;28;01mas\u001b[39;00m arg_alt:\n\u001b[1;32m--> 547\u001b[0m     \u001b[43magcls\u001b[49m\u001b[38;5;241;43m.\u001b[39;49m\u001b[43mevaluate_hresult\u001b[49m\u001b[43m(\u001b[49m\u001b[38;5;28;43mself\u001b[39;49m\u001b[38;5;241;43m.\u001b[39;49m\u001b[38;5;18;43m__dict__\u001b[39;49m\u001b[43m[\u001b[49m\u001b[38;5;124;43m'\u001b[39;49m\u001b[38;5;124;43m_AssignGeodetic\u001b[39;49m\u001b[38;5;124;43m'\u001b[39;49m\u001b[43m]\u001b[49m\u001b[43m(\u001b[49m\u001b[43marg_lat\u001b[49m\u001b[38;5;241;43m.\u001b[39;49m\u001b[43mCOM_val\u001b[49m\u001b[43m,\u001b[49m\u001b[43m \u001b[49m\u001b[43marg_lon\u001b[49m\u001b[38;5;241;43m.\u001b[39;49m\u001b[43mCOM_val\u001b[49m\u001b[43m,\u001b[49m\u001b[43m \u001b[49m\u001b[43marg_alt\u001b[49m\u001b[38;5;241;43m.\u001b[39;49m\u001b[43mCOM_val\u001b[49m\u001b[43m)\u001b[49m\u001b[43m)\u001b[49m\n",
      "File \u001b[1;32m~\\AppData\\Local\\Programs\\Python\\Python310\\lib\\site-packages\\agi\\stk12\\internal\\coclassutil.py:86\u001b[0m, in \u001b[0;36mevaluate_hresult\u001b[1;34m(hr)\u001b[0m\n\u001b[0;32m     84\u001b[0m     msg \u001b[38;5;241m=\u001b[39m \u001b[38;5;124m\"\u001b[39m\u001b[38;5;124mOne or more arguments are invalid.\u001b[39m\u001b[38;5;124m\"\u001b[39m\n\u001b[0;32m     85\u001b[0m hresult_val \u001b[38;5;241m=\u001b[39m \u001b[38;5;124m'\u001b[39m\u001b[38;5;124m(HRESULT = 0x\u001b[39m\u001b[38;5;132;01m%x\u001b[39;00m\u001b[38;5;124m)\u001b[39m\u001b[38;5;124m'\u001b[39m \u001b[38;5;241m%\u001b[39m (hr \u001b[38;5;241m&\u001b[39m \u001b[38;5;241m0xFFFFFFFF\u001b[39m)\n\u001b[1;32m---> 86\u001b[0m \u001b[38;5;28;01mraise\u001b[39;00m STKRuntimeError(msg \u001b[38;5;28;01mif\u001b[39;00m msg \u001b[38;5;129;01mis\u001b[39;00m \u001b[38;5;129;01mnot\u001b[39;00m \u001b[38;5;28;01mNone\u001b[39;00m \u001b[38;5;28;01melse\u001b[39;00m hresult_val)\n",
      "\u001b[1;31mSTKRuntimeError\u001b[0m: Position central bodies were not equivalent."
     ]
    }
   ],
   "source": [
    "####################################################################################\n",
    "# WARNING !    this step takes approx. 4 hours to compute for 5 deg resolution     #\n",
    "####################################################################################\n",
    "\n",
    "# calculation steps in deg for geodetic location\n",
    "resolution = 30\n",
    "\n",
    "print('Result image resolution:',1+(360/resolution),'x',1+(180/resolution))\n",
    "n_total = (1+(360/resolution))*(1+(180/resolution))\n",
    "print('number of calculations:',n_total)\n",
    "\n",
    "if n_total != int(n_total): print(\"WARNING: non matching map!\")\n",
    "\n",
    "Longitude = []\n",
    "Latitude = []\n",
    "\n",
    "for Lon in range(-180,181,resolution):\n",
    "    Longitude.append(Lon)\n",
    "for Lat in range(-90,91,resolution):\n",
    "    Latitude.append(Lat)\n",
    "\n",
    "\n",
    "Latitude = list(reversed(Latitude))\n",
    "\n",
    "deltaV_Gateway = np.zeros((len(Latitude), len(Longitude)))\n",
    "deltaV_Gateway[:] = np.nan\n",
    "\n",
    "fuel_mass_Gateway = np.zeros((len(Latitude), len(Longitude)))\n",
    "fuel_mass_Gateway[:] = np.nan\n",
    "\n",
    "print()\n",
    "print(len(Longitude),Longitude)\n",
    "print()\n",
    "print(len(Latitude),Latitude)\n",
    "\n",
    "with tqdm(total=n_total) as pbar:\n",
    "    for Lat_count, Lat in enumerate(Latitude):\n",
    "        for Lon_count, Lon in enumerate(Longitude):\n",
    "            #print(\"Lat:\",Lat,\"Lon:\",Lon)\n",
    "            place_start.Position.AssignGeodetic(Lat,Lon,0)\n",
    "            satellite.Propagator.MainSequence.Item(0).Segments.Item(0).DisplaySystem.Latitude = Lat\n",
    "            satellite.Propagator.MainSequence.Item(0).Segments.Item(0).DisplaySystem.Longitude = Lon\n",
    "            if Lon > -90 and Lon < 90:\n",
    "                satellite.Propagator.MainSequence.Item(0).Segments.Item(0).Burnout.Azimuth = -180\n",
    "            else:\n",
    "                satellite.Propagator.MainSequence.Item(0).Segments.Item(0).Burnout.Azimuth = 0\n",
    "                \n",
    "            satellite.Propagator.RunMCS()\n",
    "            check1 = satellite.Propagator.MainSequence.Item(0).Profiles.Item(0).Status\n",
    "            check2 = satellite.Propagator.MainSequence.Item(3).Profiles.Item(0).Status\n",
    "            if check1 == \"Converged\" and check2 == \"Converged\":\n",
    "                \n",
    "                # Launch: Burnout.FixedVelocity\n",
    "                dv1 = satellite.Propagator.MainSequence.Item(0).Profiles.Item(0).ControlParameters.Item(0).FinalValue*1000\n",
    "                # Maneuver: ImpulsiveMnvr.Pointing.Cartesian.X /Y /Z\n",
    "                dv2_x = satellite.Propagator.MainSequence.Item(3).Profiles.Item(0).ControlParameters.Item(0).FinalValue*1000\n",
    "                dv2_y = satellite.Propagator.MainSequence.Item(3).Profiles.Item(0).ControlParameters.Item(1).FinalValue*1000\n",
    "                dv2_z = satellite.Propagator.MainSequence.Item(3).Profiles.Item(0).ControlParameters.Item(2).FinalValue*1000\n",
    "                dv2_vec = np.array([dv2_x, dv2_y, dv2_z])\n",
    "                dv2 = np.linalg.norm(dv2_vec)\n",
    "\n",
    "                deltaV_Gateway[Lat_count][Lon_count] = dv2\n",
    "                fuel_mass_Gateway[Lat_count][Lon_count] = 0\n",
    "                \n",
    "            else:\n",
    "                print(\"ERROR\",\"did NOT Converge for\",\"Lat:\",Lat,\"Lon:\",Lon)\n",
    "                \n",
    "            pbar.update(1)"
   ]
  },
  {
   "cell_type": "markdown",
   "metadata": {},
   "source": [
    "### save result in xArray"
   ]
  },
  {
   "cell_type": "code",
   "execution_count": 7,
   "metadata": {},
   "outputs": [],
   "source": [
    "xA_fuel_mass_Gateway = xr.DataArray(\n",
    "    data=fuel_mass_Gateway,\n",
    "    dims=[\"lat\",\"lon\"],\n",
    "    coords=dict(\n",
    "        lon=([\"lon\"], Longitude),\n",
    "        lat=([\"lat\"], Latitude)\n",
    "    ),\n",
    "    attrs=dict(\n",
    "        description=\"DeltaV to Gateway\",\n",
    "        var_desc=\"deltaV\",\n",
    "        units=\"m/s\",\n",
    "    ),\n",
    ")\n",
    "\n",
    "xA_fuel_mass_Gateway.to_netcdf(\"maps/fuel_mass_Gateway.nc\")"
   ]
  },
  {
   "cell_type": "code",
   "execution_count": null,
   "metadata": {},
   "outputs": [],
   "source": [
    "# load array\n",
    "xA_fuel_mass_Gateway = xr.open_dataarray(\"maps/fuel_mass_Gateway.nc\")"
   ]
  },
  {
   "cell_type": "code",
   "execution_count": 14,
   "metadata": {},
   "outputs": [
    {
     "data": {
      "application/vnd.plotly.v1+json": {
       "config": {
        "plotlyServerURL": "https://plot.ly"
       },
       "data": [
        {
         "coloraxis": "coloraxis",
         "hovertemplate": "lon: %{x}<br>lat: %{y}<br> [m/s]: %{z}<extra></extra>",
         "name": "0",
         "type": "heatmap",
         "x": [
          -180,
          -150,
          -120,
          -90,
          -60,
          -30,
          0,
          30,
          60,
          90,
          120,
          150,
          180
         ],
         "xaxis": "x",
         "y": [
          90,
          60,
          30,
          0,
          -30,
          -60,
          -90
         ],
         "yaxis": "y",
         "z": [
          [
           1394.691897137524,
           1395.1223191558393,
           1393.5526626480344,
           1393.73965701895,
           1393.9544138739743,
           1393.4470955244246,
           1394.6918911686457,
           1395.1223159584479,
           1393.5526631830999,
           1393.7417600920976,
           1393.9544217348155,
           1393.4471001340062,
           1394.691888857437
          ],
          [
           1396.0810433355607,
           1394.0291598604886,
           1393.4133002285942,
           1394.5560111454713,
           1394.9684868186582,
           1393.493237576115,
           1393.7679980703424,
           1395.7943515690658,
           1394.1887585789696,
           1393.3963072588522,
           1393.4411629730027,
           1393.8877743138755,
           1396.0808477927294
          ],
          [
           1395.486716217542,
           1393.6287730467793,
           1393.5241946077367,
           1395.176565711556,
           1395.739732331932,
           1393.7253230734968,
           1393.4562584408588,
           1394.9418292614687,
           1394.750585688415,
           1393.3973266066205,
           1393.3521740090205,
           1394.308720665801,
           1395.4867004317657
          ],
          [
           1395.3407374460003,
           1393.5655552226895,
           1393.544179109193,
           1395.2795571879233,
           1395.8853874421736,
           1393.7726610566558,
           1393.4039087446176,
           1394.7900139250028,
           1394.858429805708,
           1393.3996823919463,
           1393.3397237418055,
           1394.3793920172031,
           1395.3407188756523
          ],
          [
           1395.2135052962926,
           1393.5375619424628,
           1393.616318370802,
           1395.4512063240277,
           1396.0471089193038,
           1393.852390922423,
           1393.4002259859722,
           1394.703256524164,
           1394.9883408410394,
           1393.4500310491583,
           1393.3726721408561,
           1394.5115638769075,
           1395.2140181836558
          ],
          [
           1394.545620031792,
           1393.4117163934372,
           1394.0355022003685,
           1396.0894939547195,
           1395.5215503297065,
           1394.3527529452188,
           1393.3902370962169,
           1394.1833243791787,
           1395.795024885567,
           1393.7517769367223,
           1393.578907615108,
           1395.2583937516517,
           1394.545608736311
          ],
          [
           1393.7184212737038,
           1393.555998081537,
           1395.1501898568356,
           1394.679165826983,
           1394.3150227036722,
           1395.6309526140935,
           1393.718417350178,
           1393.5559980793582,
           1395.150189789056,
           1394.6579342770133,
           1394.3150872368383,
           1395.6309712236496,
           1393.7184154570984
          ]
         ]
        }
       ],
       "layout": {
        "coloraxis": {
         "colorbar": {
          "title": {
           "text": " [m/s]"
          }
         },
         "colorscale": [
          [
           0,
           "rgb(29, 79, 96)"
          ],
          [
           0.16666666666666666,
           "rgb(38, 107, 110)"
          ],
          [
           0.3333333333333333,
           "rgb(54, 135, 122)"
          ],
          [
           0.5,
           "rgb(77, 162, 132)"
          ],
          [
           0.6666666666666666,
           "rgb(109, 188, 144)"
          ],
          [
           0.8333333333333334,
           "rgb(150, 210, 164)"
          ],
          [
           1,
           "rgb(196, 230, 195)"
          ]
         ]
        },
        "height": 500,
        "margin": {
         "t": 60
        },
        "template": {
         "data": {
          "bar": [
           {
            "error_x": {
             "color": "#2a3f5f"
            },
            "error_y": {
             "color": "#2a3f5f"
            },
            "marker": {
             "line": {
              "color": "#E5ECF6",
              "width": 0.5
             },
             "pattern": {
              "fillmode": "overlay",
              "size": 10,
              "solidity": 0.2
             }
            },
            "type": "bar"
           }
          ],
          "barpolar": [
           {
            "marker": {
             "line": {
              "color": "#E5ECF6",
              "width": 0.5
             },
             "pattern": {
              "fillmode": "overlay",
              "size": 10,
              "solidity": 0.2
             }
            },
            "type": "barpolar"
           }
          ],
          "carpet": [
           {
            "aaxis": {
             "endlinecolor": "#2a3f5f",
             "gridcolor": "white",
             "linecolor": "white",
             "minorgridcolor": "white",
             "startlinecolor": "#2a3f5f"
            },
            "baxis": {
             "endlinecolor": "#2a3f5f",
             "gridcolor": "white",
             "linecolor": "white",
             "minorgridcolor": "white",
             "startlinecolor": "#2a3f5f"
            },
            "type": "carpet"
           }
          ],
          "choropleth": [
           {
            "colorbar": {
             "outlinewidth": 0,
             "ticks": ""
            },
            "type": "choropleth"
           }
          ],
          "contour": [
           {
            "colorbar": {
             "outlinewidth": 0,
             "ticks": ""
            },
            "colorscale": [
             [
              0,
              "#0d0887"
             ],
             [
              0.1111111111111111,
              "#46039f"
             ],
             [
              0.2222222222222222,
              "#7201a8"
             ],
             [
              0.3333333333333333,
              "#9c179e"
             ],
             [
              0.4444444444444444,
              "#bd3786"
             ],
             [
              0.5555555555555556,
              "#d8576b"
             ],
             [
              0.6666666666666666,
              "#ed7953"
             ],
             [
              0.7777777777777778,
              "#fb9f3a"
             ],
             [
              0.8888888888888888,
              "#fdca26"
             ],
             [
              1,
              "#f0f921"
             ]
            ],
            "type": "contour"
           }
          ],
          "contourcarpet": [
           {
            "colorbar": {
             "outlinewidth": 0,
             "ticks": ""
            },
            "type": "contourcarpet"
           }
          ],
          "heatmap": [
           {
            "colorbar": {
             "outlinewidth": 0,
             "ticks": ""
            },
            "colorscale": [
             [
              0,
              "#0d0887"
             ],
             [
              0.1111111111111111,
              "#46039f"
             ],
             [
              0.2222222222222222,
              "#7201a8"
             ],
             [
              0.3333333333333333,
              "#9c179e"
             ],
             [
              0.4444444444444444,
              "#bd3786"
             ],
             [
              0.5555555555555556,
              "#d8576b"
             ],
             [
              0.6666666666666666,
              "#ed7953"
             ],
             [
              0.7777777777777778,
              "#fb9f3a"
             ],
             [
              0.8888888888888888,
              "#fdca26"
             ],
             [
              1,
              "#f0f921"
             ]
            ],
            "type": "heatmap"
           }
          ],
          "heatmapgl": [
           {
            "colorbar": {
             "outlinewidth": 0,
             "ticks": ""
            },
            "colorscale": [
             [
              0,
              "#0d0887"
             ],
             [
              0.1111111111111111,
              "#46039f"
             ],
             [
              0.2222222222222222,
              "#7201a8"
             ],
             [
              0.3333333333333333,
              "#9c179e"
             ],
             [
              0.4444444444444444,
              "#bd3786"
             ],
             [
              0.5555555555555556,
              "#d8576b"
             ],
             [
              0.6666666666666666,
              "#ed7953"
             ],
             [
              0.7777777777777778,
              "#fb9f3a"
             ],
             [
              0.8888888888888888,
              "#fdca26"
             ],
             [
              1,
              "#f0f921"
             ]
            ],
            "type": "heatmapgl"
           }
          ],
          "histogram": [
           {
            "marker": {
             "pattern": {
              "fillmode": "overlay",
              "size": 10,
              "solidity": 0.2
             }
            },
            "type": "histogram"
           }
          ],
          "histogram2d": [
           {
            "colorbar": {
             "outlinewidth": 0,
             "ticks": ""
            },
            "colorscale": [
             [
              0,
              "#0d0887"
             ],
             [
              0.1111111111111111,
              "#46039f"
             ],
             [
              0.2222222222222222,
              "#7201a8"
             ],
             [
              0.3333333333333333,
              "#9c179e"
             ],
             [
              0.4444444444444444,
              "#bd3786"
             ],
             [
              0.5555555555555556,
              "#d8576b"
             ],
             [
              0.6666666666666666,
              "#ed7953"
             ],
             [
              0.7777777777777778,
              "#fb9f3a"
             ],
             [
              0.8888888888888888,
              "#fdca26"
             ],
             [
              1,
              "#f0f921"
             ]
            ],
            "type": "histogram2d"
           }
          ],
          "histogram2dcontour": [
           {
            "colorbar": {
             "outlinewidth": 0,
             "ticks": ""
            },
            "colorscale": [
             [
              0,
              "#0d0887"
             ],
             [
              0.1111111111111111,
              "#46039f"
             ],
             [
              0.2222222222222222,
              "#7201a8"
             ],
             [
              0.3333333333333333,
              "#9c179e"
             ],
             [
              0.4444444444444444,
              "#bd3786"
             ],
             [
              0.5555555555555556,
              "#d8576b"
             ],
             [
              0.6666666666666666,
              "#ed7953"
             ],
             [
              0.7777777777777778,
              "#fb9f3a"
             ],
             [
              0.8888888888888888,
              "#fdca26"
             ],
             [
              1,
              "#f0f921"
             ]
            ],
            "type": "histogram2dcontour"
           }
          ],
          "mesh3d": [
           {
            "colorbar": {
             "outlinewidth": 0,
             "ticks": ""
            },
            "type": "mesh3d"
           }
          ],
          "parcoords": [
           {
            "line": {
             "colorbar": {
              "outlinewidth": 0,
              "ticks": ""
             }
            },
            "type": "parcoords"
           }
          ],
          "pie": [
           {
            "automargin": true,
            "type": "pie"
           }
          ],
          "scatter": [
           {
            "fillpattern": {
             "fillmode": "overlay",
             "size": 10,
             "solidity": 0.2
            },
            "type": "scatter"
           }
          ],
          "scatter3d": [
           {
            "line": {
             "colorbar": {
              "outlinewidth": 0,
              "ticks": ""
             }
            },
            "marker": {
             "colorbar": {
              "outlinewidth": 0,
              "ticks": ""
             }
            },
            "type": "scatter3d"
           }
          ],
          "scattercarpet": [
           {
            "marker": {
             "colorbar": {
              "outlinewidth": 0,
              "ticks": ""
             }
            },
            "type": "scattercarpet"
           }
          ],
          "scattergeo": [
           {
            "marker": {
             "colorbar": {
              "outlinewidth": 0,
              "ticks": ""
             }
            },
            "type": "scattergeo"
           }
          ],
          "scattergl": [
           {
            "marker": {
             "colorbar": {
              "outlinewidth": 0,
              "ticks": ""
             }
            },
            "type": "scattergl"
           }
          ],
          "scattermapbox": [
           {
            "marker": {
             "colorbar": {
              "outlinewidth": 0,
              "ticks": ""
             }
            },
            "type": "scattermapbox"
           }
          ],
          "scatterpolar": [
           {
            "marker": {
             "colorbar": {
              "outlinewidth": 0,
              "ticks": ""
             }
            },
            "type": "scatterpolar"
           }
          ],
          "scatterpolargl": [
           {
            "marker": {
             "colorbar": {
              "outlinewidth": 0,
              "ticks": ""
             }
            },
            "type": "scatterpolargl"
           }
          ],
          "scatterternary": [
           {
            "marker": {
             "colorbar": {
              "outlinewidth": 0,
              "ticks": ""
             }
            },
            "type": "scatterternary"
           }
          ],
          "surface": [
           {
            "colorbar": {
             "outlinewidth": 0,
             "ticks": ""
            },
            "colorscale": [
             [
              0,
              "#0d0887"
             ],
             [
              0.1111111111111111,
              "#46039f"
             ],
             [
              0.2222222222222222,
              "#7201a8"
             ],
             [
              0.3333333333333333,
              "#9c179e"
             ],
             [
              0.4444444444444444,
              "#bd3786"
             ],
             [
              0.5555555555555556,
              "#d8576b"
             ],
             [
              0.6666666666666666,
              "#ed7953"
             ],
             [
              0.7777777777777778,
              "#fb9f3a"
             ],
             [
              0.8888888888888888,
              "#fdca26"
             ],
             [
              1,
              "#f0f921"
             ]
            ],
            "type": "surface"
           }
          ],
          "table": [
           {
            "cells": {
             "fill": {
              "color": "#EBF0F8"
             },
             "line": {
              "color": "white"
             }
            },
            "header": {
             "fill": {
              "color": "#C8D4E3"
             },
             "line": {
              "color": "white"
             }
            },
            "type": "table"
           }
          ]
         },
         "layout": {
          "annotationdefaults": {
           "arrowcolor": "#2a3f5f",
           "arrowhead": 0,
           "arrowwidth": 1
          },
          "autotypenumbers": "strict",
          "coloraxis": {
           "colorbar": {
            "outlinewidth": 0,
            "ticks": ""
           }
          },
          "colorscale": {
           "diverging": [
            [
             0,
             "#8e0152"
            ],
            [
             0.1,
             "#c51b7d"
            ],
            [
             0.2,
             "#de77ae"
            ],
            [
             0.3,
             "#f1b6da"
            ],
            [
             0.4,
             "#fde0ef"
            ],
            [
             0.5,
             "#f7f7f7"
            ],
            [
             0.6,
             "#e6f5d0"
            ],
            [
             0.7,
             "#b8e186"
            ],
            [
             0.8,
             "#7fbc41"
            ],
            [
             0.9,
             "#4d9221"
            ],
            [
             1,
             "#276419"
            ]
           ],
           "sequential": [
            [
             0,
             "#0d0887"
            ],
            [
             0.1111111111111111,
             "#46039f"
            ],
            [
             0.2222222222222222,
             "#7201a8"
            ],
            [
             0.3333333333333333,
             "#9c179e"
            ],
            [
             0.4444444444444444,
             "#bd3786"
            ],
            [
             0.5555555555555556,
             "#d8576b"
            ],
            [
             0.6666666666666666,
             "#ed7953"
            ],
            [
             0.7777777777777778,
             "#fb9f3a"
            ],
            [
             0.8888888888888888,
             "#fdca26"
            ],
            [
             1,
             "#f0f921"
            ]
           ],
           "sequentialminus": [
            [
             0,
             "#0d0887"
            ],
            [
             0.1111111111111111,
             "#46039f"
            ],
            [
             0.2222222222222222,
             "#7201a8"
            ],
            [
             0.3333333333333333,
             "#9c179e"
            ],
            [
             0.4444444444444444,
             "#bd3786"
            ],
            [
             0.5555555555555556,
             "#d8576b"
            ],
            [
             0.6666666666666666,
             "#ed7953"
            ],
            [
             0.7777777777777778,
             "#fb9f3a"
            ],
            [
             0.8888888888888888,
             "#fdca26"
            ],
            [
             1,
             "#f0f921"
            ]
           ]
          },
          "colorway": [
           "#636efa",
           "#EF553B",
           "#00cc96",
           "#ab63fa",
           "#FFA15A",
           "#19d3f3",
           "#FF6692",
           "#B6E880",
           "#FF97FF",
           "#FECB52"
          ],
          "font": {
           "color": "#2a3f5f"
          },
          "geo": {
           "bgcolor": "white",
           "lakecolor": "white",
           "landcolor": "#E5ECF6",
           "showlakes": true,
           "showland": true,
           "subunitcolor": "white"
          },
          "hoverlabel": {
           "align": "left"
          },
          "hovermode": "closest",
          "mapbox": {
           "style": "light"
          },
          "paper_bgcolor": "white",
          "plot_bgcolor": "#E5ECF6",
          "polar": {
           "angularaxis": {
            "gridcolor": "white",
            "linecolor": "white",
            "ticks": ""
           },
           "bgcolor": "#E5ECF6",
           "radialaxis": {
            "gridcolor": "white",
            "linecolor": "white",
            "ticks": ""
           }
          },
          "scene": {
           "xaxis": {
            "backgroundcolor": "#E5ECF6",
            "gridcolor": "white",
            "gridwidth": 2,
            "linecolor": "white",
            "showbackground": true,
            "ticks": "",
            "zerolinecolor": "white"
           },
           "yaxis": {
            "backgroundcolor": "#E5ECF6",
            "gridcolor": "white",
            "gridwidth": 2,
            "linecolor": "white",
            "showbackground": true,
            "ticks": "",
            "zerolinecolor": "white"
           },
           "zaxis": {
            "backgroundcolor": "#E5ECF6",
            "gridcolor": "white",
            "gridwidth": 2,
            "linecolor": "white",
            "showbackground": true,
            "ticks": "",
            "zerolinecolor": "white"
           }
          },
          "shapedefaults": {
           "line": {
            "color": "#2a3f5f"
           }
          },
          "ternary": {
           "aaxis": {
            "gridcolor": "white",
            "linecolor": "white",
            "ticks": ""
           },
           "baxis": {
            "gridcolor": "white",
            "linecolor": "white",
            "ticks": ""
           },
           "bgcolor": "#E5ECF6",
           "caxis": {
            "gridcolor": "white",
            "linecolor": "white",
            "ticks": ""
           }
          },
          "title": {
           "x": 0.05
          },
          "xaxis": {
           "automargin": true,
           "gridcolor": "white",
           "linecolor": "white",
           "ticks": "",
           "title": {
            "standoff": 15
           },
           "zerolinecolor": "white",
           "zerolinewidth": 2
          },
          "yaxis": {
           "automargin": true,
           "gridcolor": "white",
           "linecolor": "white",
           "ticks": "",
           "title": {
            "standoff": 15
           },
           "zerolinecolor": "white",
           "zerolinewidth": 2
          }
         }
        },
        "title": {
         "text": "DeltaV Map<br>Destination Gateway",
         "x": 0.45
        },
        "width": 1000,
        "xaxis": {
         "anchor": "y",
         "autorange": true,
         "constrain": "domain",
         "domain": [
          0.08004373696790917,
          0.9199562630320908
         ],
         "range": [
          -195,
          195
         ],
         "scaleanchor": "y",
         "tickangle": 0,
         "tickmode": "array",
         "tickvals": [
          -180,
          -150,
          -120,
          -90,
          -60,
          -30,
          0,
          30,
          60,
          90,
          120,
          150,
          180
         ],
         "title": {
          "text": "Longitude"
         },
         "type": "linear"
        },
        "yaxis": {
         "anchor": "x",
         "autorange": true,
         "constrain": "domain",
         "domain": [
          0.0006289308176100072,
          0.99937106918239
         ],
         "range": [
          105,
          -105
         ],
         "tickangle": 0,
         "tickmode": "array",
         "tickvals": [
          -90,
          -60,
          -30,
          0,
          30,
          60,
          90
         ],
         "title": {
          "text": "Latitude"
         },
         "type": "linear"
        }
       }
      },
      "image/png": "[encoded data removed]",
      "text/html": [
       "<div>                            <div id=\"71119e35-1d09-49bd-9b21-5da0aed3e739\" class=\"plotly-graph-div\" style=\"height:500px; width:1000px;\"></div>            <script type=\"text/javascript\">                require([\"plotly\"], function(Plotly) {                    window.PLOTLYENV=window.PLOTLYENV || {};                                    if (document.getElementById(\"71119e35-1d09-49bd-9b21-5da0aed3e739\")) {                    Plotly.newPlot(                        \"71119e35-1d09-49bd-9b21-5da0aed3e739\",                        [{\"coloraxis\":\"coloraxis\",\"name\":\"0\",\"x\":[-180,-150,-120,-90,-60,-30,0,30,60,90,120,150,180],\"y\":[90,60,30,0,-30,-60,-90],\"z\":[[1394.691897137524,1395.1223191558393,1393.5526626480344,1393.73965701895,1393.9544138739743,1393.4470955244246,1394.6918911686457,1395.1223159584479,1393.5526631830999,1393.7417600920976,1393.9544217348155,1393.4471001340062,1394.691888857437],[1396.0810433355607,1394.0291598604886,1393.4133002285942,1394.5560111454713,1394.9684868186582,1393.493237576115,1393.7679980703424,1395.7943515690658,1394.1887585789696,1393.3963072588522,1393.4411629730027,1393.8877743138755,1396.0808477927294],[1395.486716217542,1393.6287730467793,1393.5241946077367,1395.176565711556,1395.739732331932,1393.7253230734968,1393.4562584408588,1394.9418292614687,1394.750585688415,1393.3973266066205,1393.3521740090205,1394.308720665801,1395.4867004317657],[1395.3407374460003,1393.5655552226895,1393.544179109193,1395.2795571879233,1395.8853874421736,1393.7726610566558,1393.4039087446176,1394.7900139250028,1394.858429805708,1393.3996823919463,1393.3397237418055,1394.3793920172031,1395.3407188756523],[1395.2135052962926,1393.5375619424628,1393.616318370802,1395.4512063240277,1396.0471089193038,1393.852390922423,1393.4002259859722,1394.703256524164,1394.9883408410394,1393.4500310491583,1393.3726721408561,1394.5115638769075,1395.2140181836558],[1394.545620031792,1393.4117163934372,1394.0355022003685,1396.0894939547195,1395.5215503297065,1394.3527529452188,1393.3902370962169,1394.1833243791787,1395.795024885567,1393.7517769367223,1393.578907615108,1395.2583937516517,1394.545608736311],[1393.7184212737038,1393.555998081537,1395.1501898568356,1394.679165826983,1394.3150227036722,1395.6309526140935,1393.718417350178,1393.5559980793582,1395.150189789056,1394.6579342770133,1394.3150872368383,1395.6309712236496,1393.7184154570984]],\"type\":\"heatmap\",\"xaxis\":\"x\",\"yaxis\":\"y\",\"hovertemplate\":\"lon: %{x}<br>lat: %{y}<br> [m/s]: %{z}<extra></extra>\"}],                        {\"template\":{\"data\":{\"histogram2dcontour\":[{\"type\":\"histogram2dcontour\",\"colorbar\":{\"outlinewidth\":0,\"ticks\":\"\"},\"colorscale\":[[0.0,\"#0d0887\"],[0.1111111111111111,\"#46039f\"],[0.2222222222222222,\"#7201a8\"],[0.3333333333333333,\"#9c179e\"],[0.4444444444444444,\"#bd3786\"],[0.5555555555555556,\"#d8576b\"],[0.6666666666666666,\"#ed7953\"],[0.7777777777777778,\"#fb9f3a\"],[0.8888888888888888,\"#fdca26\"],[1.0,\"#f0f921\"]]}],\"choropleth\":[{\"type\":\"choropleth\",\"colorbar\":{\"outlinewidth\":0,\"ticks\":\"\"}}],\"histogram2d\":[{\"type\":\"histogram2d\",\"colorbar\":{\"outlinewidth\":0,\"ticks\":\"\"},\"colorscale\":[[0.0,\"#0d0887\"],[0.1111111111111111,\"#46039f\"],[0.2222222222222222,\"#7201a8\"],[0.3333333333333333,\"#9c179e\"],[0.4444444444444444,\"#bd3786\"],[0.5555555555555556,\"#d8576b\"],[0.6666666666666666,\"#ed7953\"],[0.7777777777777778,\"#fb9f3a\"],[0.8888888888888888,\"#fdca26\"],[1.0,\"#f0f921\"]]}],\"heatmap\":[{\"type\":\"heatmap\",\"colorbar\":{\"outlinewidth\":0,\"ticks\":\"\"},\"colorscale\":[[0.0,\"#0d0887\"],[0.1111111111111111,\"#46039f\"],[0.2222222222222222,\"#7201a8\"],[0.3333333333333333,\"#9c179e\"],[0.4444444444444444,\"#bd3786\"],[0.5555555555555556,\"#d8576b\"],[0.6666666666666666,\"#ed7953\"],[0.7777777777777778,\"#fb9f3a\"],[0.8888888888888888,\"#fdca26\"],[1.0,\"#f0f921\"]]}],\"heatmapgl\":[{\"type\":\"heatmapgl\",\"colorbar\":{\"outlinewidth\":0,\"ticks\":\"\"},\"colorscale\":[[0.0,\"#0d0887\"],[0.1111111111111111,\"#46039f\"],[0.2222222222222222,\"#7201a8\"],[0.3333333333333333,\"#9c179e\"],[0.4444444444444444,\"#bd3786\"],[0.5555555555555556,\"#d8576b\"],[0.6666666666666666,\"#ed7953\"],[0.7777777777777778,\"#fb9f3a\"],[0.8888888888888888,\"#fdca26\"],[1.0,\"#f0f921\"]]}],\"contourcarpet\":[{\"type\":\"contourcarpet\",\"colorbar\":{\"outlinewidth\":0,\"ticks\":\"\"}}],\"contour\":[{\"type\":\"contour\",\"colorbar\":{\"outlinewidth\":0,\"ticks\":\"\"},\"colorscale\":[[0.0,\"#0d0887\"],[0.1111111111111111,\"#46039f\"],[0.2222222222222222,\"#7201a8\"],[0.3333333333333333,\"#9c179e\"],[0.4444444444444444,\"#bd3786\"],[0.5555555555555556,\"#d8576b\"],[0.6666666666666666,\"#ed7953\"],[0.7777777777777778,\"#fb9f3a\"],[0.8888888888888888,\"#fdca26\"],[1.0,\"#f0f921\"]]}],\"surface\":[{\"type\":\"surface\",\"colorbar\":{\"outlinewidth\":0,\"ticks\":\"\"},\"colorscale\":[[0.0,\"#0d0887\"],[0.1111111111111111,\"#46039f\"],[0.2222222222222222,\"#7201a8\"],[0.3333333333333333,\"#9c179e\"],[0.4444444444444444,\"#bd3786\"],[0.5555555555555556,\"#d8576b\"],[0.6666666666666666,\"#ed7953\"],[0.7777777777777778,\"#fb9f3a\"],[0.8888888888888888,\"#fdca26\"],[1.0,\"#f0f921\"]]}],\"mesh3d\":[{\"type\":\"mesh3d\",\"colorbar\":{\"outlinewidth\":0,\"ticks\":\"\"}}],\"scatter\":[{\"fillpattern\":{\"fillmode\":\"overlay\",\"size\":10,\"solidity\":0.2},\"type\":\"scatter\"}],\"parcoords\":[{\"type\":\"parcoords\",\"line\":{\"colorbar\":{\"outlinewidth\":0,\"ticks\":\"\"}}}],\"scatterpolargl\":[{\"type\":\"scatterpolargl\",\"marker\":{\"colorbar\":{\"outlinewidth\":0,\"ticks\":\"\"}}}],\"bar\":[{\"error_x\":{\"color\":\"#2a3f5f\"},\"error_y\":{\"color\":\"#2a3f5f\"},\"marker\":{\"line\":{\"color\":\"#E5ECF6\",\"width\":0.5},\"pattern\":{\"fillmode\":\"overlay\",\"size\":10,\"solidity\":0.2}},\"type\":\"bar\"}],\"scattergeo\":[{\"type\":\"scattergeo\",\"marker\":{\"colorbar\":{\"outlinewidth\":0,\"ticks\":\"\"}}}],\"scatterpolar\":[{\"type\":\"scatterpolar\",\"marker\":{\"colorbar\":{\"outlinewidth\":0,\"ticks\":\"\"}}}],\"histogram\":[{\"marker\":{\"pattern\":{\"fillmode\":\"overlay\",\"size\":10,\"solidity\":0.2}},\"type\":\"histogram\"}],\"scattergl\":[{\"type\":\"scattergl\",\"marker\":{\"colorbar\":{\"outlinewidth\":0,\"ticks\":\"\"}}}],\"scatter3d\":[{\"type\":\"scatter3d\",\"line\":{\"colorbar\":{\"outlinewidth\":0,\"ticks\":\"\"}},\"marker\":{\"colorbar\":{\"outlinewidth\":0,\"ticks\":\"\"}}}],\"scattermapbox\":[{\"type\":\"scattermapbox\",\"marker\":{\"colorbar\":{\"outlinewidth\":0,\"ticks\":\"\"}}}],\"scatterternary\":[{\"type\":\"scatterternary\",\"marker\":{\"colorbar\":{\"outlinewidth\":0,\"ticks\":\"\"}}}],\"scattercarpet\":[{\"type\":\"scattercarpet\",\"marker\":{\"colorbar\":{\"outlinewidth\":0,\"ticks\":\"\"}}}],\"carpet\":[{\"aaxis\":{\"endlinecolor\":\"#2a3f5f\",\"gridcolor\":\"white\",\"linecolor\":\"white\",\"minorgridcolor\":\"white\",\"startlinecolor\":\"#2a3f5f\"},\"baxis\":{\"endlinecolor\":\"#2a3f5f\",\"gridcolor\":\"white\",\"linecolor\":\"white\",\"minorgridcolor\":\"white\",\"startlinecolor\":\"#2a3f5f\"},\"type\":\"carpet\"}],\"table\":[{\"cells\":{\"fill\":{\"color\":\"#EBF0F8\"},\"line\":{\"color\":\"white\"}},\"header\":{\"fill\":{\"color\":\"#C8D4E3\"},\"line\":{\"color\":\"white\"}},\"type\":\"table\"}],\"barpolar\":[{\"marker\":{\"line\":{\"color\":\"#E5ECF6\",\"width\":0.5},\"pattern\":{\"fillmode\":\"overlay\",\"size\":10,\"solidity\":0.2}},\"type\":\"barpolar\"}],\"pie\":[{\"automargin\":true,\"type\":\"pie\"}]},\"layout\":{\"autotypenumbers\":\"strict\",\"colorway\":[\"#636efa\",\"#EF553B\",\"#00cc96\",\"#ab63fa\",\"#FFA15A\",\"#19d3f3\",\"#FF6692\",\"#B6E880\",\"#FF97FF\",\"#FECB52\"],\"font\":{\"color\":\"#2a3f5f\"},\"hovermode\":\"closest\",\"hoverlabel\":{\"align\":\"left\"},\"paper_bgcolor\":\"white\",\"plot_bgcolor\":\"#E5ECF6\",\"polar\":{\"bgcolor\":\"#E5ECF6\",\"angularaxis\":{\"gridcolor\":\"white\",\"linecolor\":\"white\",\"ticks\":\"\"},\"radialaxis\":{\"gridcolor\":\"white\",\"linecolor\":\"white\",\"ticks\":\"\"}},\"ternary\":{\"bgcolor\":\"#E5ECF6\",\"aaxis\":{\"gridcolor\":\"white\",\"linecolor\":\"white\",\"ticks\":\"\"},\"baxis\":{\"gridcolor\":\"white\",\"linecolor\":\"white\",\"ticks\":\"\"},\"caxis\":{\"gridcolor\":\"white\",\"linecolor\":\"white\",\"ticks\":\"\"}},\"coloraxis\":{\"colorbar\":{\"outlinewidth\":0,\"ticks\":\"\"}},\"colorscale\":{\"sequential\":[[0.0,\"#0d0887\"],[0.1111111111111111,\"#46039f\"],[0.2222222222222222,\"#7201a8\"],[0.3333333333333333,\"#9c179e\"],[0.4444444444444444,\"#bd3786\"],[0.5555555555555556,\"#d8576b\"],[0.6666666666666666,\"#ed7953\"],[0.7777777777777778,\"#fb9f3a\"],[0.8888888888888888,\"#fdca26\"],[1.0,\"#f0f921\"]],\"sequentialminus\":[[0.0,\"#0d0887\"],[0.1111111111111111,\"#46039f\"],[0.2222222222222222,\"#7201a8\"],[0.3333333333333333,\"#9c179e\"],[0.4444444444444444,\"#bd3786\"],[0.5555555555555556,\"#d8576b\"],[0.6666666666666666,\"#ed7953\"],[0.7777777777777778,\"#fb9f3a\"],[0.8888888888888888,\"#fdca26\"],[1.0,\"#f0f921\"]],\"diverging\":[[0,\"#8e0152\"],[0.1,\"#c51b7d\"],[0.2,\"#de77ae\"],[0.3,\"#f1b6da\"],[0.4,\"#fde0ef\"],[0.5,\"#f7f7f7\"],[0.6,\"#e6f5d0\"],[0.7,\"#b8e186\"],[0.8,\"#7fbc41\"],[0.9,\"#4d9221\"],[1,\"#276419\"]]},\"xaxis\":{\"gridcolor\":\"white\",\"linecolor\":\"white\",\"ticks\":\"\",\"title\":{\"standoff\":15},\"zerolinecolor\":\"white\",\"automargin\":true,\"zerolinewidth\":2},\"yaxis\":{\"gridcolor\":\"white\",\"linecolor\":\"white\",\"ticks\":\"\",\"title\":{\"standoff\":15},\"zerolinecolor\":\"white\",\"automargin\":true,\"zerolinewidth\":2},\"scene\":{\"xaxis\":{\"backgroundcolor\":\"#E5ECF6\",\"gridcolor\":\"white\",\"linecolor\":\"white\",\"showbackground\":true,\"ticks\":\"\",\"zerolinecolor\":\"white\",\"gridwidth\":2},\"yaxis\":{\"backgroundcolor\":\"#E5ECF6\",\"gridcolor\":\"white\",\"linecolor\":\"white\",\"showbackground\":true,\"ticks\":\"\",\"zerolinecolor\":\"white\",\"gridwidth\":2},\"zaxis\":{\"backgroundcolor\":\"#E5ECF6\",\"gridcolor\":\"white\",\"linecolor\":\"white\",\"showbackground\":true,\"ticks\":\"\",\"zerolinecolor\":\"white\",\"gridwidth\":2}},\"shapedefaults\":{\"line\":{\"color\":\"#2a3f5f\"}},\"annotationdefaults\":{\"arrowcolor\":\"#2a3f5f\",\"arrowhead\":0,\"arrowwidth\":1},\"geo\":{\"bgcolor\":\"white\",\"landcolor\":\"#E5ECF6\",\"subunitcolor\":\"white\",\"showland\":true,\"showlakes\":true,\"lakecolor\":\"white\"},\"title\":{\"x\":0.05},\"mapbox\":{\"style\":\"light\"}}},\"xaxis\":{\"anchor\":\"y\",\"domain\":[0.0,1.0],\"scaleanchor\":\"y\",\"constrain\":\"domain\",\"title\":{\"text\":\"Longitude\"},\"tickangle\":0,\"tickmode\":\"array\",\"tickvals\":[-180,-150,-120,-90,-60,-30,0,30,60,90,120,150,180]},\"yaxis\":{\"anchor\":\"x\",\"domain\":[0.0,1.0],\"autorange\":\"reversed\",\"constrain\":\"domain\",\"title\":{\"text\":\"Latitude\"},\"tickangle\":0,\"tickmode\":\"array\",\"tickvals\":[-90,-60,-30,0,30,60,90]},\"coloraxis\":{\"colorbar\":{\"title\":{\"text\":\" [m/s]\"}},\"colorscale\":[[0.0,\"rgb(29, 79, 96)\"],[0.16666666666666666,\"rgb(38, 107, 110)\"],[0.3333333333333333,\"rgb(54, 135, 122)\"],[0.5,\"rgb(77, 162, 132)\"],[0.6666666666666666,\"rgb(109, 188, 144)\"],[0.8333333333333334,\"rgb(150, 210, 164)\"],[1.0,\"rgb(196, 230, 195)\"]]},\"margin\":{\"t\":60},\"height\":500,\"width\":1000,\"title\":{\"text\":\"DeltaV Map<br>Destination Gateway\",\"x\":0.45}},                        {\"responsive\": true}                    ).then(function(){\n",
       "                            \n",
       "var gd = document.getElementById('71119e35-1d09-49bd-9b21-5da0aed3e739');\n",
       "var x = new MutationObserver(function (mutations, observer) {{\n",
       "        var display = window.getComputedStyle(gd).display;\n",
       "        if (!display || display === 'none') {{\n",
       "            console.log([gd, 'removed!']);\n",
       "            Plotly.purge(gd);\n",
       "            observer.disconnect();\n",
       "        }}\n",
       "}});\n",
       "\n",
       "// Listen for the removal of the full notebook cells\n",
       "var notebookContainer = gd.closest('#notebook-container');\n",
       "if (notebookContainer) {{\n",
       "    x.observe(notebookContainer, {childList: true});\n",
       "}}\n",
       "\n",
       "// Listen for the clearing of the current output cell\n",
       "var outputEl = gd.closest('.output');\n",
       "if (outputEl) {{\n",
       "    x.observe(outputEl, {childList: true});\n",
       "}}\n",
       "\n",
       "                        })                };                });            </script>        </div>"
      ]
     },
     "metadata": {},
     "output_type": "display_data"
    }
   ],
   "source": [
    "colorbar_title = xA_fuel_mass_Gateway.attrs['var_desc'] + '<br>(%s)'%xA_fuel_mass_Gateway.attrs['units']\n",
    "\n",
    "#fig = px.imshow(results, color_continuous_scale='RdBu_r', aspect='equal')\n",
    "fig = px.imshow(img=xA_fuel_mass_Gateway,\n",
    "                width=1000,\n",
    "                height=500,\n",
    "                color_continuous_scale='blugrn_r',\n",
    "                aspect='equal')\n",
    "\n",
    "fig.update_xaxes(tickangle=0,\n",
    "                 tickmode = 'array',\n",
    "                 tickvals = [-180, -150, -120, -90, -60, -30, 0, 30, 60, 90, 120, 150, 180])\n",
    "fig.update_yaxes(tickangle=0,\n",
    "                 tickmode = 'array',\n",
    "                 tickvals = [-90,-60,-30,0,30,60,90])\n",
    "\n",
    "\n",
    "fig.update_layout(\n",
    "    xaxis_title='Longitude',\n",
    "    yaxis_title='Latitude',\n",
    "    title= 'DeltaV Map<br>Destination Gateway',\n",
    "    title_x=0.45\n",
    ")\n",
    "\n",
    "\n",
    "#fig.write_image(\"fig/dv1.pdf\")\n",
    "fig.write_image(\"doc/img/dv_Gateway.pdf\")\n",
    "fig.show()\n"
   ]
  },
  {
   "cell_type": "code",
   "execution_count": null,
   "metadata": {},
   "outputs": [],
   "source": [
    "#print(scenario.StartTime)\n",
    "#print(scenario.StopTime)"
   ]
  },
  {
   "cell_type": "code",
   "execution_count": null,
   "metadata": {},
   "outputs": [],
   "source": [
    "root.ExecuteCommand('SetState */Satellite/LeoSat Classical TwoBody \"' +\n",
    "                    str(scenario.StartTime) + '\" \"' + str(scenario.StopTime) +\n",
    "                    '\" 60 ICRF  \"' + str(scenario.StartTime) + '\" 7200000.0 0.0 90 0.0 0.0 0.0')"
   ]
  },
  {
   "cell_type": "code",
   "execution_count": null,
   "metadata": {},
   "outputs": [],
   "source": [
    "access = satellite.GetAccessToObject(target)\n",
    "access.ComputeAccess()"
   ]
  },
  {
   "cell_type": "code",
   "execution_count": null,
   "metadata": {},
   "outputs": [],
   "source": [
    "accessDP         = access.DataProviders.Item('Access Data')\n",
    "\n",
    "results          = accessDP.Exec(scenario.StartTime, scenario.StopTime)\n",
    "\n",
    "accessStartTimes = results.DataSets.GetDataSetByName('Start Time').GetValues()\n",
    "\n",
    "accessStopTimes  = results.DataSets.GetDataSetByName('Stop Time').GetValues()\n",
    "\n",
    "print(accessStartTimes,accessStopTimes)"
   ]
  },
  {
   "cell_type": "code",
   "execution_count": null,
   "metadata": {},
   "outputs": [],
   "source": [
    "accessIntervals = access.ComputedAccessIntervalTimes\n",
    "\n",
    "dataProviderElements = ['Start Time', 'Stop Time']\n",
    "\n",
    "for i in range(0,accessIntervals.Count):\n",
    "    times = accessIntervals.GetInterval(i)\n",
    "    print(times)"
   ]
  },
  {
   "cell_type": "markdown",
   "metadata": {},
   "source": [
    "### Retrieve the Satellite Altitude Data From STK\n",
    "\n",
    "Retrieve and view the altitude of the satellite during an access interval. In the following lines, note how the data providers must follow the data provider folder, sub-folder, and selection."
   ]
  },
  {
   "cell_type": "code",
   "execution_count": null,
   "metadata": {},
   "outputs": [],
   "source": [
    "satelliteDP       = satellite.DataProviders.Item('LLA State')\n",
    "\n",
    "satelliteDP2      = satelliteDP.Group.Item('Fixed')\n",
    "\n",
    "rptElements       = ['Time', 'Lat', 'Lon', 'Alt']\n",
    "\n",
    "satelliteDPTimeVar = satelliteDP2.ExecElements(accessStartTimes,accessStopTimes, 60, rptElements)\n",
    "\n",
    "satelliteAltitude = satelliteDPTimeVar.DataSets.GetDataSetByName('Alt').GetValues()\n",
    "\n",
    "print(satelliteAltitude)"
   ]
  },
  {
   "cell_type": "markdown",
   "metadata": {},
   "source": [
    "## Destination: Low Lunar Orbit (Equatorial)\n",
    "> open file \"Gateway_PROP_Mass_Point.sc\" in STK"
   ]
  },
  {
   "cell_type": "code",
   "execution_count": null,
   "metadata": {},
   "outputs": [],
   "source": [
    "# Get reference to the current instance of STK\n",
    "STK_PID = os.getenv('STK_PID')\n",
    "stk = STKDesktop.AttachToApplication(pid=int(STK_PID))\n",
    "root = stk.Root\n",
    "\n",
    "# rewind to initial datetime\n",
    "scenario = root.CurrentScenario\n",
    "scenario.SetTimePeriod('01 Jan 2022 00:00:00.000','03 Jan 2022 00:00:00.000')\n",
    "root.Rewind()\n",
    "\n",
    "# load existing Satellite and Place\n",
    "satellite = root.CurrentScenario.Children.Item('LLO_Sat_Eq')\n",
    "place_start = root.CurrentScenario.Children.Item('Start')\n",
    "place_start.Position.AssignGeodetic(0,0,0)"
   ]
  },
  {
   "cell_type": "markdown",
   "metadata": {
    "tags": []
   },
   "source": [
    "## Destination: Low Lunar Orbit (Polar)\n",
    "> open file \"Gateway_PROP_Mass_Point.sc\" in STK"
   ]
  },
  {
   "cell_type": "code",
   "execution_count": null,
   "metadata": {},
   "outputs": [],
   "source": [
    "# Get reference to the current instance of STK\n",
    "STK_PID = os.getenv('STK_PID')\n",
    "stk = STKDesktop.AttachToApplication(pid=int(STK_PID))\n",
    "root = stk.Root\n",
    "\n",
    "# rewind to initial datetime\n",
    "scenario = root.CurrentScenario\n",
    "scenario.SetTimePeriod('01 Jan 2022 00:00:00.000','03 Jan 2022 00:00:00.000')\n",
    "root.Rewind()\n",
    "\n",
    "# load existing Satellite and Place\n",
    "satellite = root.CurrentScenario.Children.Item('LLO_Sat_Pol')\n",
    "place_start = root.CurrentScenario.Children.Item('Start')\n",
    "place_start.Position.AssignGeodetic(0,0,0)"
   ]
  },
  {
   "cell_type": "markdown",
   "metadata": {},
   "source": [
    "## Destination: Lagrange Point (L1) - Earth Moon System\n",
    "> open file \"Gateway_PROP_Mass_Point.sc\" in STK"
   ]
  },
  {
   "cell_type": "markdown",
   "metadata": {},
   "source": [
    "## Destination: Low Earth Orbit (Equatorial) - Starship refuel\n",
    "> open file \"Gateway_PROP_Mass_Point.sc\" in STK"
   ]
  }
 ],
 "metadata": {
  "kernelspec": {
   "display_name": "Python 3 (ipykernel)",
   "language": "python",
   "name": "python3"
  },
  "language_info": {
   "codemirror_mode": {
    "name": "ipython",
    "version": 3
   },
   "file_extension": ".py",
   "mimetype": "text/x-python",
   "name": "python",
   "nbconvert_exporter": "python",
   "pygments_lexer": "ipython3",
   "version": "3.10.2"
  }
 },
 "nbformat": 4,
 "nbformat_minor": 4
}
