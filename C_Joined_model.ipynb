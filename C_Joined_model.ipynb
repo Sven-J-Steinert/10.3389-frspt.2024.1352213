{
 "cells": [
  {
   "cell_type": "markdown",
   "metadata": {
    "tags": []
   },
   "source": [
    "# <font style=\"color: rgb(0,0,0);\">Joined Model</font> <font style=\"color: rgb(190,138,67);\">Relevance Comparison</font>"
   ]
  },
  {
   "cell_type": "code",
   "execution_count": 9,
   "metadata": {},
   "outputs": [],
   "source": [
    "# imports\n",
    "import numpy as np\n",
    "import xarray as xr"
   ]
  },
  {
   "cell_type": "code",
   "execution_count": 17,
   "metadata": {},
   "outputs": [],
   "source": [
    "def info(dataset):\n",
    "    print(f'{dataset.dtype} {dataset.shape} data range: {np.min(dataset)} - {np.max(dataset)}')"
   ]
  },
  {
   "cell_type": "code",
   "execution_count": 18,
   "metadata": {},
   "outputs": [
    {
     "name": "stdout",
     "output_type": "stream",
     "text": [
      "float32 (13680, 27360) data range: 17054.625 - 157718.5\n"
     ]
    }
   ],
   "source": [
    "# A Result\n",
    "ISRU_data = xr.open_dataarray(\"maps/ISRU_COST_GLOBAL.nc\").data\n",
    "info(ISRU_data)"
   ]
  },
  {
   "cell_type": "code",
   "execution_count": 20,
   "metadata": {},
   "outputs": [
    {
     "name": "stdout",
     "output_type": "stream",
     "text": [
      "float32 (11520, 23040) data range: 3.1104774475097656 - 3.199880599975586\n",
      "float32 (11520, 23040) data range: 2.693203926086426 - 2.75943660736084\n"
     ]
    }
   ],
   "source": [
    "# B Results\n",
    "cost_map_NRHO_1_25 = xr.open_dataarray(\"maps/cost_map_NRHO_1_25.nc\").data\n",
    "cost_map_NRHO_1_5  = xr.open_dataarray(\"maps/cost_map_NRHO_1_5.nc\").data\n",
    "info(cost_map_NRHO_1_25)\n",
    "info(cost_map_NRHO_1_5)"
   ]
  },
  {
   "cell_type": "code",
   "execution_count": null,
   "metadata": {},
   "outputs": [],
   "source": []
  }
 ],
 "metadata": {
  "kernelspec": {
   "display_name": "Python 3 (ipykernel)",
   "language": "python",
   "name": "python3"
  },
  "language_info": {
   "codemirror_mode": {
    "name": "ipython",
    "version": 3
   },
   "file_extension": ".py",
   "mimetype": "text/x-python",
   "name": "python",
   "nbconvert_exporter": "python",
   "pygments_lexer": "ipython3",
   "version": "3.10.2"
  }
 },
 "nbformat": 4,
 "nbformat_minor": 4
}
