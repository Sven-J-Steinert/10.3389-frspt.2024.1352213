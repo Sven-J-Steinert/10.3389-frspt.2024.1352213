{
 "cells": [
  {
   "cell_type": "markdown",
   "metadata": {
    "tags": []
   },
   "source": [
    "# <font style=\"color: rgb(0,0,0);\">Joined Model</font> <font style=\"color: rgb(190,138,67);\">Relevance Comparison</font>"
   ]
  },
  {
   "cell_type": "code",
   "execution_count": 1,
   "metadata": {},
   "outputs": [],
   "source": [
    "# imports\n",
    "import numpy as np\n",
    "import xarray as xr"
   ]
  },
  {
   "cell_type": "code",
   "execution_count": 2,
   "metadata": {},
   "outputs": [
    {
     "name": "stdout",
     "output_type": "stream",
     "text": [
      "(13680, 27360)\n",
      "17054.625 - 157718.5\n"
     ]
    }
   ],
   "source": [
    "# A Result\n",
    "ISRU_data = xr.open_dataarray(\"maps/ISRU_COST_GLOBAL.nc\").data\n",
    "print(ISRU_data.shape)\n",
    "print(f'{np.min(ISRU_data)} - {np.max(ISRU_data)}')"
   ]
  },
  {
   "cell_type": "code",
   "execution_count": 3,
   "metadata": {},
   "outputs": [],
   "source": [
    "# B Results\n",
    "maxdv_costs_per_year = 63710.78 # [kg Fuel/ year]\n",
    "mindv_costs_per_year = 62180.87 # [kg Fuel/ year]\n",
    "# (23040, 11520)"
   ]
  },
  {
   "cell_type": "code",
   "execution_count": null,
   "metadata": {},
   "outputs": [],
   "source": []
  }
 ],
 "metadata": {
  "kernelspec": {
   "display_name": "Python 3 (ipykernel)",
   "language": "python",
   "name": "python3"
  },
  "language_info": {
   "codemirror_mode": {
    "name": "ipython",
    "version": 3
   },
   "file_extension": ".py",
   "mimetype": "text/x-python",
   "name": "python",
   "nbconvert_exporter": "python",
   "pygments_lexer": "ipython3",
   "version": "3.10.2"
  }
 },
 "nbformat": 4,
 "nbformat_minor": 4
}
